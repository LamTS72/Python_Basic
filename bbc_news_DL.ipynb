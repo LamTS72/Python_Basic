{
  "cells": [
    {
      "cell_type": "markdown",
      "id": "fb3d82e4-5188-48f8-be9a-a09e179a8f64",
      "metadata": {
        "id": "fb3d82e4-5188-48f8-be9a-a09e179a8f64"
      },
      "source": [
        "# References\n",
        "* [Bert for text classification](https://www.kaggle.com/code/joydeb28/text-classification-with-bert-pytorch)\n",
        "* [BBC-News](http://mlg.ucd.ie/datasets/bbc.html)"
      ]
    },
    {
      "cell_type": "code",
      "execution_count": null,
      "id": "46dac604-14fa-4bb8-ad58-71015297f653",
      "metadata": {
        "id": "46dac604-14fa-4bb8-ad58-71015297f653",
        "outputId": "34e88b1d-df4b-4bc0-e189-eeef49229b12"
      },
      "outputs": [
        {
          "name": "stdout",
          "output_type": "stream",
          "text": [
            "cuda\n"
          ]
        }
      ],
      "source": [
        "import numpy as np # linear algebra\n",
        "import pandas as pd # data processing, CSV file I/O (e.g. pd.read_csv)\n",
        "import json\n",
        "import os\n",
        "from sklearn.metrics import roc_curve\n",
        "from sklearn.metrics import accuracy_score\n",
        "from sklearn.metrics import f1_score\n",
        "from sklearn.model_selection import train_test_split\n",
        "import torch\n",
        "import torch.nn as nn\n",
        "from sklearn.model_selection import train_test_split\n",
        "from sklearn.metrics import classification_report\n",
        "import transformers\n",
        "from transformers import BertModel, BertTokenizer\n",
        "import warnings\n",
        "warnings.filterwarnings('ignore')\n",
        "# specify GPU\n",
        "device = torch.device(\"cuda\")\n",
        "print(device)\n",
        "\n"
      ]
    },
    {
      "cell_type": "markdown",
      "id": "32238f69-8b86-4098-aa67-76a9eb0010b8",
      "metadata": {
        "id": "32238f69-8b86-4098-aa67-76a9eb0010b8"
      },
      "source": [
        "# 1- Preparing data"
      ]
    },
    {
      "cell_type": "markdown",
      "id": "cb3edc2e-517c-4ede-956b-683d8b574d81",
      "metadata": {
        "id": "cb3edc2e-517c-4ede-956b-683d8b574d81"
      },
      "source": [
        "## 1.1- Downloading the dataset"
      ]
    },
    {
      "cell_type": "code",
      "execution_count": null,
      "id": "d5b3d5c6-1cf1-4032-aadf-044d67693c81",
      "metadata": {
        "id": "d5b3d5c6-1cf1-4032-aadf-044d67693c81",
        "outputId": "5316d505-e5ce-4e22-d25b-ca525bff5568"
      },
      "outputs": [
        {
          "name": "stdout",
          "output_type": "stream",
          "text": [
            "--2024-03-27 09:32:29--  http://mlg.ucd.ie/files/datasets/bbc-fulltext.zip\n",
            "Resolving mlg.ucd.ie (mlg.ucd.ie)... 137.43.93.132\n",
            "Connecting to mlg.ucd.ie (mlg.ucd.ie)|137.43.93.132|:80... connected.\n",
            "HTTP request sent, awaiting response... 200 OK\n",
            "Length: 2874079 (2.7M) [application/zip]\n",
            "Saving to: ‘bbc-fulltext.zip’\n",
            "\n",
            "bbc-fulltext.zip    100%[===================>]   2.74M  1.20MB/s    in 2.3s    \n",
            "\n",
            "2024-03-27 09:32:32 (1.20 MB/s) - ‘bbc-fulltext.zip’ saved [2874079/2874079]\n",
            "\n"
          ]
        }
      ],
      "source": [
        "!rm -f bbc-fulltext.zip\n",
        "!wget http://mlg.ucd.ie/files/datasets/bbc-fulltext.zip\n",
        "!rm -rf bbc\n",
        "!unzip -q bbc-fulltext.zip"
      ]
    },
    {
      "cell_type": "markdown",
      "id": "0cb3c9f5-e166-44ce-8322-e94d55a0c7a8",
      "metadata": {
        "id": "0cb3c9f5-e166-44ce-8322-e94d55a0c7a8"
      },
      "source": [
        "## 1.2- Building list of class names"
      ]
    },
    {
      "cell_type": "code",
      "execution_count": null,
      "id": "2697275f-5ed2-42f7-86c6-9f44cff43235",
      "metadata": {
        "id": "2697275f-5ed2-42f7-86c6-9f44cff43235"
      },
      "outputs": [],
      "source": [
        "import os\n",
        "from sklearn.preprocessing import LabelEncoder\n",
        "\n",
        "path = \"./bbc\"\n",
        "class_names = os.listdir(path)\n",
        "class_names = [p for p in class_names if os.path.isdir(os.path.join(path, p))]\n",
        "class_names\n",
        "lb_encoder = LabelEncoder().fit(class_names)\n",
        "class_idx = lb_encoder.transform(class_names)\n"
      ]
    },
    {
      "cell_type": "code",
      "execution_count": null,
      "id": "d364c105-898a-4a54-8d22-62887854bb42",
      "metadata": {
        "id": "d364c105-898a-4a54-8d22-62887854bb42",
        "outputId": "b7585f70-2296-422b-b726-bf77a99cb80a"
      },
      "outputs": [
        {
          "name": "stdout",
          "output_type": "stream",
          "text": [
            "2225\n",
            "2225\n"
          ]
        }
      ],
      "source": [
        "all_files = []\n",
        "labels = []\n",
        "for label in class_names:\n",
        "  files = os.listdir(os.path.join(path, label))\n",
        "  files = [os.path.join(path, label, p) for p in files if p.endswith('.txt')]\n",
        "  all_files = all_files + files\n",
        "  labels = labels + [label]*len(files)\n",
        "\n",
        "text = []\n",
        "for file in all_files:\n",
        "  with open(file) as f:\n",
        "    lines = f.readlines()\n",
        "    f.close()\n",
        "  text.append(\" \".join(lines))\n",
        "\n",
        "print(len(text))\n",
        "print(len(labels))"
      ]
    },
    {
      "cell_type": "code",
      "execution_count": null,
      "id": "11d2b532-c283-4190-b3d0-ab0994d240c8",
      "metadata": {
        "id": "11d2b532-c283-4190-b3d0-ab0994d240c8",
        "outputId": "689104d2-38a6-47fd-bca9-a909b7df6d2b"
      },
      "outputs": [
        {
          "name": "stdout",
          "output_type": "stream",
          "text": [
            "<class 'pandas.core.frame.DataFrame'>\n",
            "RangeIndex: 2225 entries, 0 to 2224\n",
            "Data columns (total 2 columns):\n",
            " #   Column  Non-Null Count  Dtype \n",
            "---  ------  --------------  ----- \n",
            " 0   text    2225 non-null   object\n",
            " 1   labels  2225 non-null   object\n",
            "dtypes: object(2)\n",
            "memory usage: 34.9+ KB\n"
          ]
        }
      ],
      "source": [
        "import pandas as pd\n",
        "\n",
        "data_table = pd.DataFrame({\n",
        "    \"text\": text,\n",
        "    \"labels\": labels\n",
        "})\n",
        "data_table.info()"
      ]
    },
    {
      "cell_type": "code",
      "execution_count": null,
      "id": "6639b92b-b055-4119-84f9-069f1120d04f",
      "metadata": {
        "id": "6639b92b-b055-4119-84f9-069f1120d04f",
        "outputId": "d1db0f17-54d8-434e-c9c3-caa6ef016572"
      },
      "outputs": [
        {
          "data": {
            "text/plain": [
              "labels\n",
              "sport            511\n",
              "business         510\n",
              "politics         417\n",
              "tech             401\n",
              "entertainment    386\n",
              "Name: count, dtype: int64"
            ]
          },
          "execution_count": 7,
          "metadata": {},
          "output_type": "execute_result"
        }
      ],
      "source": [
        "data_table.labels.value_counts()"
      ]
    },
    {
      "cell_type": "code",
      "execution_count": null,
      "id": "5acc3b38-01e8-43cf-b6d0-590e26f9b5e7",
      "metadata": {
        "id": "5acc3b38-01e8-43cf-b6d0-590e26f9b5e7",
        "outputId": "f81e180f-15ce-4377-8b9f-3afbf69ca0a8"
      },
      "outputs": [
        {
          "data": {
            "text/plain": [
              "<AxesSubplot:xlabel='labels'>"
            ]
          },
          "execution_count": 8,
          "metadata": {},
          "output_type": "execute_result"
        },
        {
          "data": {
            "image/png": "[encoded data removed]",
            "text/plain": [
              "<Figure size 640x480 with 1 Axes>"
            ]
          },
          "metadata": {},
          "output_type": "display_data"
        }
      ],
      "source": [
        "data_table.labels.value_counts().plot(kind=\"bar\")"
      ]
    },
    {
      "cell_type": "code",
      "execution_count": null,
      "id": "c2d13083-7852-47ce-a68b-0eb304eb6ccc",
      "metadata": {
        "id": "c2d13083-7852-47ce-a68b-0eb304eb6ccc"
      },
      "outputs": [],
      "source": [
        "from sklearn.model_selection import train_test_split\n",
        "train_table, test_table = train_test_split(data_table, test_size=0.2, random_state=2023)\n",
        "train_table, valid_table = train_test_split(train_table, test_size=0.2, random_state=2023)"
      ]
    },
    {
      "cell_type": "code",
      "execution_count": null,
      "id": "df167895-e1cf-495e-99e2-3574d3db1fb9",
      "metadata": {
        "id": "df167895-e1cf-495e-99e2-3574d3db1fb9",
        "outputId": "c8f577df-4895-49a0-b2f6-77321318b8f6"
      },
      "outputs": [
        {
          "name": "stdout",
          "output_type": "stream",
          "text": [
            "<class 'pandas.core.frame.DataFrame'>\n",
            "Index: 1424 entries, 1971 to 16\n",
            "Data columns (total 2 columns):\n",
            " #   Column  Non-Null Count  Dtype \n",
            "---  ------  --------------  ----- \n",
            " 0   text    1424 non-null   object\n",
            " 1   labels  1424 non-null   object\n",
            "dtypes: object(2)\n",
            "memory usage: 33.4+ KB\n"
          ]
        }
      ],
      "source": [
        "train_table.info()"
      ]
    },
    {
      "cell_type": "code",
      "execution_count": null,
      "id": "6b5c721f-0f7b-45f5-bffa-73e5202702d1",
      "metadata": {
        "id": "6b5c721f-0f7b-45f5-bffa-73e5202702d1",
        "outputId": "de48a8f5-333b-4c30-b3b2-57b9f31e4b2e"
      },
      "outputs": [
        {
          "name": "stdout",
          "output_type": "stream",
          "text": [
            "<class 'pandas.core.frame.DataFrame'>\n",
            "Index: 356 entries, 1084 to 695\n",
            "Data columns (total 2 columns):\n",
            " #   Column  Non-Null Count  Dtype \n",
            "---  ------  --------------  ----- \n",
            " 0   text    356 non-null    object\n",
            " 1   labels  356 non-null    object\n",
            "dtypes: object(2)\n",
            "memory usage: 8.3+ KB\n"
          ]
        }
      ],
      "source": [
        "valid_table.info()"
      ]
    },
    {
      "cell_type": "code",
      "execution_count": null,
      "id": "e2835d80-5d6f-4be0-9190-7a8c8d7d86fd",
      "metadata": {
        "id": "e2835d80-5d6f-4be0-9190-7a8c8d7d86fd",
        "outputId": "e9389ece-1c62-4c6b-ff55-621773839d6e"
      },
      "outputs": [
        {
          "name": "stdout",
          "output_type": "stream",
          "text": [
            "<class 'pandas.core.frame.DataFrame'>\n",
            "Index: 445 entries, 294 to 1139\n",
            "Data columns (total 2 columns):\n",
            " #   Column  Non-Null Count  Dtype \n",
            "---  ------  --------------  ----- \n",
            " 0   text    445 non-null    object\n",
            " 1   labels  445 non-null    object\n",
            "dtypes: object(2)\n",
            "memory usage: 10.4+ KB\n"
          ]
        }
      ],
      "source": [
        "test_table.info()"
      ]
    },
    {
      "cell_type": "code",
      "execution_count": null,
      "id": "deb1370d-8572-4c70-aae8-f6e307a33afa",
      "metadata": {
        "id": "deb1370d-8572-4c70-aae8-f6e307a33afa",
        "outputId": "224daf5b-4088-4fb8-bdfa-d1ad2c3cc034"
      },
      "outputs": [
        {
          "data": {
            "text/plain": [
              "'Show over for MTV\\'s The Osbournes\\n \\n Rock star Ozzy Osbourne has said his family will not make any more episodes of reality TV show The Osbournes.\\n \\n \"At the end of it I didn\\'t like having cameras around the house all the time,\" the Black Sabbath singer told reporters at the MTV Europe Awards in Rome. His wife Sharon, who also appears in the popular MTV show based on the Osbournes\\' family life, agreed. \"Now everybody\\'s doing reality shows. He\\'s done it, he\\'s been there, he\\'s got to do something else,\" she said.\\n \\n Ozzy Osbourne said he had had enough of the work involved in making the series. \"When you watch a 25-minute episode, I\\'ve been filming all day,\" he said. Sharon Osbourne is currently appearing as a judge and mentor in ITV1 talent show The X-Factor alongside Simon Cowell and Louis Walsh.\\n \\n Earlier this year she topped a poll of the most important people in rock, for her part in guiding the career of husband Ozzy and her family. She was the driving force behind The Osbournes, which ran for three series, earning the family a reported $85m (£46m). The renewed popularity for Ozzy has seen sales of his merchandise hit the $50m (£27.2m) mark, a record for a heavy metal artist. Sales of T-shirts, accessories and action figures have rocketed since The Osbournes hit screens. At its peak, The Osbournes had a regular audience of eight million, with America\\'s TV Guide magazine describing the series as \"a cross between The Simpsons and This Is Spinal Tap\". Osbourne himself was at a loss to explain its popularity: \"I suppose Americans get a kick out of watching a crazy Brit family like us make complete fools of ourselves every week.\"\\n'"
            ]
          },
          "execution_count": 13,
          "metadata": {},
          "output_type": "execute_result"
        }
      ],
      "source": [
        "train_table.iloc[10][\"text\"]"
      ]
    },
    {
      "cell_type": "code",
      "execution_count": null,
      "id": "2a9f45d7-9426-4a47-818e-2480e9083690",
      "metadata": {
        "id": "2a9f45d7-9426-4a47-818e-2480e9083690"
      },
      "outputs": [],
      "source": [
        "train_text, valid_text, test_text = [table[\"text\"].tolist() for table in [train_table, valid_table, test_table]]\n",
        "train_labelidx, valid_labelidx, test_labelidx = [lb_encoder.transform(table[\"labels\"]).tolist() for table in [train_table, valid_table, test_table]]\n"
      ]
    },
    {
      "cell_type": "markdown",
      "id": "740976cc-3761-4e24-92e8-2cd0f58c382c",
      "metadata": {
        "id": "740976cc-3761-4e24-92e8-2cd0f58c382c"
      },
      "source": [
        "# Tokenizer"
      ]
    },
    {
      "cell_type": "code",
      "execution_count": null,
      "id": "34d59232-8c03-4258-81e2-1026d5a945b3",
      "metadata": {
        "id": "34d59232-8c03-4258-81e2-1026d5a945b3"
      },
      "outputs": [],
      "source": [
        "from torch.utils.data import TensorDataset, DataLoader, RandomSampler, SequentialSampler\n",
        "\n",
        "\n",
        "class Tokenizer(object):\n",
        "    def __init__(self, pretrained_name=\"bert-base-uncased\", max_seq_len=512):\n",
        "        self.pretrained_name = pretrained_name\n",
        "        self.max_seq_len = max_seq_len\n",
        "        self.tokenizer = BertTokenizer.from_pretrained(pretrained_name)\n",
        "\n",
        "    def tokenize(self, text):\n",
        "        tokens = self.tokenizer.batch_encode_plus(\n",
        "            text,\n",
        "            max_length = self.max_seq_len,\n",
        "            pad_to_max_length=True,\n",
        "            truncation=True,\n",
        "            return_token_type_ids=False\n",
        "        )\n",
        "        return tokens\n",
        "\n",
        "tokenizer = Tokenizer()\n",
        "train_tokens, valid_tokens, test_tokens = [tokenizer.tokenize(text) for text in [train_text, valid_text, test_text]]\n",
        "train_seq, train_mask, train_y = [torch.tensor(data) for data in [train_tokens['input_ids'], train_tokens['attention_mask'], train_labelidx]]\n",
        "valid_seq, valid_mask, valid_y = [torch.tensor(data) for data in [valid_tokens['input_ids'], valid_tokens['attention_mask'], valid_labelidx]]\n",
        "test_seq, test_mask, test_y = [torch.tensor(data) for data in [test_tokens['input_ids'], test_tokens['attention_mask'], test_labelidx]]\n",
        "\n",
        "train_tensor = TensorDataset(train_seq, train_mask, train_y)\n",
        "valid_tensor = TensorDataset(valid_seq, valid_mask, valid_y)\n",
        "test_tensor = TensorDataset(test_seq, test_mask, test_y)\n",
        "\n",
        "batch_size = 16\n",
        "\n",
        "train_loader = DataLoader(train_tensor, batch_size=batch_size, shuffle=True)\n",
        "valid_loader = DataLoader(valid_tensor, batch_size=batch_size, shuffle=False)\n",
        "test_loader = DataLoader(test_tensor, batch_size=batch_size, shuffle=False)\n"
      ]
    },
    {
      "cell_type": "code",
      "execution_count": null,
      "id": "7525de6e-6054-49e3-95f7-a9b53d289c7d",
      "metadata": {
        "id": "7525de6e-6054-49e3-95f7-a9b53d289c7d",
        "outputId": "c27070ab-e5c5-46af-e15e-865b60a758f6"
      },
      "outputs": [
        {
          "name": "stdout",
          "output_type": "stream",
          "text": [
            "torch.Size([16, 512]) torch.Size([16, 512]) torch.Size([16]) [3, 4, 3, 2, 0, 3, 0, 1, 2, 1, 1, 3, 3, 3, 0, 4]\n",
            "torch.Size([16, 512]) torch.Size([16, 512]) torch.Size([16]) [0, 4, 1, 2, 3, 3, 3, 4, 0, 2, 3, 4, 0, 4, 3, 3]\n",
            "torch.Size([16, 512]) torch.Size([16, 512]) torch.Size([16]) [2, 1, 2, 1, 3, 0, 1, 1, 2, 0, 2, 1, 1, 1, 3, 2]\n",
            "torch.Size([16, 512]) torch.Size([16, 512]) torch.Size([16]) [2, 4, 0, 0, 4, 3, 3, 2, 2, 3, 3, 4, 1, 4, 3, 3]\n",
            "torch.Size([16, 512]) torch.Size([16, 512]) torch.Size([16]) [3, 1, 2, 2, 1, 4, 4, 1, 2, 1, 3, 3, 0, 0, 4, 3]\n",
            "torch.Size([16, 512]) torch.Size([16, 512]) torch.Size([16]) [1, 0, 4, 1, 1, 0, 0, 4, 2, 3, 0, 0, 1, 0, 3, 3]\n",
            "torch.Size([16, 512]) torch.Size([16, 512]) torch.Size([16]) [2, 4, 1, 4, 0, 2, 1, 0, 3, 2, 3, 1, 4, 3, 4, 3]\n"
          ]
        }
      ],
      "source": [
        "for idx, (seq, mask, y) in enumerate(train_loader):\n",
        "    print(seq.shape, mask.shape, y.shape, y.tolist())\n",
        "    if idx > 5:\n",
        "        break\n",
        ""
      ]
    },
    {
      "cell_type": "markdown",
      "id": "50d7c839-53eb-461e-bbf0-522c2036952f",
      "metadata": {
        "id": "50d7c839-53eb-461e-bbf0-522c2036952f"
      },
      "source": [
        "# 2- Defining Model"
      ]
    },
    {
      "cell_type": "code",
      "execution_count": null,
      "id": "466d2428-5b74-4023-8d2b-6f0b6bd710ee",
      "metadata": {
        "id": "466d2428-5b74-4023-8d2b-6f0b6bd710ee"
      },
      "outputs": [],
      "source": [
        "%load_ext autoreload\n",
        "%autoreload 2\n",
        "\n",
        "\n",
        "import torch.nn.functional as F\n",
        "import utils\n",
        "\n",
        "class NewsClassifier(utils.BaseModel):\n",
        "    def __init__(self, nclasses, pretrained_name=\"bert-base-uncased\"):\n",
        "        super().__init__()\n",
        "\n",
        "        self.nclasses = nclasses\n",
        "        self.pretrained_name = pretrained_name\n",
        "        self.feature_extractor = BertModel.from_pretrained(pretrained_name)\n",
        "        for param in self.feature_extractor.parameters(): # dot not learn\n",
        "            param.requires_grad = False\n",
        "        #\n",
        "        self.dropout = nn.Dropout(0.1)\n",
        "        self.fc1 = nn.Linear(768,512)\n",
        "        self.fc2 = nn.Linear(512,self.nclasses)\n",
        "\n",
        "    def forward(self, token_ids, mask):\n",
        "        feature = self.feature_extractor(token_ids, attention_mask=mask)\n",
        "        cls_feature = feature.last_hidden_state[:, 0, :]\n",
        "        x = self.dropout(F.relu(self.fc1(cls_feature)))\n",
        "        x = self.fc2(x)\n",
        "        return x\n",
        "\n",
        "    @staticmethod\n",
        "    def from_pretrained(nclasses, path_to_model):\n",
        "        checkpoint = torch.load(path_to_model)\n",
        "        if 'loss_meter.weight' in list(checkpoint['model'].keys()):\n",
        "            del checkpoint['model']['loss_meter.weight']\n",
        "        pretrained_model = NewsClassifier(nclasses)\n",
        "        pretrained_model.load_state_dict(checkpoint['model'])\n",
        "        return pretrained_model\n",
        "\n",
        "class Predictor(NewsClassifier):\n",
        "    def __init__(self, idx2name, nclasses=5, pretrained_name=\"bert-base-uncased\"):\n",
        "        super().__init__(nclasses, pretrained_name)\n",
        "        self.idx2name = idx2name\n",
        "\n",
        "    def from_pretrained(self, path_to_model):\n",
        "        checkpoint = torch.load(path_to_model)\n",
        "        if 'loss_meter.weight' in list(checkpoint['model'].keys()):\n",
        "            del checkpoint['model']['loss_meter.weight']\n",
        "        self.load_state_dict(checkpoint['model'])\n",
        "        return self\n",
        "\n",
        "    def predict(self, text):\n",
        "        \"\"\"\n",
        "        text: text | list of texts\n",
        "        \"\"\"\n",
        "        if isinstance(text, str):\n",
        "            text = [text]\n",
        "        elif not isinstance(text, list):\n",
        "            raise Exception(f\"type of text = {type(text)}: not supported.\")\n",
        "        else:\n",
        "            pass\n",
        "        #\n",
        "        tokenizer = Tokenizer()\n",
        "        tokens = tokenizer.tokenize(text)\n",
        "        seqs, masks = [torch.tensor(data) for data in [tokens['input_ids'], tokens['attention_mask']]]\n",
        "        preds = super().forward(seqs, masks)\n",
        "        preds = F.softmax(preds)\n",
        "        preds = preds.detach().cpu().numpy()\n",
        "        preds = np.argmax(preds, axis=-1).tolist()\n",
        "        names = [self.idx2name[idx] for idx in preds]\n",
        "        return names\n",
        "\n",
        "####\n",
        "model = NewsClassifier(len(class_names))\n",
        "model = model.to(device)"
      ]
    },
    {
      "cell_type": "code",
      "execution_count": null,
      "id": "5c35bd73-e4e6-4c1f-ab0b-b444346b4449",
      "metadata": {
        "id": "5c35bd73-e4e6-4c1f-ab0b-b444346b4449",
        "outputId": "263bd3dc-df06-4dcc-85bd-f08ca5c00853"
      },
      "outputs": [
        {
          "name": "stderr",
          "output_type": "stream",
          "text": [
            "Epoch:  1/40 | Batch: 89/89:   2%|▎         | 89/3560 [00:12<07:37,  7.58it/s]"
          ]
        },
        {
          "name": "stdout",
          "output_type": "stream",
          "text": [
            "                        Loss(per-sample)       accuracy      precision         recall       f1_score\n",
            "Training summary                  0.0263         0.8617         0.8578         0.8582         0.8575\n",
            "Validation summary                0.0105         0.9438         0.9417         0.9494         0.9421\n"
          ]
        },
        {
          "name": "stderr",
          "output_type": "stream",
          "text": [
            "Epoch:  2/40 | Batch: 89/89:   5%|▌         | 178/3560 [00:27<07:27,  7.56it/s] "
          ]
        },
        {
          "name": "stdout",
          "output_type": "stream",
          "text": [
            "                        Loss(per-sample)       accuracy      precision         recall       f1_score\n",
            "Training summary                  0.0076         0.9635         0.9622         0.9629         0.9625\n",
            "Validation summary                0.0093         0.9579         0.9540         0.9600         0.9557\n"
          ]
        },
        {
          "name": "stderr",
          "output_type": "stream",
          "text": [
            "Epoch:  3/40 | Batch: 89/89:   8%|▊         | 267/3560 [00:42<07:18,  7.51it/s]"
          ]
        },
        {
          "name": "stdout",
          "output_type": "stream",
          "text": [
            "                        Loss(per-sample)       accuracy      precision         recall       f1_score\n",
            "Training summary                  0.0061         0.9656         0.9641         0.9660         0.9650\n",
            "Validation summary                0.0067         0.9691         0.9663         0.9710         0.9682\n"
          ]
        },
        {
          "name": "stderr",
          "output_type": "stream",
          "text": [
            "Epoch:  4/40 | Batch: 89/89:  10%|█         | 356/3560 [00:56<07:07,  7.49it/s]"
          ]
        },
        {
          "name": "stdout",
          "output_type": "stream",
          "text": [
            "                        Loss(per-sample)       accuracy      precision         recall       f1_score\n",
            "Training summary                  0.0046         0.9747         0.9744         0.9743         0.9744\n",
            "Validation summary                0.0059         0.9747         0.9720         0.9770         0.9742\n"
          ]
        },
        {
          "name": "stderr",
          "output_type": "stream",
          "text": [
            "Epoch:  5/40 | Batch: 89/89:  12%|█▎        | 445/3560 [01:11<06:56,  7.49it/s]"
          ]
        },
        {
          "name": "stdout",
          "output_type": "stream",
          "text": [
            "                        Loss(per-sample)       accuracy      precision         recall       f1_score\n",
            "Training summary                  0.0036         0.9754         0.9748         0.9764         0.9754\n",
            "Validation summary                0.0111         0.9551         0.9526         0.9576         0.9535\n"
          ]
        },
        {
          "name": "stderr",
          "output_type": "stream",
          "text": [
            "Epoch:  6/40 | Batch: 89/89:  15%|█▌        | 534/3560 [01:26<06:45,  7.46it/s]"
          ]
        },
        {
          "name": "stdout",
          "output_type": "stream",
          "text": [
            "                        Loss(per-sample)       accuracy      precision         recall       f1_score\n",
            "Training summary                  0.0054         0.9698         0.9689         0.9704         0.9696\n",
            "Validation summary                0.0088         0.9635         0.9627         0.9639         0.9623\n"
          ]
        },
        {
          "name": "stderr",
          "output_type": "stream",
          "text": [
            "Epoch:  7/40 | Batch: 89/89:  18%|█▊        | 623/3560 [01:40<06:33,  7.46it/s]"
          ]
        },
        {
          "name": "stdout",
          "output_type": "stream",
          "text": [
            "                        Loss(per-sample)       accuracy      precision         recall       f1_score\n",
            "Training summary                  0.0042         0.9754         0.9754         0.9755         0.9754\n",
            "Validation summary                0.0163         0.9326         0.9465         0.9325         0.9360\n"
          ]
        },
        {
          "name": "stderr",
          "output_type": "stream",
          "text": [
            "Epoch:  8/40 | Batch: 89/89:  20%|██        | 712/3560 [01:56<06:20,  7.48it/s]  "
          ]
        },
        {
          "name": "stdout",
          "output_type": "stream",
          "text": [
            "                        Loss(per-sample)       accuracy      precision         recall       f1_score\n",
            "Training summary                  0.0033         0.9810         0.9805         0.9807         0.9806\n",
            "Validation summary                0.0067         0.9635         0.9651         0.9649         0.9649\n"
          ]
        },
        {
          "name": "stderr",
          "output_type": "stream",
          "text": [
            "Epoch:  9/40 | Batch: 89/89:  22%|██▎       | 801/3560 [02:11<06:09,  7.47it/s]"
          ]
        },
        {
          "name": "stdout",
          "output_type": "stream",
          "text": [
            "                        Loss(per-sample)       accuracy      precision         recall       f1_score\n",
            "Training summary                  0.0027         0.9853         0.9840         0.9849         0.9844\n",
            "Validation summary                0.0083         0.9747         0.9722         0.9750         0.9731\n"
          ]
        },
        {
          "name": "stderr",
          "output_type": "stream",
          "text": [
            "Epoch: 10/40 | Batch: 89/89:  25%|██▌       | 890/3560 [02:26<05:59,  7.43it/s]"
          ]
        },
        {
          "name": "stdout",
          "output_type": "stream",
          "text": [
            "                        Loss(per-sample)       accuracy      precision         recall       f1_score\n",
            "Training summary                  0.0039         0.9789         0.9781         0.9792         0.9786\n",
            "Validation summary                0.0141         0.9522         0.9501         0.9550         0.9511\n"
          ]
        },
        {
          "name": "stderr",
          "output_type": "stream",
          "text": [
            "Epoch: 11/40 | Batch: 89/89:  28%|██▊       | 979/3560 [02:40<05:48,  7.40it/s]"
          ]
        },
        {
          "name": "stdout",
          "output_type": "stream",
          "text": [
            "                        Loss(per-sample)       accuracy      precision         recall       f1_score\n",
            "Training summary                  0.0033         0.9789         0.9786         0.9783         0.9784\n",
            "Validation summary                0.0120         0.9579         0.9577         0.9599         0.9573\n"
          ]
        },
        {
          "name": "stderr",
          "output_type": "stream",
          "text": [
            "Epoch: 12/40 | Batch: 89/89:  30%|███       | 1068/3560 [02:55<05:36,  7.42it/s]"
          ]
        },
        {
          "name": "stdout",
          "output_type": "stream",
          "text": [
            "                        Loss(per-sample)       accuracy      precision         recall       f1_score\n",
            "Training summary                  0.0022         0.9881         0.9873         0.9881         0.9877\n",
            "Validation summary                0.0143         0.9494         0.9626         0.9494         0.9534\n"
          ]
        },
        {
          "name": "stderr",
          "output_type": "stream",
          "text": [
            "Epoch: 13/40 | Batch: 89/89:  32%|███▎      | 1157/3560 [03:10<05:23,  7.42it/s]"
          ]
        },
        {
          "name": "stdout",
          "output_type": "stream",
          "text": [
            "                        Loss(per-sample)       accuracy      precision         recall       f1_score\n",
            "Training summary                  0.0016         0.9881         0.9872         0.9883         0.9877\n",
            "Validation summary                0.0106         0.9691         0.9702         0.9695         0.9693\n"
          ]
        },
        {
          "name": "stderr",
          "output_type": "stream",
          "text": [
            "Epoch: 14/40 | Batch: 89/89:  35%|███▌      | 1246/3560 [03:25<05:12,  7.40it/s]"
          ]
        },
        {
          "name": "stdout",
          "output_type": "stream",
          "text": [
            "                        Loss(per-sample)       accuracy      precision         recall       f1_score\n",
            "Training summary                  0.0025         0.9874         0.9872         0.9877         0.9875\n",
            "Validation summary                0.0179         0.9410         0.9463         0.9429         0.9415\n"
          ]
        },
        {
          "name": "stderr",
          "output_type": "stream",
          "text": [
            "Epoch: 15/40 | Batch: 89/89:  38%|███▊      | 1335/3560 [03:40<05:01,  7.38it/s]"
          ]
        },
        {
          "name": "stdout",
          "output_type": "stream",
          "text": [
            "                        Loss(per-sample)       accuracy      precision         recall       f1_score\n",
            "Training summary                  0.0019         0.9909         0.9906         0.9906         0.9906\n",
            "Validation summary                0.0118         0.9607         0.9631         0.9643         0.9626\n"
          ]
        },
        {
          "name": "stderr",
          "output_type": "stream",
          "text": [
            "Epoch: 16/40 | Batch: 89/89:  40%|████      | 1424/3560 [03:55<04:48,  7.40it/s]"
          ]
        },
        {
          "name": "stdout",
          "output_type": "stream",
          "text": [
            "                        Loss(per-sample)       accuracy      precision         recall       f1_score\n",
            "Training summary                  0.0014         0.9930         0.9931         0.9933         0.9932\n",
            "Validation summary                0.0067         0.9747         0.9766         0.9744         0.9753\n"
          ]
        },
        {
          "name": "stderr",
          "output_type": "stream",
          "text": [
            "Epoch: 17/40 | Batch: 89/89:  42%|████▎     | 1513/3560 [04:10<04:37,  7.37it/s]"
          ]
        },
        {
          "name": "stdout",
          "output_type": "stream",
          "text": [
            "                        Loss(per-sample)       accuracy      precision         recall       f1_score\n",
            "Training summary                  0.0010         0.9958         0.9954         0.9961         0.9957\n",
            "Validation summary                0.0125         0.9635         0.9665         0.9667         0.9655\n"
          ]
        },
        {
          "name": "stderr",
          "output_type": "stream",
          "text": [
            "Epoch: 18/40 | Batch: 89/89:  45%|████▌     | 1602/3560 [04:25<04:25,  7.37it/s]"
          ]
        },
        {
          "name": "stdout",
          "output_type": "stream",
          "text": [
            "                        Loss(per-sample)       accuracy      precision         recall       f1_score\n",
            "Training summary                  0.0021         0.9881         0.9881         0.9881         0.9881\n",
            "Validation summary                0.0103         0.9663         0.9684         0.9691         0.9679\n"
          ]
        },
        {
          "name": "stderr",
          "output_type": "stream",
          "text": [
            "Epoch: 19/40 | Batch: 89/89:  48%|████▊     | 1691/3560 [04:40<04:13,  7.37it/s]"
          ]
        },
        {
          "name": "stdout",
          "output_type": "stream",
          "text": [
            "                        Loss(per-sample)       accuracy      precision         recall       f1_score\n",
            "Training summary                  0.0019         0.9895         0.9889         0.9897         0.9893\n",
            "Validation summary                0.0223         0.9382         0.9521         0.9408         0.9430\n"
          ]
        },
        {
          "name": "stderr",
          "output_type": "stream",
          "text": [
            "Epoch: 20/40 | Batch: 89/89:  50%|█████     | 1780/3560 [04:55<04:01,  7.36it/s]"
          ]
        },
        {
          "name": "stdout",
          "output_type": "stream",
          "text": [
            "                        Loss(per-sample)       accuracy      precision         recall       f1_score\n",
            "Training summary                  0.0012         0.9916         0.9911         0.9910         0.9910\n",
            "Validation summary                0.0119         0.9775         0.9754         0.9783         0.9766\n"
          ]
        },
        {
          "name": "stderr",
          "output_type": "stream",
          "text": [
            "Epoch: 21/40 | Batch: 89/89:  52%|█████▎    | 1869/3560 [05:10<03:49,  7.36it/s]"
          ]
        },
        {
          "name": "stdout",
          "output_type": "stream",
          "text": [
            "                        Loss(per-sample)       accuracy      precision         recall       f1_score\n",
            "Training summary                  0.0020         0.9888         0.9882         0.9886         0.9884\n",
            "Validation summary                0.0176         0.9522         0.9517         0.9549         0.9512\n"
          ]
        },
        {
          "name": "stderr",
          "output_type": "stream",
          "text": [
            "Epoch: 22/40 | Batch: 89/89:  55%|█████▌    | 1958/3560 [05:25<03:38,  7.34it/s]"
          ]
        },
        {
          "name": "stdout",
          "output_type": "stream",
          "text": [
            "                        Loss(per-sample)       accuracy      precision         recall       f1_score\n",
            "Training summary                  0.0024         0.9895         0.9887         0.9887         0.9887\n",
            "Validation summary                0.0074         0.9831         0.9803         0.9843         0.9820\n"
          ]
        },
        {
          "name": "stderr",
          "output_type": "stream",
          "text": [
            "Epoch: 23/40 | Batch: 89/89:  57%|█████▊    | 2047/3560 [05:40<03:26,  7.34it/s]"
          ]
        },
        {
          "name": "stdout",
          "output_type": "stream",
          "text": [
            "                        Loss(per-sample)       accuracy      precision         recall       f1_score\n",
            "Training summary                  0.0014         0.9888         0.9885         0.9887         0.9886\n",
            "Validation summary                0.0148         0.9691         0.9680         0.9708         0.9688\n"
          ]
        },
        {
          "name": "stderr",
          "output_type": "stream",
          "text": [
            "Epoch: 24/40 | Batch: 89/89:  60%|██████    | 2136/3560 [05:55<03:13,  7.35it/s]"
          ]
        },
        {
          "name": "stdout",
          "output_type": "stream",
          "text": [
            "                        Loss(per-sample)       accuracy      precision         recall       f1_score\n",
            "Training summary                  0.0019         0.9895         0.9887         0.9899         0.9893\n",
            "Validation summary                0.0128         0.9691         0.9680         0.9699         0.9683\n"
          ]
        },
        {
          "name": "stderr",
          "output_type": "stream",
          "text": [
            "Epoch: 25/40 | Batch: 89/89:  62%|██████▎   | 2225/3560 [06:10<03:02,  7.32it/s]"
          ]
        },
        {
          "name": "stdout",
          "output_type": "stream",
          "text": [
            "                        Loss(per-sample)       accuracy      precision         recall       f1_score\n",
            "Training summary                  0.0015         0.9923         0.9922         0.9922         0.9922\n",
            "Validation summary                0.0113         0.9635         0.9674         0.9621         0.9640\n"
          ]
        },
        {
          "name": "stderr",
          "output_type": "stream",
          "text": [
            "Epoch: 26/40 | Batch: 89/89:  65%|██████▌   | 2314/3560 [06:25<02:50,  7.32it/s]"
          ]
        },
        {
          "name": "stdout",
          "output_type": "stream",
          "text": [
            "                        Loss(per-sample)       accuracy      precision         recall       f1_score\n",
            "Training summary                  0.0016         0.9916         0.9915         0.9913         0.9914\n",
            "Validation summary                0.0132         0.9635         0.9624         0.9658         0.9633\n"
          ]
        },
        {
          "name": "stderr",
          "output_type": "stream",
          "text": [
            "Epoch: 27/40 | Batch: 89/89:  68%|██████▊   | 2403/3560 [06:40<02:38,  7.31it/s]"
          ]
        },
        {
          "name": "stdout",
          "output_type": "stream",
          "text": [
            "                        Loss(per-sample)       accuracy      precision         recall       f1_score\n",
            "Training summary                  0.0018         0.9909         0.9904         0.9908         0.9906\n",
            "Validation summary                0.0089         0.9747         0.9722         0.9741         0.9724\n"
          ]
        },
        {
          "name": "stderr",
          "output_type": "stream",
          "text": [
            "Epoch: 28/40 | Batch: 89/89:  70%|███████   | 2492/3560 [06:55<02:26,  7.29it/s]"
          ]
        },
        {
          "name": "stdout",
          "output_type": "stream",
          "text": [
            "                        Loss(per-sample)       accuracy      precision         recall       f1_score\n",
            "Training summary                  0.0021         0.9902         0.9898         0.9903         0.9901\n",
            "Validation summary                0.0110         0.9747         0.9724         0.9749         0.9732\n"
          ]
        },
        {
          "name": "stderr",
          "output_type": "stream",
          "text": [
            "Epoch: 29/40 | Batch: 89/89:  72%|███████▎  | 2581/3560 [07:10<02:14,  7.27it/s]"
          ]
        },
        {
          "name": "stdout",
          "output_type": "stream",
          "text": [
            "                        Loss(per-sample)       accuracy      precision         recall       f1_score\n",
            "Training summary                  0.0011         0.9930         0.9927         0.9924         0.9926\n",
            "Validation summary                0.0109         0.9719         0.9691         0.9725         0.9702\n"
          ]
        },
        {
          "name": "stderr",
          "output_type": "stream",
          "text": [
            "Epoch: 30/40 | Batch: 89/89:  75%|███████▌  | 2670/3560 [07:25<02:02,  7.28it/s]"
          ]
        },
        {
          "name": "stdout",
          "output_type": "stream",
          "text": [
            "                        Loss(per-sample)       accuracy      precision         recall       f1_score\n",
            "Training summary                  0.0018         0.9909         0.9903         0.9909         0.9906\n",
            "Validation summary                0.0260         0.9382         0.9432         0.9414         0.9389\n"
          ]
        },
        {
          "name": "stderr",
          "output_type": "stream",
          "text": [
            "Epoch: 31/40 | Batch: 89/89:  78%|███████▊  | 2759/3560 [07:40<01:50,  7.28it/s]"
          ]
        },
        {
          "name": "stdout",
          "output_type": "stream",
          "text": [
            "                        Loss(per-sample)       accuracy      precision         recall       f1_score\n",
            "Training summary                  0.0013         0.9930         0.9931         0.9931         0.9931\n",
            "Validation summary                0.0113         0.9691         0.9682         0.9696         0.9685\n"
          ]
        },
        {
          "name": "stderr",
          "output_type": "stream",
          "text": [
            "Epoch: 32/40 | Batch: 89/89:  80%|████████  | 2848/3560 [07:55<01:37,  7.30it/s]"
          ]
        },
        {
          "name": "stdout",
          "output_type": "stream",
          "text": [
            "                        Loss(per-sample)       accuracy      precision         recall       f1_score\n",
            "Training summary                  0.0018         0.9923         0.9922         0.9923         0.9922\n",
            "Validation summary                0.0108         0.9719         0.9721         0.9730         0.9722\n"
          ]
        },
        {
          "name": "stderr",
          "output_type": "stream",
          "text": [
            "Epoch: 33/40 | Batch: 89/89:  82%|████████▎ | 2937/3560 [08:10<01:25,  7.27it/s]"
          ]
        },
        {
          "name": "stdout",
          "output_type": "stream",
          "text": [
            "                        Loss(per-sample)       accuracy      precision         recall       f1_score\n",
            "Training summary                  0.0005         0.9972         0.9972         0.9974         0.9973\n",
            "Validation summary                0.0158         0.9579         0.9593         0.9596         0.9585\n"
          ]
        },
        {
          "name": "stderr",
          "output_type": "stream",
          "text": [
            "Epoch: 34/40 | Batch: 89/89:  85%|████████▌ | 3026/3560 [08:26<01:13,  7.27it/s]"
          ]
        },
        {
          "name": "stdout",
          "output_type": "stream",
          "text": [
            "                        Loss(per-sample)       accuracy      precision         recall       f1_score\n",
            "Training summary                  0.0005         0.9965         0.9965         0.9966         0.9965\n",
            "Validation summary                0.0107         0.9831         0.9848         0.9842         0.9844\n"
          ]
        },
        {
          "name": "stderr",
          "output_type": "stream",
          "text": [
            "Epoch: 35/40 | Batch: 89/89:  88%|████████▊ | 3115/3560 [08:41<01:01,  7.25it/s]"
          ]
        },
        {
          "name": "stdout",
          "output_type": "stream",
          "text": [
            "                        Loss(per-sample)       accuracy      precision         recall       f1_score\n",
            "Training summary                  0.0027         0.9888         0.9884         0.9891         0.9887\n",
            "Validation summary                0.0313         0.9326         0.9410         0.9383         0.9353\n"
          ]
        },
        {
          "name": "stderr",
          "output_type": "stream",
          "text": [
            "Epoch: 36/40 | Batch: 89/89:  90%|█████████ | 3204/3560 [08:56<00:48,  7.27it/s]"
          ]
        },
        {
          "name": "stdout",
          "output_type": "stream",
          "text": [
            "                        Loss(per-sample)       accuracy      precision         recall       f1_score\n",
            "Training summary                  0.0012         0.9944         0.9941         0.9943         0.9942\n",
            "Validation summary                0.0164         0.9635         0.9613         0.9649         0.9618\n"
          ]
        },
        {
          "name": "stderr",
          "output_type": "stream",
          "text": [
            "Epoch: 37/40 | Batch: 89/89:  92%|█████████▎| 3293/3560 [09:11<00:36,  7.28it/s]"
          ]
        },
        {
          "name": "stdout",
          "output_type": "stream",
          "text": [
            "                        Loss(per-sample)       accuracy      precision         recall       f1_score\n",
            "Training summary                  0.0031         0.9853         0.9843         0.9850         0.9846\n",
            "Validation summary                0.0132         0.9719         0.9710         0.9721         0.9712\n"
          ]
        },
        {
          "name": "stderr",
          "output_type": "stream",
          "text": [
            "Epoch: 38/40 | Batch: 89/89:  95%|█████████▌| 3382/3560 [09:26<00:24,  7.24it/s]"
          ]
        },
        {
          "name": "stdout",
          "output_type": "stream",
          "text": [
            "                        Loss(per-sample)       accuracy      precision         recall       f1_score\n",
            "Training summary                  0.0011         0.9951         0.9950         0.9948         0.9949\n",
            "Validation summary                0.0130         0.9775         0.9748         0.9783         0.9761\n"
          ]
        },
        {
          "name": "stderr",
          "output_type": "stream",
          "text": [
            "Epoch: 39/40 | Batch: 89/89:  98%|█████████▊| 3471/3560 [09:42<00:12,  7.24it/s]"
          ]
        },
        {
          "name": "stdout",
          "output_type": "stream",
          "text": [
            "                        Loss(per-sample)       accuracy      precision         recall       f1_score\n",
            "Training summary                  0.0004         0.9965         0.9962         0.9966         0.9964\n",
            "Validation summary                0.0214         0.9438         0.9473         0.9483         0.9454\n"
          ]
        },
        {
          "name": "stderr",
          "output_type": "stream",
          "text": [
            "Epoch: 40/40 | Batch: 89/89: 100%|██████████| 3560/3560 [09:57<00:00,  7.24it/s]"
          ]
        },
        {
          "name": "stdout",
          "output_type": "stream",
          "text": [
            "                        Loss(per-sample)       accuracy      precision         recall       f1_score\n",
            "Training summary                  0.0009         0.9937         0.9936         0.9938         0.9937\n",
            "Validation summary                0.0074         0.9831         0.9834         0.9830         0.9831\n"
          ]
        },
        {
          "name": "stderr",
          "output_type": "stream",
          "text": [
            "Epoch: 40/40 | Batch: 89/89: 100%|██████████| 3560/3560 [10:00<00:00,  5.93it/s]\n"
          ]
        }
      ],
      "source": [
        "from transformers import AdamW\n",
        "from sklearn.utils.class_weight import compute_class_weight\n",
        "\n",
        "class_wts = compute_class_weight('balanced', classes=np.unique(train_y.numpy()), y=train_y.numpy())\n",
        "weights= torch.tensor(class_wts,dtype=torch.float)\n",
        "weights = weights.to(device)\n",
        "\n",
        "optimizer = AdamW(model.parameters(), lr = 1e-3)\n",
        "loss_meter = nn.CrossEntropyLoss(weight=weights)\n",
        "\n",
        "nepoches = 40\n",
        "\n",
        "model.compile(optimizer, loss_meter,\n",
        "              metrics=[\"accuracy\", \"precision\", \"recall\", \"f1_score\"],\n",
        "              save_best_to=\"the_best.pt\",\n",
        "              save_last_to=\"last_model.pt\")\n",
        "model.fit(train_loader, valid_loader, nepoches = nepoches)\n"
      ]
    },
    {
      "cell_type": "code",
      "execution_count": null,
      "id": "df7aecef-ae24-400e-8303-88066d6bf9f0",
      "metadata": {
        "id": "df7aecef-ae24-400e-8303-88066d6bf9f0",
        "outputId": "abc77bfd-8124-4070-88bd-26bd7cbc5016"
      },
      "outputs": [
        {
          "name": "stdout",
          "output_type": "stream",
          "text": [
            "====================================================================================================\n",
            "Evaluation: \n",
            "----------------------------------------------------------------------------------------------------\n",
            "              precision    recall  f1-score   support\n",
            "\n",
            "           0       0.96      0.98      0.97        92\n",
            "           1       0.99      0.99      0.99        84\n",
            "           2       0.99      0.97      0.98        88\n",
            "           3       1.00      1.00      1.00        94\n",
            "           4       0.99      0.99      0.99        87\n",
            "\n",
            "    accuracy                           0.98       445\n",
            "   macro avg       0.98      0.98      0.98       445\n",
            "weighted avg       0.98      0.98      0.98       445\n",
            "\n",
            "====================================================================================================\n",
            "Loss(per-sample):         0.0065\n",
            "====================================================================================================\n"
          ]
        }
      ],
      "source": [
        "rs =model.evaluate(test_loader)"
      ]
    },
    {
      "cell_type": "code",
      "execution_count": null,
      "id": "c91176d2-76f6-4a50-a1d5-b260478c18ea",
      "metadata": {
        "id": "c91176d2-76f6-4a50-a1d5-b260478c18ea",
        "outputId": "b003a916-ded5-4aa6-de99-38dd35740645"
      },
      "outputs": [
        {
          "name": "stdout",
          "output_type": "stream",
          "text": [
            "====================================================================================================\n",
            "Evaluation: \n",
            "----------------------------------------------------------------------------------------------------\n",
            "              precision    recall  f1-score   support\n",
            "\n",
            "           0       0.84      0.99      0.91        92\n",
            "           1       0.98      0.99      0.98        84\n",
            "           2       1.00      0.90      0.95        88\n",
            "           3       1.00      0.97      0.98        94\n",
            "           4       0.99      0.93      0.96        87\n",
            "\n",
            "    accuracy                           0.96       445\n",
            "   macro avg       0.96      0.95      0.96       445\n",
            "weighted avg       0.96      0.96      0.96       445\n",
            "\n",
            "====================================================================================================\n",
            "Loss(per-sample):         0.0097\n",
            "====================================================================================================\n"
          ]
        }
      ],
      "source": [
        "#pretrained_model = NewsClassifier.from_pretrained(5, \"last_model.pt\")\n",
        "pretrained_model = NewsClassifier.from_pretrained(5, \"the_best.pt\")\n",
        "pretrained_model.compile(optimizer, loss_meter,\n",
        "              metrics=[\"accuracy\", \"precision\", \"recall\", \"f1_score\"],\n",
        "              save_best_to=\"the_best.pt\",\n",
        "              save_last_to=\"last_model.pt\")\n",
        "pretrained_model.to(device)\n",
        "rs = pretrained_model.evaluate(test_loader)"
      ]
    },
    {
      "cell_type": "code",
      "execution_count": null,
      "id": "8054c970-f16a-40e1-858a-5c4d2b62897b",
      "metadata": {
        "id": "8054c970-f16a-40e1-858a-5c4d2b62897b",
        "outputId": "77e34713-0001-4368-9ac0-aa842b4842f3"
      },
      "outputs": [
        {
          "name": "stdout",
          "output_type": "stream",
          "text": [
            "['entertainment', 'business', 'entertainment', 'sport']\n"
          ]
        }
      ],
      "source": [
        "idx2name = dict(zip(class_idx, class_names))\n",
        "predictor = Predictor(idx2name)\n",
        "predictor.from_pretrained(\"last_model.pt\")\n",
        "preds = predictor.predict(test_text[:4])\n",
        "print(preds)"
      ]
    },
    {
      "cell_type": "code",
      "execution_count": null,
      "id": "1b21a104-58ae-4bd7-a2c9-7e9e7161cc30",
      "metadata": {
        "id": "1b21a104-58ae-4bd7-a2c9-7e9e7161cc30",
        "outputId": "95383535-028a-42f0-c831-2e574422917b"
      },
      "outputs": [
        {
          "data": {
            "text/plain": [
              "['business']"
            ]
          },
          "execution_count": 22,
          "metadata": {},
          "output_type": "execute_result"
        }
      ],
      "source": [
        "text1 = \"\"\"\n",
        "For a while, that approach seemed to work. As the boy-wonder of crypto, Bankman-Fried got rich faster than almost anyone in history, amassing an estimated $26bn in personal wealth, countless magazine covers and sweeping political influence. The flameout was even faster.\n",
        "\n",
        "The tweet was, as discussed, net bad. Billions gushed out of the platform in less than five days. When it was all over, more than $8bn in customer funds were missing and the company was bankrupt. Five weeks after that, prosecutors in Manhattan charged Bankman-Fried, who had already resigned, with several financial offences including wire fraud, securities fraud, commodities fraud and money laundering.\n",
        "\n",
        "Over four weeks of trial, two contradictory stories emerged. In one, the former mogul was a brilliant but hapless savant, whose mistakes as CEO allowed for massive fraud to be carried out under his nose. In the other, supported by former members of his inner circle, Bankman-Fried syphoned billions of dollars of customer money, banking on the odds he'd never be caught.\n",
        "\n",
        "Both tellings reveal how tightly the fortunes of FTX were tied to the image of its founder, whose oddball magnetism drew former presidents, celebrities, and corporate titans into his orbit and his multi-billion dollar gamble.\n",
        "\"\"\"\n",
        "predictor.predict(text1)"
      ]
    },
    {
      "cell_type": "code",
      "execution_count": null,
      "id": "f260285f-0508-4554-9e56-b1ef51fe95b1",
      "metadata": {
        "id": "f260285f-0508-4554-9e56-b1ef51fe95b1",
        "outputId": "1e08dc12-c7ea-4deb-8e19-46891b74eb33"
      },
      "outputs": [
        {
          "data": {
            "text/plain": [
              "['business']"
            ]
          },
          "execution_count": 23,
          "metadata": {},
          "output_type": "execute_result"
        }
      ],
      "source": [
        "text1 = \"\"\"\n",
        "For a while, that approach seemed to work. As the boy-wonder of crypto, Bankman-Fried got rich faster than almost anyone in history, amassing an estimated $26bn in personal wealth, countless magazine covers and sweeping political influence. The flameout was even faster.\n",
        "\n",
        "The tweet was, as discussed, net bad. Billions gushed out of the platform in less than five days. When it was all over, more than $8bn in customer funds were missing and the company was bankrupt. Five weeks after that, prosecutors in Manhattan charged Bankman-Fried, who had already resigned, with several financial offences including wire fraud, securities fraud, commodities fraud and money laundering.\n",
        "\n",
        "Over four weeks of trial, two contradictory stories emerged. In one, the former mogul was a brilliant but hapless savant, whose mistakes as CEO allowed for massive fraud to be carried out under his nose. In the other, supported by former members of his inner circle, Bankman-Fried syphoned billions of dollars of customer money, banking on the odds he'd never be caught.\n",
        "\n",
        "Both tellings reveal how tightly the fortunes of FTX were tied to the image of its founder, whose oddball magnetism drew former presidents, celebrities, and corporate titans into his orbit and his multi-billion dollar gamble.\n",
        "\"\"\"\n",
        "predictor.predict(text1)"
      ]
    },
    {
      "cell_type": "markdown",
      "id": "e03a7f65-ca37-48e0-b10a-2f3895f20401",
      "metadata": {
        "id": "e03a7f65-ca37-48e0-b10a-2f3895f20401"
      },
      "source": [
        "[url2text](https://stackoverflow.com/questions/45768441/hangs-on-open-url-with-urllib-python3)"
      ]
    },
    {
      "cell_type": "code",
      "execution_count": null,
      "id": "78325f60-20c3-4989-9292-5340b5b8afc2",
      "metadata": {
        "id": "78325f60-20c3-4989-9292-5340b5b8afc2",
        "outputId": "27c29725-10aa-46ac-8eee-830ccf439308"
      },
      "outputs": [
        {
          "data": {
            "text/plain": [
              "['entertainment', 'sport', 'politics', 'business', 'tech']"
            ]
          },
          "execution_count": 24,
          "metadata": {},
          "output_type": "execute_result"
        }
      ],
      "source": [
        "class_names"
      ]
    },
    {
      "cell_type": "code",
      "execution_count": null,
      "id": "c1fa994d-8ab6-47be-8074-9d10812cd5a8",
      "metadata": {
        "id": "c1fa994d-8ab6-47be-8074-9d10812cd5a8",
        "outputId": "b46e0dae-c164-499c-f102-34662d425e8d"
      },
      "outputs": [
        {
          "ename": "URLError",
          "evalue": "<urlopen error [SSL: UNEXPECTED_EOF_WHILE_READING] EOF occurred in violation of protocol (_ssl.c:1007)>",
          "output_type": "error",
          "traceback": [
            "\u001b[0;31m---------------------------------------------------------------------------\u001b[0m",
            "\u001b[0;31mSSLEOFError\u001b[0m                               Traceback (most recent call last)",
            "File \u001b[0;32m/usr/lib/python3.10/urllib/request.py:1348\u001b[0m, in \u001b[0;36mAbstractHTTPHandler.do_open\u001b[0;34m(self, http_class, req, **http_conn_args)\u001b[0m\n\u001b[1;32m   1347\u001b[0m \u001b[38;5;28;01mtry\u001b[39;00m:\n\u001b[0;32m-> 1348\u001b[0m     \u001b[43mh\u001b[49m\u001b[38;5;241;43m.\u001b[39;49m\u001b[43mrequest\u001b[49m\u001b[43m(\u001b[49m\u001b[43mreq\u001b[49m\u001b[38;5;241;43m.\u001b[39;49m\u001b[43mget_method\u001b[49m\u001b[43m(\u001b[49m\u001b[43m)\u001b[49m\u001b[43m,\u001b[49m\u001b[43m \u001b[49m\u001b[43mreq\u001b[49m\u001b[38;5;241;43m.\u001b[39;49m\u001b[43mselector\u001b[49m\u001b[43m,\u001b[49m\u001b[43m \u001b[49m\u001b[43mreq\u001b[49m\u001b[38;5;241;43m.\u001b[39;49m\u001b[43mdata\u001b[49m\u001b[43m,\u001b[49m\u001b[43m \u001b[49m\u001b[43mheaders\u001b[49m\u001b[43m,\u001b[49m\n\u001b[1;32m   1349\u001b[0m \u001b[43m              \u001b[49m\u001b[43mencode_chunked\u001b[49m\u001b[38;5;241;43m=\u001b[39;49m\u001b[43mreq\u001b[49m\u001b[38;5;241;43m.\u001b[39;49m\u001b[43mhas_header\u001b[49m\u001b[43m(\u001b[49m\u001b[38;5;124;43m'\u001b[39;49m\u001b[38;5;124;43mTransfer-encoding\u001b[39;49m\u001b[38;5;124;43m'\u001b[39;49m\u001b[43m)\u001b[49m\u001b[43m)\u001b[49m\n\u001b[1;32m   1350\u001b[0m \u001b[38;5;28;01mexcept\u001b[39;00m \u001b[38;5;167;01mOSError\u001b[39;00m \u001b[38;5;28;01mas\u001b[39;00m err: \u001b[38;5;66;03m# timeout error\u001b[39;00m\n",
            "File \u001b[0;32m/usr/lib/python3.10/http/client.py:1283\u001b[0m, in \u001b[0;36mHTTPConnection.request\u001b[0;34m(self, method, url, body, headers, encode_chunked)\u001b[0m\n\u001b[1;32m   1282\u001b[0m \u001b[38;5;250m\u001b[39m\u001b[38;5;124;03m\"\"\"Send a complete request to the server.\"\"\"\u001b[39;00m\n\u001b[0;32m-> 1283\u001b[0m \u001b[38;5;28;43mself\u001b[39;49m\u001b[38;5;241;43m.\u001b[39;49m\u001b[43m_send_request\u001b[49m\u001b[43m(\u001b[49m\u001b[43mmethod\u001b[49m\u001b[43m,\u001b[49m\u001b[43m \u001b[49m\u001b[43murl\u001b[49m\u001b[43m,\u001b[49m\u001b[43m \u001b[49m\u001b[43mbody\u001b[49m\u001b[43m,\u001b[49m\u001b[43m \u001b[49m\u001b[43mheaders\u001b[49m\u001b[43m,\u001b[49m\u001b[43m \u001b[49m\u001b[43mencode_chunked\u001b[49m\u001b[43m)\u001b[49m\n",
            "File \u001b[0;32m/usr/lib/python3.10/http/client.py:1329\u001b[0m, in \u001b[0;36mHTTPConnection._send_request\u001b[0;34m(self, method, url, body, headers, encode_chunked)\u001b[0m\n\u001b[1;32m   1328\u001b[0m     body \u001b[38;5;241m=\u001b[39m _encode(body, \u001b[38;5;124m'\u001b[39m\u001b[38;5;124mbody\u001b[39m\u001b[38;5;124m'\u001b[39m)\n\u001b[0;32m-> 1329\u001b[0m \u001b[38;5;28;43mself\u001b[39;49m\u001b[38;5;241;43m.\u001b[39;49m\u001b[43mendheaders\u001b[49m\u001b[43m(\u001b[49m\u001b[43mbody\u001b[49m\u001b[43m,\u001b[49m\u001b[43m \u001b[49m\u001b[43mencode_chunked\u001b[49m\u001b[38;5;241;43m=\u001b[39;49m\u001b[43mencode_chunked\u001b[49m\u001b[43m)\u001b[49m\n",
            "File \u001b[0;32m/usr/lib/python3.10/http/client.py:1278\u001b[0m, in \u001b[0;36mHTTPConnection.endheaders\u001b[0;34m(self, message_body, encode_chunked)\u001b[0m\n\u001b[1;32m   1277\u001b[0m     \u001b[38;5;28;01mraise\u001b[39;00m CannotSendHeader()\n\u001b[0;32m-> 1278\u001b[0m \u001b[38;5;28;43mself\u001b[39;49m\u001b[38;5;241;43m.\u001b[39;49m\u001b[43m_send_output\u001b[49m\u001b[43m(\u001b[49m\u001b[43mmessage_body\u001b[49m\u001b[43m,\u001b[49m\u001b[43m \u001b[49m\u001b[43mencode_chunked\u001b[49m\u001b[38;5;241;43m=\u001b[39;49m\u001b[43mencode_chunked\u001b[49m\u001b[43m)\u001b[49m\n",
            "File \u001b[0;32m/usr/lib/python3.10/http/client.py:1038\u001b[0m, in \u001b[0;36mHTTPConnection._send_output\u001b[0;34m(self, message_body, encode_chunked)\u001b[0m\n\u001b[1;32m   1037\u001b[0m \u001b[38;5;28;01mdel\u001b[39;00m \u001b[38;5;28mself\u001b[39m\u001b[38;5;241m.\u001b[39m_buffer[:]\n\u001b[0;32m-> 1038\u001b[0m \u001b[38;5;28;43mself\u001b[39;49m\u001b[38;5;241;43m.\u001b[39;49m\u001b[43msend\u001b[49m\u001b[43m(\u001b[49m\u001b[43mmsg\u001b[49m\u001b[43m)\u001b[49m\n\u001b[1;32m   1040\u001b[0m \u001b[38;5;28;01mif\u001b[39;00m message_body \u001b[38;5;129;01mis\u001b[39;00m \u001b[38;5;129;01mnot\u001b[39;00m \u001b[38;5;28;01mNone\u001b[39;00m:\n\u001b[1;32m   1041\u001b[0m \n\u001b[1;32m   1042\u001b[0m     \u001b[38;5;66;03m# create a consistent interface to message_body\u001b[39;00m\n",
            "File \u001b[0;32m/usr/lib/python3.10/http/client.py:976\u001b[0m, in \u001b[0;36mHTTPConnection.send\u001b[0;34m(self, data)\u001b[0m\n\u001b[1;32m    975\u001b[0m \u001b[38;5;28;01mif\u001b[39;00m \u001b[38;5;28mself\u001b[39m\u001b[38;5;241m.\u001b[39mauto_open:\n\u001b[0;32m--> 976\u001b[0m     \u001b[38;5;28;43mself\u001b[39;49m\u001b[38;5;241;43m.\u001b[39;49m\u001b[43mconnect\u001b[49m\u001b[43m(\u001b[49m\u001b[43m)\u001b[49m\n\u001b[1;32m    977\u001b[0m \u001b[38;5;28;01melse\u001b[39;00m:\n",
            "File \u001b[0;32m/usr/lib/python3.10/http/client.py:1455\u001b[0m, in \u001b[0;36mHTTPSConnection.connect\u001b[0;34m(self)\u001b[0m\n\u001b[1;32m   1453\u001b[0m     server_hostname \u001b[38;5;241m=\u001b[39m \u001b[38;5;28mself\u001b[39m\u001b[38;5;241m.\u001b[39mhost\n\u001b[0;32m-> 1455\u001b[0m \u001b[38;5;28mself\u001b[39m\u001b[38;5;241m.\u001b[39msock \u001b[38;5;241m=\u001b[39m \u001b[38;5;28;43mself\u001b[39;49m\u001b[38;5;241;43m.\u001b[39;49m\u001b[43m_context\u001b[49m\u001b[38;5;241;43m.\u001b[39;49m\u001b[43mwrap_socket\u001b[49m\u001b[43m(\u001b[49m\u001b[38;5;28;43mself\u001b[39;49m\u001b[38;5;241;43m.\u001b[39;49m\u001b[43msock\u001b[49m\u001b[43m,\u001b[49m\n\u001b[1;32m   1456\u001b[0m \u001b[43m                                      \u001b[49m\u001b[43mserver_hostname\u001b[49m\u001b[38;5;241;43m=\u001b[39;49m\u001b[43mserver_hostname\u001b[49m\u001b[43m)\u001b[49m\n",
            "File \u001b[0;32m/usr/lib/python3.10/ssl.py:513\u001b[0m, in \u001b[0;36mSSLContext.wrap_socket\u001b[0;34m(self, sock, server_side, do_handshake_on_connect, suppress_ragged_eofs, server_hostname, session)\u001b[0m\n\u001b[1;32m    507\u001b[0m \u001b[38;5;28;01mdef\u001b[39;00m \u001b[38;5;21mwrap_socket\u001b[39m(\u001b[38;5;28mself\u001b[39m, sock, server_side\u001b[38;5;241m=\u001b[39m\u001b[38;5;28;01mFalse\u001b[39;00m,\n\u001b[1;32m    508\u001b[0m                 do_handshake_on_connect\u001b[38;5;241m=\u001b[39m\u001b[38;5;28;01mTrue\u001b[39;00m,\n\u001b[1;32m    509\u001b[0m                 suppress_ragged_eofs\u001b[38;5;241m=\u001b[39m\u001b[38;5;28;01mTrue\u001b[39;00m,\n\u001b[1;32m    510\u001b[0m                 server_hostname\u001b[38;5;241m=\u001b[39m\u001b[38;5;28;01mNone\u001b[39;00m, session\u001b[38;5;241m=\u001b[39m\u001b[38;5;28;01mNone\u001b[39;00m):\n\u001b[1;32m    511\u001b[0m     \u001b[38;5;66;03m# SSLSocket class handles server_hostname encoding before it calls\u001b[39;00m\n\u001b[1;32m    512\u001b[0m     \u001b[38;5;66;03m# ctx._wrap_socket()\u001b[39;00m\n\u001b[0;32m--> 513\u001b[0m     \u001b[38;5;28;01mreturn\u001b[39;00m \u001b[38;5;28;43mself\u001b[39;49m\u001b[38;5;241;43m.\u001b[39;49m\u001b[43msslsocket_class\u001b[49m\u001b[38;5;241;43m.\u001b[39;49m\u001b[43m_create\u001b[49m\u001b[43m(\u001b[49m\n\u001b[1;32m    514\u001b[0m \u001b[43m        \u001b[49m\u001b[43msock\u001b[49m\u001b[38;5;241;43m=\u001b[39;49m\u001b[43msock\u001b[49m\u001b[43m,\u001b[49m\n\u001b[1;32m    515\u001b[0m \u001b[43m        \u001b[49m\u001b[43mserver_side\u001b[49m\u001b[38;5;241;43m=\u001b[39;49m\u001b[43mserver_side\u001b[49m\u001b[43m,\u001b[49m\n\u001b[1;32m    516\u001b[0m \u001b[43m        \u001b[49m\u001b[43mdo_handshake_on_connect\u001b[49m\u001b[38;5;241;43m=\u001b[39;49m\u001b[43mdo_handshake_on_connect\u001b[49m\u001b[43m,\u001b[49m\n\u001b[1;32m    517\u001b[0m \u001b[43m        \u001b[49m\u001b[43msuppress_ragged_eofs\u001b[49m\u001b[38;5;241;43m=\u001b[39;49m\u001b[43msuppress_ragged_eofs\u001b[49m\u001b[43m,\u001b[49m\n\u001b[1;32m    518\u001b[0m \u001b[43m        \u001b[49m\u001b[43mserver_hostname\u001b[49m\u001b[38;5;241;43m=\u001b[39;49m\u001b[43mserver_hostname\u001b[49m\u001b[43m,\u001b[49m\n\u001b[1;32m    519\u001b[0m \u001b[43m        \u001b[49m\u001b[43mcontext\u001b[49m\u001b[38;5;241;43m=\u001b[39;49m\u001b[38;5;28;43mself\u001b[39;49m\u001b[43m,\u001b[49m\n\u001b[1;32m    520\u001b[0m \u001b[43m        \u001b[49m\u001b[43msession\u001b[49m\u001b[38;5;241;43m=\u001b[39;49m\u001b[43msession\u001b[49m\n\u001b[1;32m    521\u001b[0m \u001b[43m    \u001b[49m\u001b[43m)\u001b[49m\n",
            "File \u001b[0;32m/usr/lib/python3.10/ssl.py:1100\u001b[0m, in \u001b[0;36mSSLSocket._create\u001b[0;34m(cls, sock, server_side, do_handshake_on_connect, suppress_ragged_eofs, server_hostname, context, session)\u001b[0m\n\u001b[1;32m   1099\u001b[0m             \u001b[38;5;28;01mraise\u001b[39;00m \u001b[38;5;167;01mValueError\u001b[39;00m(\u001b[38;5;124m\"\u001b[39m\u001b[38;5;124mdo_handshake_on_connect should not be specified for non-blocking sockets\u001b[39m\u001b[38;5;124m\"\u001b[39m)\n\u001b[0;32m-> 1100\u001b[0m         \u001b[38;5;28;43mself\u001b[39;49m\u001b[38;5;241;43m.\u001b[39;49m\u001b[43mdo_handshake\u001b[49m\u001b[43m(\u001b[49m\u001b[43m)\u001b[49m\n\u001b[1;32m   1101\u001b[0m \u001b[38;5;28;01mexcept\u001b[39;00m (\u001b[38;5;167;01mOSError\u001b[39;00m, \u001b[38;5;167;01mValueError\u001b[39;00m):\n",
            "File \u001b[0;32m/usr/lib/python3.10/ssl.py:1371\u001b[0m, in \u001b[0;36mSSLSocket.do_handshake\u001b[0;34m(self, block)\u001b[0m\n\u001b[1;32m   1370\u001b[0m         \u001b[38;5;28mself\u001b[39m\u001b[38;5;241m.\u001b[39msettimeout(\u001b[38;5;28;01mNone\u001b[39;00m)\n\u001b[0;32m-> 1371\u001b[0m     \u001b[38;5;28;43mself\u001b[39;49m\u001b[38;5;241;43m.\u001b[39;49m\u001b[43m_sslobj\u001b[49m\u001b[38;5;241;43m.\u001b[39;49m\u001b[43mdo_handshake\u001b[49m\u001b[43m(\u001b[49m\u001b[43m)\u001b[49m\n\u001b[1;32m   1372\u001b[0m \u001b[38;5;28;01mfinally\u001b[39;00m:\n",
            "\u001b[0;31mSSLEOFError\u001b[0m: [SSL: UNEXPECTED_EOF_WHILE_READING] EOF occurred in violation of protocol (_ssl.c:1007)",
            "\nDuring handling of the above exception, another exception occurred:\n",
            "\u001b[0;31mURLError\u001b[0m                                  Traceback (most recent call last)",
            "Cell \u001b[0;32mIn[25], line 14\u001b[0m\n\u001b[1;32m      1\u001b[0m \u001b[38;5;28;01mfrom\u001b[39;00m \u001b[38;5;21;01mdata\u001b[39;00m \u001b[38;5;28;01mimport\u001b[39;00m link2text \n\u001b[1;32m      2\u001b[0m links \u001b[38;5;241m=\u001b[39m {\n\u001b[1;32m      3\u001b[0m     \u001b[38;5;124m\"\u001b[39m\u001b[38;5;124mhttps://www.bbc.com/news/business-67304260\u001b[39m\u001b[38;5;124m\"\u001b[39m: \u001b[38;5;124m\"\u001b[39m\u001b[38;5;124mbusiness\u001b[39m\u001b[38;5;124m\"\u001b[39m,\n\u001b[1;32m      4\u001b[0m     \u001b[38;5;124m\"\u001b[39m\u001b[38;5;124mhttps://www.bbc.com/news/business-67305453\u001b[39m\u001b[38;5;124m\"\u001b[39m: \u001b[38;5;124m\"\u001b[39m\u001b[38;5;124mbusiness\u001b[39m\u001b[38;5;124m\"\u001b[39m,\n\u001b[0;32m   (...)\u001b[0m\n\u001b[1;32m     12\u001b[0m     \u001b[38;5;124m\"\u001b[39m\u001b[38;5;124mhttps://www.bbc.com/news/world-europe-67321777\u001b[39m\u001b[38;5;124m\"\u001b[39m: \u001b[38;5;124m\"\u001b[39m\u001b[38;5;124mpolitics\u001b[39m\u001b[38;5;124m\"\u001b[39m\n\u001b[1;32m     13\u001b[0m }\n\u001b[0;32m---> 14\u001b[0m text, labels \u001b[38;5;241m=\u001b[39m \u001b[43mlink2text\u001b[49m\u001b[43m(\u001b[49m\u001b[43mlinks\u001b[49m\u001b[43m)\u001b[49m\n\u001b[1;32m     15\u001b[0m \u001b[38;5;66;03m#\u001b[39;00m\n\u001b[1;32m     16\u001b[0m preds \u001b[38;5;241m=\u001b[39m predictor\u001b[38;5;241m.\u001b[39mpredict(text)\n",
            "File \u001b[0;32m/workspace/ML/NLP/bbc-news/data.py:51\u001b[0m, in \u001b[0;36mlink2text\u001b[0;34m(links)\u001b[0m\n\u001b[1;32m     50\u001b[0m \u001b[38;5;28;01mdef\u001b[39;00m \u001b[38;5;21mlink2text\u001b[39m(links):\n\u001b[0;32m---> 51\u001b[0m     contents \u001b[38;5;241m=\u001b[39m [(url2text(url), links[url] ) \u001b[38;5;28;01mfor\u001b[39;00m url \u001b[38;5;129;01min\u001b[39;00m links\u001b[38;5;241m.\u001b[39mkeys()]\n\u001b[1;32m     52\u001b[0m     text \u001b[38;5;241m=\u001b[39m [c[\u001b[38;5;241m0\u001b[39m] \u001b[38;5;28;01mfor\u001b[39;00m c \u001b[38;5;129;01min\u001b[39;00m contents]\n\u001b[1;32m     53\u001b[0m     labels \u001b[38;5;241m=\u001b[39m [c[\u001b[38;5;241m1\u001b[39m] \u001b[38;5;28;01mfor\u001b[39;00m c \u001b[38;5;129;01min\u001b[39;00m contents]\n",
            "File \u001b[0;32m/workspace/ML/NLP/bbc-news/data.py:51\u001b[0m, in \u001b[0;36m<listcomp>\u001b[0;34m(.0)\u001b[0m\n\u001b[1;32m     50\u001b[0m \u001b[38;5;28;01mdef\u001b[39;00m \u001b[38;5;21mlink2text\u001b[39m(links):\n\u001b[0;32m---> 51\u001b[0m     contents \u001b[38;5;241m=\u001b[39m [(\u001b[43murl2text\u001b[49m\u001b[43m(\u001b[49m\u001b[43murl\u001b[49m\u001b[43m)\u001b[49m, links[url] ) \u001b[38;5;28;01mfor\u001b[39;00m url \u001b[38;5;129;01min\u001b[39;00m links\u001b[38;5;241m.\u001b[39mkeys()]\n\u001b[1;32m     52\u001b[0m     text \u001b[38;5;241m=\u001b[39m [c[\u001b[38;5;241m0\u001b[39m] \u001b[38;5;28;01mfor\u001b[39;00m c \u001b[38;5;129;01min\u001b[39;00m contents]\n\u001b[1;32m     53\u001b[0m     labels \u001b[38;5;241m=\u001b[39m [c[\u001b[38;5;241m1\u001b[39m] \u001b[38;5;28;01mfor\u001b[39;00m c \u001b[38;5;129;01min\u001b[39;00m contents]\n",
            "File \u001b[0;32m/workspace/ML/NLP/bbc-news/data.py:20\u001b[0m, in \u001b[0;36murl2text\u001b[0;34m(url)\u001b[0m\n\u001b[1;32m      8\u001b[0m \u001b[38;5;250m\u001b[39m\u001b[38;5;124;03m\"\"\"\u001b[39;00m\n\u001b[1;32m      9\u001b[0m \u001b[38;5;124;03mReference:\u001b[39;00m\n\u001b[1;32m     10\u001b[0m \u001b[38;5;124;03m* https://stackoverflow.com/questions/45768441/hangs-on-open-url-with-urllib-python3\u001b[39;00m\n\u001b[1;32m     11\u001b[0m \u001b[38;5;124;03m\"\"\"\u001b[39;00m\n\u001b[1;32m     13\u001b[0m req \u001b[38;5;241m=\u001b[39m urllib\u001b[38;5;241m.\u001b[39mrequest\u001b[38;5;241m.\u001b[39mRequest(\n\u001b[1;32m     14\u001b[0m     url, \n\u001b[1;32m     15\u001b[0m     data\u001b[38;5;241m=\u001b[39m\u001b[38;5;28;01mNone\u001b[39;00m, \n\u001b[0;32m   (...)\u001b[0m\n\u001b[1;32m     18\u001b[0m         }\n\u001b[1;32m     19\u001b[0m )\n\u001b[0;32m---> 20\u001b[0m html \u001b[38;5;241m=\u001b[39m \u001b[43murllib\u001b[49m\u001b[38;5;241;43m.\u001b[39;49m\u001b[43mrequest\u001b[49m\u001b[38;5;241;43m.\u001b[39;49m\u001b[43murlopen\u001b[49m\u001b[43m(\u001b[49m\u001b[43mreq\u001b[49m\u001b[43m)\u001b[49m\n\u001b[1;32m     21\u001b[0m soup \u001b[38;5;241m=\u001b[39m BeautifulSoup(html, features\u001b[38;5;241m=\u001b[39m\u001b[38;5;124m\"\u001b[39m\u001b[38;5;124mhtml.parser\u001b[39m\u001b[38;5;124m\"\u001b[39m)\n\u001b[1;32m     23\u001b[0m \u001b[38;5;66;03m# kill all script and style elements\u001b[39;00m\n",
            "File \u001b[0;32m/usr/lib/python3.10/urllib/request.py:216\u001b[0m, in \u001b[0;36murlopen\u001b[0;34m(url, data, timeout, cafile, capath, cadefault, context)\u001b[0m\n\u001b[1;32m    214\u001b[0m \u001b[38;5;28;01melse\u001b[39;00m:\n\u001b[1;32m    215\u001b[0m     opener \u001b[38;5;241m=\u001b[39m _opener\n\u001b[0;32m--> 216\u001b[0m \u001b[38;5;28;01mreturn\u001b[39;00m \u001b[43mopener\u001b[49m\u001b[38;5;241;43m.\u001b[39;49m\u001b[43mopen\u001b[49m\u001b[43m(\u001b[49m\u001b[43murl\u001b[49m\u001b[43m,\u001b[49m\u001b[43m \u001b[49m\u001b[43mdata\u001b[49m\u001b[43m,\u001b[49m\u001b[43m \u001b[49m\u001b[43mtimeout\u001b[49m\u001b[43m)\u001b[49m\n",
            "File \u001b[0;32m/usr/lib/python3.10/urllib/request.py:519\u001b[0m, in \u001b[0;36mOpenerDirector.open\u001b[0;34m(self, fullurl, data, timeout)\u001b[0m\n\u001b[1;32m    516\u001b[0m     req \u001b[38;5;241m=\u001b[39m meth(req)\n\u001b[1;32m    518\u001b[0m sys\u001b[38;5;241m.\u001b[39maudit(\u001b[38;5;124m'\u001b[39m\u001b[38;5;124murllib.Request\u001b[39m\u001b[38;5;124m'\u001b[39m, req\u001b[38;5;241m.\u001b[39mfull_url, req\u001b[38;5;241m.\u001b[39mdata, req\u001b[38;5;241m.\u001b[39mheaders, req\u001b[38;5;241m.\u001b[39mget_method())\n\u001b[0;32m--> 519\u001b[0m response \u001b[38;5;241m=\u001b[39m \u001b[38;5;28;43mself\u001b[39;49m\u001b[38;5;241;43m.\u001b[39;49m\u001b[43m_open\u001b[49m\u001b[43m(\u001b[49m\u001b[43mreq\u001b[49m\u001b[43m,\u001b[49m\u001b[43m \u001b[49m\u001b[43mdata\u001b[49m\u001b[43m)\u001b[49m\n\u001b[1;32m    521\u001b[0m \u001b[38;5;66;03m# post-process response\u001b[39;00m\n\u001b[1;32m    522\u001b[0m meth_name \u001b[38;5;241m=\u001b[39m protocol\u001b[38;5;241m+\u001b[39m\u001b[38;5;124m\"\u001b[39m\u001b[38;5;124m_response\u001b[39m\u001b[38;5;124m\"\u001b[39m\n",
            "File \u001b[0;32m/usr/lib/python3.10/urllib/request.py:536\u001b[0m, in \u001b[0;36mOpenerDirector._open\u001b[0;34m(self, req, data)\u001b[0m\n\u001b[1;32m    533\u001b[0m     \u001b[38;5;28;01mreturn\u001b[39;00m result\n\u001b[1;32m    535\u001b[0m protocol \u001b[38;5;241m=\u001b[39m req\u001b[38;5;241m.\u001b[39mtype\n\u001b[0;32m--> 536\u001b[0m result \u001b[38;5;241m=\u001b[39m \u001b[38;5;28;43mself\u001b[39;49m\u001b[38;5;241;43m.\u001b[39;49m\u001b[43m_call_chain\u001b[49m\u001b[43m(\u001b[49m\u001b[38;5;28;43mself\u001b[39;49m\u001b[38;5;241;43m.\u001b[39;49m\u001b[43mhandle_open\u001b[49m\u001b[43m,\u001b[49m\u001b[43m \u001b[49m\u001b[43mprotocol\u001b[49m\u001b[43m,\u001b[49m\u001b[43m \u001b[49m\u001b[43mprotocol\u001b[49m\u001b[43m \u001b[49m\u001b[38;5;241;43m+\u001b[39;49m\n\u001b[1;32m    537\u001b[0m \u001b[43m                          \u001b[49m\u001b[38;5;124;43m'\u001b[39;49m\u001b[38;5;124;43m_open\u001b[39;49m\u001b[38;5;124;43m'\u001b[39;49m\u001b[43m,\u001b[49m\u001b[43m \u001b[49m\u001b[43mreq\u001b[49m\u001b[43m)\u001b[49m\n\u001b[1;32m    538\u001b[0m \u001b[38;5;28;01mif\u001b[39;00m result:\n\u001b[1;32m    539\u001b[0m     \u001b[38;5;28;01mreturn\u001b[39;00m result\n",
            "File \u001b[0;32m/usr/lib/python3.10/urllib/request.py:496\u001b[0m, in \u001b[0;36mOpenerDirector._call_chain\u001b[0;34m(self, chain, kind, meth_name, *args)\u001b[0m\n\u001b[1;32m    494\u001b[0m \u001b[38;5;28;01mfor\u001b[39;00m handler \u001b[38;5;129;01min\u001b[39;00m handlers:\n\u001b[1;32m    495\u001b[0m     func \u001b[38;5;241m=\u001b[39m \u001b[38;5;28mgetattr\u001b[39m(handler, meth_name)\n\u001b[0;32m--> 496\u001b[0m     result \u001b[38;5;241m=\u001b[39m \u001b[43mfunc\u001b[49m\u001b[43m(\u001b[49m\u001b[38;5;241;43m*\u001b[39;49m\u001b[43margs\u001b[49m\u001b[43m)\u001b[49m\n\u001b[1;32m    497\u001b[0m     \u001b[38;5;28;01mif\u001b[39;00m result \u001b[38;5;129;01mis\u001b[39;00m \u001b[38;5;129;01mnot\u001b[39;00m \u001b[38;5;28;01mNone\u001b[39;00m:\n\u001b[1;32m    498\u001b[0m         \u001b[38;5;28;01mreturn\u001b[39;00m result\n",
            "File \u001b[0;32m/usr/lib/python3.10/urllib/request.py:1391\u001b[0m, in \u001b[0;36mHTTPSHandler.https_open\u001b[0;34m(self, req)\u001b[0m\n\u001b[1;32m   1390\u001b[0m \u001b[38;5;28;01mdef\u001b[39;00m \u001b[38;5;21mhttps_open\u001b[39m(\u001b[38;5;28mself\u001b[39m, req):\n\u001b[0;32m-> 1391\u001b[0m     \u001b[38;5;28;01mreturn\u001b[39;00m \u001b[38;5;28;43mself\u001b[39;49m\u001b[38;5;241;43m.\u001b[39;49m\u001b[43mdo_open\u001b[49m\u001b[43m(\u001b[49m\u001b[43mhttp\u001b[49m\u001b[38;5;241;43m.\u001b[39;49m\u001b[43mclient\u001b[49m\u001b[38;5;241;43m.\u001b[39;49m\u001b[43mHTTPSConnection\u001b[49m\u001b[43m,\u001b[49m\u001b[43m \u001b[49m\u001b[43mreq\u001b[49m\u001b[43m,\u001b[49m\n\u001b[1;32m   1392\u001b[0m \u001b[43m        \u001b[49m\u001b[43mcontext\u001b[49m\u001b[38;5;241;43m=\u001b[39;49m\u001b[38;5;28;43mself\u001b[39;49m\u001b[38;5;241;43m.\u001b[39;49m\u001b[43m_context\u001b[49m\u001b[43m,\u001b[49m\u001b[43m \u001b[49m\u001b[43mcheck_hostname\u001b[49m\u001b[38;5;241;43m=\u001b[39;49m\u001b[38;5;28;43mself\u001b[39;49m\u001b[38;5;241;43m.\u001b[39;49m\u001b[43m_check_hostname\u001b[49m\u001b[43m)\u001b[49m\n",
            "File \u001b[0;32m/usr/lib/python3.10/urllib/request.py:1351\u001b[0m, in \u001b[0;36mAbstractHTTPHandler.do_open\u001b[0;34m(self, http_class, req, **http_conn_args)\u001b[0m\n\u001b[1;32m   1348\u001b[0m         h\u001b[38;5;241m.\u001b[39mrequest(req\u001b[38;5;241m.\u001b[39mget_method(), req\u001b[38;5;241m.\u001b[39mselector, req\u001b[38;5;241m.\u001b[39mdata, headers,\n\u001b[1;32m   1349\u001b[0m                   encode_chunked\u001b[38;5;241m=\u001b[39mreq\u001b[38;5;241m.\u001b[39mhas_header(\u001b[38;5;124m'\u001b[39m\u001b[38;5;124mTransfer-encoding\u001b[39m\u001b[38;5;124m'\u001b[39m))\n\u001b[1;32m   1350\u001b[0m     \u001b[38;5;28;01mexcept\u001b[39;00m \u001b[38;5;167;01mOSError\u001b[39;00m \u001b[38;5;28;01mas\u001b[39;00m err: \u001b[38;5;66;03m# timeout error\u001b[39;00m\n\u001b[0;32m-> 1351\u001b[0m         \u001b[38;5;28;01mraise\u001b[39;00m URLError(err)\n\u001b[1;32m   1352\u001b[0m     r \u001b[38;5;241m=\u001b[39m h\u001b[38;5;241m.\u001b[39mgetresponse()\n\u001b[1;32m   1353\u001b[0m \u001b[38;5;28;01mexcept\u001b[39;00m:\n",
            "\u001b[0;31mURLError\u001b[0m: <urlopen error [SSL: UNEXPECTED_EOF_WHILE_READING] EOF occurred in violation of protocol (_ssl.c:1007)>"
          ]
        }
      ],
      "source": [
        "from data import link2text\n",
        "links = {\n",
        "    \"https://www.bbc.com/news/business-67304260\": \"business\",\n",
        "    \"https://www.bbc.com/news/business-67305453\": \"business\",\n",
        "    \"https://www.bbc.com/sport/football/67323707\": \"sport\",\n",
        "    \"https://www.bbc.com/sport/football/67324261\": \"sport\",\n",
        "    \"https://www.bbc.com/news/technology-67302788\": \"tech\",\n",
        "    \"https://www.bbc.com/news/science-environment-67243772\": \"tech\",\n",
        "    \"https://www.bbc.com/news/entertainment-arts-67207695\": \"entertainment\",\n",
        "    \"https://www.bbc.com/news/entertainment-arts-67311637\": \"entertainment\",\n",
        "    \"https://www.bbc.com/news/uk-politics-67320861\": \"politics\",\n",
        "    \"https://www.bbc.com/news/world-europe-67321777\": \"politics\"\n",
        "}\n",
        "text, labels = link2text(links)\n",
        "#\n",
        "preds = predictor.predict(text)\n",
        "print(\"{:>15s} | {:<15s}\".format(\"Label\", \"Prediction\"))\n",
        "print(\"-\"*100)\n",
        "for lb, pred in zip(labels, preds):\n",
        "    print(\"{:>15s} | {:<15s}\".format(lb, pred))\n",
        "print(\"=\"*100)"
      ]
    },
    {
      "cell_type": "code",
      "execution_count": null,
      "id": "7e0f630b-2864-4a9e-9005-62f0a7d9e7c4",
      "metadata": {
        "id": "7e0f630b-2864-4a9e-9005-62f0a7d9e7c4"
      },
      "outputs": [],
      "source": []
    }
  ],
  "metadata": {
    "kernelspec": {
      "display_name": "Python 3 (ipykernel)",
      "language": "python",
      "name": "python3"
    },
    "language_info": {
      "codemirror_mode": {
        "name": "ipython",
        "version": 3
      },
      "file_extension": ".py",
      "mimetype": "text/x-python",
      "name": "python",
      "nbconvert_exporter": "python",
      "pygments_lexer": "ipython3",
      "version": "3.10.12"
    },
    "colab": {
      "provenance": []
    }
  },
  "nbformat": 4,
  "nbformat_minor": 5
}