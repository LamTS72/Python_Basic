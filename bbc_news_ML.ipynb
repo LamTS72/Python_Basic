{
  "cells": [
    {
      "cell_type": "markdown",
      "metadata": {
        "id": "p-WqKYIIlY0m"
      },
      "source": [
        "# Giới thiệu\n",
        "* Bài toán: dự đoán loại của một bài báo:\n",
        "* Tập dữ liệu: [BBC News](http://mlg.ucd.ie/datasets/bbc.html)\n",
        "* Phân tích dữ liệu, gồm các bước:\n",
        "  * **Thu thập** dữ liệu\n",
        "  * **Làm sạch**: tuỳ vào dữ liệu,\n",
        "    * Text: sai font, sai cú pháp, thuật ngữ viết tắt, v.v. => loại bỏ, chỉnh sửa, ...\n",
        "    * Hình ảnh: mờ, phân giải chưa đủ, thiếu ánh sáng, mất focus, etc => bỏ, biến đổi: tăng cường chất lượng ảnh, v.v\n",
        "    \n",
        "  * **Biến đổi**: trích đặc trưng, chuẩn hoá\n",
        "  * **Bổ khuyết**: xử lý \"Null/None\"\n",
        "  * **Thống kê**:\n",
        "    * Thống kê về lượng dữ liệu/nhãn\n",
        "    * Text: size of vocabulary (kích thước từ điển), phân bố từ, etc\n",
        "    * Ảnh: các biểu đồ phân phối về kích, số nhãn, kích nhãn (phát hiện)\n",
        "  * Phân phối của đặc trưng:\n",
        "    * Ví dụ, Dataframe có nhiều cột (đặc trưng);\n",
        "      * các cột có kiểu dữ liệu và phân bố gì? => chọn đúng kỹ thuật\n",
        "        * Ví dụ: Chọn kiểu NaiveBayes phù hợp\n",
        "  * **Rút trích đặc trưng (feature extraction)**\n",
        "    * Đầu ra: ma trận $NxD$:\n",
        "      * N: Số mẫu (quan sát, điểm dữ liệu)\n",
        "      * D: Số đặc trưng (biến/biến độc lập)\n",
        "  * Phân tích/dự báo bằng học máy\n",
        "    * Chọn kỹ thuật\n",
        "  * Đánh giá hiệu quả\n",
        "    * Sử dụng độ đo (metrics) phù hợp bài toán\n",
        "\n",
        "\n",
        "\n",
        "\n",
        "\n"
      ]
    },
    {
      "cell_type": "code",
      "execution_count": null,
      "metadata": {
        "id": "zGFcVEeslKq1"
      },
      "outputs": [],
      "source": [
        "import numpy as np\n",
        "import pandas as pd\n",
        "import matplotlib.pyplot as plt\n",
        "import seaborn as sns\n",
        "import cv2\n"
      ]
    },
    {
      "cell_type": "markdown",
      "metadata": {
        "id": "Ma-0aPPSlYP_"
      },
      "source": [
        "#1- Thu thập"
      ]
    },
    {
      "cell_type": "markdown",
      "metadata": {
        "id": "l71t7iZ1tFp0"
      },
      "source": [
        "## 1.1- Tải dữ liệu"
      ]
    },
    {
      "cell_type": "code",
      "execution_count": null,
      "metadata": {
        "colab": {
          "base_uri": "https://localhost:8080/"
        },
        "id": "zuXvtFSvlW-l",
        "outputId": "a1bc3f50-322d-40a0-ab9d-2e297bc7f97d"
      },
      "outputs": [
        {
          "name": "stdout",
          "output_type": "stream",
          "text": [
            "--2024-03-27 07:24:03--  http://mlg.ucd.ie/files/datasets/bbc-fulltext.zip\n",
            "Resolving mlg.ucd.ie (mlg.ucd.ie)... 137.43.93.132\n",
            "Connecting to mlg.ucd.ie (mlg.ucd.ie)|137.43.93.132|:80... connected.\n",
            "HTTP request sent, awaiting response... 200 OK\n",
            "Length: 2874079 (2.7M) [application/zip]\n",
            "Saving to: ‘bbc-fulltext.zip’\n",
            "\n",
            "bbc-fulltext.zip    100%[===================>]   2.74M  1.02MB/s    in 2.7s    \n",
            "\n",
            "2024-03-27 07:24:07 (1.02 MB/s) - ‘bbc-fulltext.zip’ saved [2874079/2874079]\n",
            "\n"
          ]
        }
      ],
      "source": [
        "!rm -f bbc-fulltext.zip\n",
        "!wget http://mlg.ucd.ie/files/datasets/bbc-fulltext.zip\n",
        "!rm -rf bbc\n",
        "!unzip -q bbc-fulltext.zip\n"
      ]
    },
    {
      "cell_type": "markdown",
      "metadata": {
        "id": "2hX4HR0Ht77s"
      },
      "source": [
        "## 1.2- Xác định danh sách nhãn"
      ]
    },
    {
      "cell_type": "code",
      "execution_count": null,
      "metadata": {
        "colab": {
          "base_uri": "https://localhost:8080/"
        },
        "id": "hz4OqGNStLdd",
        "outputId": "6eaa4937-cf8d-4aed-8d09-1a5bb316707b"
      },
      "outputs": [
        {
          "data": {
            "text/plain": [
              "['entertainment', 'sport', 'politics', 'business', 'tech']"
            ]
          },
          "execution_count": 3,
          "metadata": {},
          "output_type": "execute_result"
        }
      ],
      "source": [
        "import os\n",
        "path = \"./bbc\"\n",
        "class_names = os.listdir(path)\n",
        "class_names = [p for p in class_names if os.path.isdir(os.path.join(path, p))]\n",
        "class_names"
      ]
    },
    {
      "cell_type": "code",
      "execution_count": null,
      "metadata": {
        "colab": {
          "base_uri": "https://localhost:8080/"
        },
        "id": "Y-ViR4D6ugY2",
        "outputId": "74b39d6c-5218-46d2-fd5b-783a5608165a"
      },
      "outputs": [
        {
          "name": "stdout",
          "output_type": "stream",
          "text": [
            "2225\n",
            "2225\n"
          ]
        }
      ],
      "source": [
        "all_files = []\n",
        "target = []\n",
        "for label in class_names:\n",
        "  files = os.listdir(os.path.join(path, label))\n",
        "  files = [os.path.join(path, label, p) for p in files if p.endswith('.txt')]\n",
        "  all_files = all_files + files\n",
        "  target = target + [label]*len(files)\n",
        "\n",
        "text = []\n",
        "for file in all_files:\n",
        "  with open(file) as f:\n",
        "    lines = f.readlines()\n",
        "    f.close()\n",
        "  text.append(\" \".join(lines))\n",
        "\n",
        "print(len(text))\n",
        "print(len(target))\n"
      ]
    },
    {
      "cell_type": "code",
      "execution_count": null,
      "metadata": {
        "colab": {
          "base_uri": "https://localhost:8080/",
          "height": 36
        },
        "id": "wyynl4h2u2o-",
        "outputId": "f0574a51-5fb3-4765-fd83-84edfc78995f"
      },
      "outputs": [
        {
          "data": {
            "text/plain": [
              "'entertainment'"
            ]
          },
          "execution_count": 5,
          "metadata": {},
          "output_type": "execute_result"
        }
      ],
      "source": [
        "target[0]"
      ]
    },
    {
      "cell_type": "code",
      "execution_count": null,
      "metadata": {
        "colab": {
          "base_uri": "https://localhost:8080/",
          "height": 201
        },
        "id": "hshcCmcwunaq",
        "outputId": "08d64bdb-36f0-422b-83eb-9bae1817521f"
      },
      "outputs": [
        {
          "data": {
            "text/plain": [
              "'Elvis set to top UK singles chart\\n \\n Rock \\'n\\' roll legend Elvis is set to top the UK singles chart on Sunday, 27 years after his death.\\n \\n The re-release of hit song Jailhouse Rock was out-selling X Factor winner Steve Brockstein\\'s cover of Against All Odds by 2,000 copies on Tuesday. If the record does make the top spot, it will be Elvis\\' 19th UK number one. The last time he topped the charts was with the remix of the little-known song A Little Less Conversation, which was number one in June 2002. If Jailhouse Rock does reach number one on Sunday, it will be the 999th in the history of the UK pop charts. The song first topped the charts in 1958. Chart analysts say Elvis could score the 1000th number one as well. His record One Night will be released the following week, followed the week after by A Fool Such As I, as part of his record company SonyBMG\\'s new Elvis campaign. It has called it \"the most ambitious singles release campaign in the history of the UK record industry\".\\n'"
            ]
          },
          "execution_count": 6,
          "metadata": {},
          "output_type": "execute_result"
        }
      ],
      "source": [
        "text[0]"
      ]
    },
    {
      "cell_type": "code",
      "execution_count": null,
      "metadata": {
        "colab": {
          "base_uri": "https://localhost:8080/"
        },
        "id": "fbB0-bi_u7-x",
        "outputId": "9a1eb75f-5f12-4194-9edf-83927302b55f"
      },
      "outputs": [
        {
          "name": "stdout",
          "output_type": "stream",
          "text": [
            "<class 'pandas.core.frame.DataFrame'>\n",
            "RangeIndex: 2225 entries, 0 to 2224\n",
            "Data columns (total 2 columns):\n",
            " #   Column  Non-Null Count  Dtype \n",
            "---  ------  --------------  ----- \n",
            " 0   text    2225 non-null   object\n",
            " 1   label   2225 non-null   object\n",
            "dtypes: object(2)\n",
            "memory usage: 34.9+ KB\n"
          ]
        }
      ],
      "source": [
        "import pandas as pd\n",
        "\n",
        "df = pd.DataFrame({\n",
        "    \"text\": text,\n",
        "    \"label\": target\n",
        "})\n",
        "df.info()"
      ]
    },
    {
      "cell_type": "code",
      "execution_count": null,
      "metadata": {
        "colab": {
          "base_uri": "https://localhost:8080/"
        },
        "id": "yeQCEOn1vLZg",
        "outputId": "419f9fe7-ce90-43c5-e1a2-06a9482fbfc7"
      },
      "outputs": [
        {
          "data": {
            "text/plain": [
              "label\n",
              "sport            511\n",
              "business         510\n",
              "politics         417\n",
              "tech             401\n",
              "entertainment    386\n",
              "Name: count, dtype: int64"
            ]
          },
          "execution_count": 8,
          "metadata": {},
          "output_type": "execute_result"
        }
      ],
      "source": [
        "df.label.value_counts()"
      ]
    },
    {
      "cell_type": "code",
      "execution_count": null,
      "metadata": {
        "colab": {
          "base_uri": "https://localhost:8080/",
          "height": 534
        },
        "id": "zlV-l25xv6Xl",
        "outputId": "a3a0c1ef-e495-44fb-bd6f-67aa0c1ef6ad"
      },
      "outputs": [
        {
          "data": {
            "text/plain": [
              "<AxesSubplot:xlabel='label'>"
            ]
          },
          "execution_count": 9,
          "metadata": {},
          "output_type": "execute_result"
        },
        {
          "data": {
            "image/png": "[encoded data removed]",
            "text/plain": [
              "<Figure size 640x480 with 1 Axes>"
            ]
          },
          "metadata": {},
          "output_type": "display_data"
        }
      ],
      "source": [
        "df.label.value_counts().plot(kind=\"bar\")"
      ]
    },
    {
      "cell_type": "markdown",
      "metadata": {
        "id": "D7FLvXNKweB-"
      },
      "source": [
        "## 1.3- Trích đặc trưng\n"
      ]
    },
    {
      "cell_type": "code",
      "execution_count": null,
      "metadata": {
        "colab": {
          "base_uri": "https://localhost:8080/"
        },
        "id": "JQeuwst3wB6h",
        "outputId": "e60f32e2-6767-4c7f-d4ba-54851688b2ff"
      },
      "outputs": [
        {
          "name": "stderr",
          "output_type": "stream",
          "text": [
            "[nltk_data] Downloading package stopwords to /home/user/nltk_data...\n",
            "[nltk_data]   Package stopwords is already up-to-date!\n"
          ]
        }
      ],
      "source": [
        "import nltk\n",
        "nltk.download('stopwords')\n",
        "from nltk.corpus import stopwords\n",
        "\n",
        "from sklearn.model_selection import train_test_split, cross_val_score\n",
        "from sklearn.pipeline import Pipeline\n",
        "from sklearn.feature_extraction.text import TfidfVectorizer, CountVectorizer\n",
        "from sklearn.preprocessing import LabelEncoder\n",
        "from sklearn.metrics import classification_report #, plot_confusion_matrix\n"
      ]
    },
    {
      "cell_type": "code",
      "execution_count": null,
      "metadata": {
        "id": "uAasaDAKwhT3"
      },
      "outputs": [],
      "source": [
        "text = df.iloc[:, 0].to_numpy().tolist()\n",
        "target = df.iloc[:, -1].to_numpy()"
      ]
    },
    {
      "cell_type": "code",
      "execution_count": null,
      "metadata": {
        "colab": {
          "base_uri": "https://localhost:8080/"
        },
        "id": "78T0wO1DxDmi",
        "outputId": "eb96645c-a525-4a8a-bfed-6f80fdb89d64"
      },
      "outputs": [
        {
          "data": {
            "text/plain": [
              "list"
            ]
          },
          "execution_count": 14,
          "metadata": {},
          "output_type": "execute_result"
        }
      ],
      "source": [
        "type(text)"
      ]
    },
    {
      "cell_type": "code",
      "execution_count": null,
      "metadata": {
        "colab": {
          "base_uri": "https://localhost:8080/"
        },
        "id": "4LJTCMMOxLgr",
        "outputId": "cf8d90bf-8a3c-459d-c069-063d5178d306"
      },
      "outputs": [
        {
          "data": {
            "text/plain": [
              "numpy.ndarray"
            ]
          },
          "execution_count": 15,
          "metadata": {},
          "output_type": "execute_result"
        }
      ],
      "source": [
        "type(target)"
      ]
    },
    {
      "cell_type": "code",
      "execution_count": null,
      "metadata": {
        "colab": {
          "base_uri": "https://localhost:8080/",
          "height": 36
        },
        "id": "dUazPU3uxGBz",
        "outputId": "20baa2c6-555e-4da8-b839-1d72111cc489"
      },
      "outputs": [
        {
          "data": {
            "text/plain": [
              "'entertainment'"
            ]
          },
          "execution_count": 16,
          "metadata": {},
          "output_type": "execute_result"
        }
      ],
      "source": [
        "target[0]"
      ]
    },
    {
      "cell_type": "code",
      "execution_count": null,
      "metadata": {
        "id": "BQKfPWKcxI5r"
      },
      "outputs": [],
      "source": [
        "en_stopwords = stopwords.words('english')\n",
        "\n",
        "bow_vectorizer = CountVectorizer(stop_words=en_stopwords)\n",
        "tfidf_vectorizer = TfidfVectorizer(stop_words=en_stopwords)\n",
        "\n",
        "\n",
        "X_bow = bow_vectorizer.fit_transform(text)\n",
        "X_tfidf = tfidf_vectorizer.fit_transform(text)"
      ]
    },
    {
      "cell_type": "code",
      "execution_count": null,
      "metadata": {
        "colab": {
          "base_uri": "https://localhost:8080/"
        },
        "id": "m6a1ypA3xUCY",
        "outputId": "155f1afa-80e4-43cf-d973-2a1779a82d05"
      },
      "outputs": [
        {
          "data": {
            "text/plain": [
              "list"
            ]
          },
          "execution_count": 18,
          "metadata": {},
          "output_type": "execute_result"
        }
      ],
      "source": [
        "type(en_stopwords)"
      ]
    },
    {
      "cell_type": "code",
      "execution_count": null,
      "metadata": {
        "colab": {
          "base_uri": "https://localhost:8080/"
        },
        "id": "pscgbHLQxvgZ",
        "outputId": "530afb72-360e-460b-ab63-cf510e443a36"
      },
      "outputs": [
        {
          "data": {
            "text/plain": [
              "179"
            ]
          },
          "execution_count": 19,
          "metadata": {},
          "output_type": "execute_result"
        }
      ],
      "source": [
        "len(en_stopwords)"
      ]
    },
    {
      "cell_type": "code",
      "execution_count": null,
      "metadata": {
        "id": "eHPY-tzzxyLU",
        "outputId": "f91d7d10-ef36-46cb-ca4b-fd7a05beea2a"
      },
      "outputs": [
        {
          "data": {
            "text/plain": [
              "['i',\n",
              " 'me',\n",
              " 'my',\n",
              " 'myself',\n",
              " 'we',\n",
              " 'our',\n",
              " 'ours',\n",
              " 'ourselves',\n",
              " 'you',\n",
              " \"you're\",\n",
              " \"you've\",\n",
              " \"you'll\",\n",
              " \"you'd\",\n",
              " 'your',\n",
              " 'yours',\n",
              " 'yourself',\n",
              " 'yourselves',\n",
              " 'he',\n",
              " 'him',\n",
              " 'his',\n",
              " 'himself',\n",
              " 'she',\n",
              " \"she's\",\n",
              " 'her',\n",
              " 'hers',\n",
              " 'herself',\n",
              " 'it',\n",
              " \"it's\",\n",
              " 'its',\n",
              " 'itself',\n",
              " 'they',\n",
              " 'them',\n",
              " 'their',\n",
              " 'theirs',\n",
              " 'themselves',\n",
              " 'what',\n",
              " 'which',\n",
              " 'who',\n",
              " 'whom',\n",
              " 'this',\n",
              " 'that',\n",
              " \"that'll\",\n",
              " 'these',\n",
              " 'those',\n",
              " 'am',\n",
              " 'is',\n",
              " 'are',\n",
              " 'was',\n",
              " 'were',\n",
              " 'be',\n",
              " 'been',\n",
              " 'being',\n",
              " 'have',\n",
              " 'has',\n",
              " 'had',\n",
              " 'having',\n",
              " 'do',\n",
              " 'does',\n",
              " 'did',\n",
              " 'doing',\n",
              " 'a',\n",
              " 'an',\n",
              " 'the',\n",
              " 'and',\n",
              " 'but',\n",
              " 'if',\n",
              " 'or',\n",
              " 'because',\n",
              " 'as',\n",
              " 'until',\n",
              " 'while',\n",
              " 'of',\n",
              " 'at',\n",
              " 'by',\n",
              " 'for',\n",
              " 'with',\n",
              " 'about',\n",
              " 'against',\n",
              " 'between',\n",
              " 'into',\n",
              " 'through',\n",
              " 'during',\n",
              " 'before',\n",
              " 'after',\n",
              " 'above',\n",
              " 'below',\n",
              " 'to',\n",
              " 'from',\n",
              " 'up',\n",
              " 'down',\n",
              " 'in',\n",
              " 'out',\n",
              " 'on',\n",
              " 'off',\n",
              " 'over',\n",
              " 'under',\n",
              " 'again',\n",
              " 'further',\n",
              " 'then',\n",
              " 'once',\n",
              " 'here',\n",
              " 'there',\n",
              " 'when',\n",
              " 'where',\n",
              " 'why',\n",
              " 'how',\n",
              " 'all',\n",
              " 'any',\n",
              " 'both',\n",
              " 'each',\n",
              " 'few',\n",
              " 'more',\n",
              " 'most',\n",
              " 'other',\n",
              " 'some',\n",
              " 'such',\n",
              " 'no',\n",
              " 'nor',\n",
              " 'not',\n",
              " 'only',\n",
              " 'own',\n",
              " 'same',\n",
              " 'so',\n",
              " 'than',\n",
              " 'too',\n",
              " 'very',\n",
              " 's',\n",
              " 't',\n",
              " 'can',\n",
              " 'will',\n",
              " 'just',\n",
              " 'don',\n",
              " \"don't\",\n",
              " 'should',\n",
              " \"should've\",\n",
              " 'now',\n",
              " 'd',\n",
              " 'll',\n",
              " 'm',\n",
              " 'o',\n",
              " 're',\n",
              " 've',\n",
              " 'y',\n",
              " 'ain',\n",
              " 'aren',\n",
              " \"aren't\",\n",
              " 'couldn',\n",
              " \"couldn't\",\n",
              " 'didn',\n",
              " \"didn't\",\n",
              " 'doesn',\n",
              " \"doesn't\",\n",
              " 'hadn',\n",
              " \"hadn't\",\n",
              " 'hasn',\n",
              " \"hasn't\",\n",
              " 'haven',\n",
              " \"haven't\",\n",
              " 'isn',\n",
              " \"isn't\",\n",
              " 'ma',\n",
              " 'mightn',\n",
              " \"mightn't\",\n",
              " 'mustn',\n",
              " \"mustn't\",\n",
              " 'needn',\n",
              " \"needn't\",\n",
              " 'shan',\n",
              " \"shan't\",\n",
              " 'shouldn',\n",
              " \"shouldn't\",\n",
              " 'wasn',\n",
              " \"wasn't\",\n",
              " 'weren',\n",
              " \"weren't\",\n",
              " 'won',\n",
              " \"won't\",\n",
              " 'wouldn',\n",
              " \"wouldn't\"]"
            ]
          },
          "execution_count": 20,
          "metadata": {},
          "output_type": "execute_result"
        }
      ],
      "source": [
        "en_stopwords"
      ]
    },
    {
      "cell_type": "code",
      "execution_count": null,
      "metadata": {
        "colab": {
          "base_uri": "https://localhost:8080/"
        },
        "id": "oAF0So3sx0MO",
        "outputId": "e8ebb00e-e97f-42ef-eaa6-c0d917e65464"
      },
      "outputs": [
        {
          "data": {
            "text/plain": [
              "scipy.sparse._csr.csr_matrix"
            ]
          },
          "execution_count": 21,
          "metadata": {},
          "output_type": "execute_result"
        }
      ],
      "source": [
        "type(X_bow)"
      ]
    },
    {
      "cell_type": "code",
      "execution_count": null,
      "metadata": {
        "colab": {
          "base_uri": "https://localhost:8080/"
        },
        "id": "i2moxN7cyLzV",
        "outputId": "671f9e6d-1db4-49e2-e04c-43f34e86e54c"
      },
      "outputs": [
        {
          "data": {
            "text/plain": [
              "(2225, 29280)"
            ]
          },
          "execution_count": 22,
          "metadata": {},
          "output_type": "execute_result"
        }
      ],
      "source": [
        "X_bow.shape"
      ]
    },
    {
      "cell_type": "code",
      "execution_count": null,
      "metadata": {
        "colab": {
          "base_uri": "https://localhost:8080/"
        },
        "id": "gCIF5AQPyYTn",
        "outputId": "dde8e241-1c47-498b-8659-ee1f03df1177"
      },
      "outputs": [
        {
          "data": {
            "text/plain": [
              "{'elvis': 9442,\n",
              " 'set': 23637,\n",
              " 'top': 26692,\n",
              " 'uk': 27262,\n",
              " 'singles': 24140,\n",
              " 'chart': 5617,\n",
              " 'rock': 22612,\n",
              " 'roll': 22649,\n",
              " 'legend': 15675,\n",
              " 'sunday': 25590,\n",
              " '27': 622,\n",
              " 'years': 29124,\n",
              " 'death': 7670,\n",
              " 'release': 21888,\n",
              " 'hit': 13030,\n",
              " 'song': 24552,\n",
              " 'jailhouse': 14559,\n",
              " 'selling': 23521,\n",
              " 'factor': 10318,\n",
              " 'winner': 28782,\n",
              " 'steve': 25155,\n",
              " 'brockstein': 4661,\n",
              " 'cover': 7108,\n",
              " 'odds': 18638,\n",
              " '000': 1,\n",
              " 'copies': 6916,\n",
              " 'tuesday': 27123,\n",
              " 'record': 21596,\n",
              " 'make': 16452,\n",
              " 'spot': 24845,\n",
              " '19th': 460,\n",
              " 'number': 18504,\n",
              " 'one': 18756,\n",
              " 'last': 15503,\n",
              " 'time': 26553,\n",
              " 'topped': 26697,\n",
              " 'charts': 5623,\n",
              " 'remix': 21962,\n",
              " 'little': 16004,\n",
              " 'known': 15233,\n",
              " 'less': 15744,\n",
              " 'conversation': 6858,\n",
              " 'june': 14874,\n",
              " '2002': 473,\n",
              " 'reach': 21430,\n",
              " '999th': 1464,\n",
              " 'history': 13029,\n",
              " 'pop': 20262,\n",
              " 'first': 10810,\n",
              " '1958': 406,\n",
              " 'analysts': 2400,\n",
              " 'say': 23137,\n",
              " 'could': 7044,\n",
              " 'score': 23290,\n",
              " '1000th': 72,\n",
              " 'well': 28552,\n",
              " 'night': 18288,\n",
              " 'released': 21889,\n",
              " 'following': 11027,\n",
              " 'week': 28515,\n",
              " 'followed': 11025,\n",
              " 'fool': 11043,\n",
              " 'part': 19390,\n",
              " 'company': 6367,\n",
              " 'sonybmg': 24563,\n",
              " 'new': 18205,\n",
              " 'campaign': 5071,\n",
              " 'called': 5031,\n",
              " 'ambitious': 2306,\n",
              " 'industry': 13906,\n",
              " 'richard': 22425,\n",
              " 'judy': 14846,\n",
              " 'choose': 5770,\n",
              " 'books': 4314,\n",
              " '10': 68,\n",
              " 'authors': 3130,\n",
              " 'shortlisted': 23929,\n",
              " 'book': 4303,\n",
              " 'award': 3195,\n",
              " '2005': 476,\n",
              " 'hoping': 13189,\n",
              " 'boost': 4327,\n",
              " 'sales': 22971,\n",
              " 'success': 25503,\n",
              " 'year': 29120,\n",
              " 'tv': 27185,\n",
              " 'couple': 7080,\n",
              " 'interest': 14213,\n",
              " 'world': 28949,\n",
              " 'coined': 6173,\n",
              " 'term': 26267,\n",
              " 'effect': 9294,\n",
              " 'created': 7182,\n",
              " 'two': 27214,\n",
              " 'best': 3869,\n",
              " 'paperbacks': 19320,\n",
              " '2004': 475,\n",
              " 'far': 10421,\n",
              " 'finalists': 10722,\n",
              " 'include': 13788,\n",
              " 'andrew': 2434,\n",
              " 'taylor': 26108,\n",
              " 'american': 2326,\n",
              " 'boy': 4439,\n",
              " 'robbie': 22579,\n",
              " 'williams': 28725,\n",
              " 'autobiography': 3135,\n",
              " 'feel': 10544,\n",
              " 'alice': 2157,\n",
              " 'sebold': 23429,\n",
              " 'lovely': 16192,\n",
              " 'bones': 4287,\n",
              " 'sold': 24509,\n",
              " 'million': 17304,\n",
              " 'joseph': 14796,\n",
              " 'connor': 6637,\n",
              " 'star': 25024,\n",
              " 'sea': 23381,\n",
              " 'came': 5059,\n",
              " 'second': 23434,\n",
              " 'saw': 23132,\n",
              " 'increase': 13814,\n",
              " '350': 771,\n",
              " 'read': 21440,\n",
              " 'madeley': 16369,\n",
              " 'finnigan': 10770,\n",
              " 'channel': 5570,\n",
              " 'show': 23947,\n",
              " 'british': 4625,\n",
              " 'awards': 3198,\n",
              " 'david': 7616,\n",
              " 'mitchell': 17465,\n",
              " 'booker': 4306,\n",
              " 'novel': 18470,\n",
              " 'cloud': 6071,\n",
              " 'atlas': 2997,\n",
              " 'makes': 16459,\n",
              " 'along': 2233,\n",
              " 'several': 23662,\n",
              " 'lesser': 15748,\n",
              " 'works': 28943,\n",
              " 'doubt': 8847,\n",
              " 'selection': 23506,\n",
              " 'club': 6077,\n",
              " 'entries': 9735,\n",
              " 'yet': 29140,\n",
              " 'anything': 2576,\n",
              " 'choice': 5757,\n",
              " 'even': 9978,\n",
              " 'wider': 28685,\n",
              " 'said': 22950,\n",
              " 'hard': 12567,\n",
              " 'follow': 11024,\n",
              " 'extremely': 10269,\n",
              " 'successful': 25505,\n",
              " 'list': 15979,\n",
              " 'think': 26404,\n",
              " 'better': 3889,\n",
              " 'executive': 10093,\n",
              " 'producer': 20713,\n",
              " 'amanda': 2281,\n",
              " 'ross': 22711,\n",
              " 'spoiled': 24810,\n",
              " 'tough': 26765,\n",
              " 'getting': 11763,\n",
              " '301': 697,\n",
              " 'submitted': 25457,\n",
              " 'britney': 4627,\n",
              " 'attacks': 3021,\n",
              " 'false': 10381,\n",
              " 'tabloids': 25921,\n",
              " 'spears': 24700,\n",
              " 'attacked': 3017,\n",
              " 'desperate': 8123,\n",
              " 'us': 27784,\n",
              " 'tabloid': 25920,\n",
              " 'magazines': 16385,\n",
              " 'questioning': 21136,\n",
              " 'honesty': 13152,\n",
              " 'reported': 22072,\n",
              " 'pregnant': 20485,\n",
              " 'letter': 15759,\n",
              " 'website': 28500,\n",
              " 'singer': 24134,\n",
              " 'named': 17968,\n",
              " 'celebrity': 5427,\n",
              " 'weekly': 28518,\n",
              " 'touch': 26756,\n",
              " 'worst': 28966,\n",
              " 'offenders': 18658,\n",
              " 'face': 10302,\n",
              " 'going': 11980,\n",
              " 'life': 15857,\n",
              " 'guess': 12308,\n",
              " 'remain': 21929,\n",
              " '23': 550,\n",
              " 'old': 18716,\n",
              " 'wrote': 29022,\n",
              " 'stories': 25253,\n",
              " 'state': 25054,\n",
              " 'marriage': 16692,\n",
              " 'kevin': 15067,\n",
              " 'federline': 10536,\n",
              " 'rumours': 22839,\n",
              " 'pregnancy': 20484,\n",
              " 'recently': 21541,\n",
              " 'appeared': 2619,\n",
              " 'topping': 26700,\n",
              " 'shed': 23797,\n",
              " 'light': 15875,\n",
              " 'february': 10527,\n",
              " 'clashed': 5940,\n",
              " 'publishing': 20965,\n",
              " 'pictures': 19916,\n",
              " 'honeymoon': 13155,\n",
              " 'fiji': 10686,\n",
              " 'without': 28835,\n",
              " 'permission': 19711,\n",
              " 'married': 16694,\n",
              " 'los': 16162,\n",
              " 'angeles': 2447,\n",
              " 'september': 23589,\n",
              " 'claimed': 5901,\n",
              " 'staff': 24950,\n",
              " 'took': 26678,\n",
              " 'photographs': 19873,\n",
              " 'later': 15510,\n",
              " 'allowed': 2216,\n",
              " 'taken': 25961,\n",
              " 'assured': 2960,\n",
              " 'would': 28973,\n",
              " 'used': 27795,\n",
              " 'private': 20655,\n",
              " 'scrapbook': 23321,\n",
              " 'received': 21535,\n",
              " 'souvenir': 24630,\n",
              " 'magazine': 16384,\n",
              " 'unrepentant': 27633,\n",
              " 'decision': 7727,\n",
              " 'publish': 20960,\n",
              " 'saying': 23140,\n",
              " 'start': 25042,\n",
              " 'like': 15884,\n",
              " 'dictate': 8261,\n",
              " 'coverage': 7109,\n",
              " 'coming': 6288,\n",
              " 'wedding': 28505,\n",
              " 'stepdaughter': 25132,\n",
              " 'unlikely': 27570,\n",
              " 'issue': 14488,\n",
              " 'privacy': 20654,\n",
              " 'added': 1770,\n",
              " 'approached': 2666,\n",
              " 'chose': 5788,\n",
              " 'contact': 6745,\n",
              " 'instead': 14125,\n",
              " 'church': 5822,\n",
              " 'anger': 2450,\n",
              " 'bollywood': 4256,\n",
              " 'film': 10701,\n",
              " 'roman': 22659,\n",
              " 'catholic': 5359,\n",
              " 'organisations': 18885,\n",
              " 'india': 13849,\n",
              " 'demanded': 7920,\n",
              " 'withdrawal': 28823,\n",
              " 'depicts': 8015,\n",
              " 'priest': 20611,\n",
              " 'affair': 1920,\n",
              " 'girl': 11841,\n",
              " 'half': 12439,\n",
              " 'age': 1964,\n",
              " 'indian': 13850,\n",
              " 'television': 26203,\n",
              " 'channels': 5572,\n",
              " 'refusing': 21744,\n",
              " 'run': 22841,\n",
              " 'promotional': 20796,\n",
              " 'material': 16781,\n",
              " 'sins': 24152,\n",
              " 'ahead': 2023,\n",
              " 'friday': 11313,\n",
              " 'director': 8375,\n",
              " 'vinod': 28117,\n",
              " 'pande': 19288,\n",
              " 'says': 23142,\n",
              " 'movie': 17759,\n",
              " 'offensive': 18660,\n",
              " 'refused': 21741,\n",
              " 'withdraw': 28822,\n",
              " 'catholics': 5361,\n",
              " 'planning': 20047,\n",
              " 'protest': 20874,\n",
              " 'mumbai': 17853,\n",
              " 'bombay': 4270,\n",
              " 'wednesday': 28509,\n",
              " 'president': 20547,\n",
              " 'main': 16428,\n",
              " 'dolphy': 8753,\n",
              " 'souza': 24631,\n",
              " 'portrayal': 20310,\n",
              " 'ordained': 18864,\n",
              " 'man': 16519,\n",
              " 'loose': 16143,\n",
              " 'moral': 17643,\n",
              " 'character': 5583,\n",
              " 'hurt': 13397,\n",
              " 'religious': 21910,\n",
              " 'sentiments': 23576,\n",
              " 'community': 6361,\n",
              " 'pornographic': 20285,\n",
              " 'sensational': 23553,\n",
              " 'mr': 17785,\n",
              " 'also': 2244,\n",
              " 'vice': 28032,\n",
              " 'national': 18036,\n",
              " 'body': 4225,\n",
              " 'accused': 1678,\n",
              " 'portraying': 20312,\n",
              " 'bad': 3293,\n",
              " 'commercial': 6316,\n",
              " 'gains': 11493,\n",
              " 'urged': 27774,\n",
              " 'respect': 22186,\n",
              " 'christian': 5795,\n",
              " 'religion': 21907,\n",
              " 'needs': 18107,\n",
              " 'personal': 19743,\n",
              " 'subject': 25446,\n",
              " 'entertainment': 9709,\n",
              " 'use': 27793,\n",
              " 'dias': 8250,\n",
              " 'general': 11673,\n",
              " 'secretary': 23442,\n",
              " 'secular': 23453,\n",
              " 'forum': 11156,\n",
              " 'statement': 25057,\n",
              " 'critics': 7258,\n",
              " 'see': 23466,\n",
              " 'insist': 14089,\n",
              " 'plans': 20048,\n",
              " 'cancel': 5095,\n",
              " 'scheduled': 23211,\n",
              " 'screening': 23335,\n",
              " 'forbidden': 11067,\n",
              " 'love': 16189,\n",
              " 'agenda': 1972,\n",
              " 'whatsoever': 28603,\n",
              " 'anyone': 2575,\n",
              " 'bbc': 3598,\n",
              " 'zubair': 29274,\n",
              " 'ahmed': 2026,\n",
              " 'controversial': 6842,\n",
              " 'shows': 23964,\n",
              " 'steamy': 25102,\n",
              " 'scenes': 23198,\n",
              " 'apparently': 2611,\n",
              " 'goes': 11976,\n",
              " 'help': 12843,\n",
              " 'falls': 10379,\n",
              " 'takes': 25966,\n",
              " 'place': 20020,\n",
              " 'picturesque': 19917,\n",
              " 'southern': 24624,\n",
              " 'kerala': 15056,\n",
              " 'already': 2242,\n",
              " 'cleared': 5976,\n",
              " 'censor': 5444,\n",
              " 'board': 4200,\n",
              " 'adults': 1866,\n",
              " 'certificate': 5488,\n",
              " 'shocked': 23888,\n",
              " 'clear': 5974,\n",
              " 'correspondent': 6982,\n",
              " 'dragged': 8909,\n",
              " 'controversy': 6845,\n",
              " 'screened': 23334,\n",
              " 'come': 6272,\n",
              " 'watching': 28427,\n",
              " 'newspaper': 18229,\n",
              " 'advertisements': 1886,\n",
              " 'hoardings': 13059,\n",
              " 'christians': 5797,\n",
              " 'per': 19662,\n",
              " 'cent': 5451,\n",
              " 'population': 20276,\n",
              " 'billion': 3957,\n",
              " 'people': 19650,\n",
              " 'global': 11905,\n",
              " 'japan': 14600,\n",
              " 'oscar': 18940,\n",
              " 'winning': 28784,\n",
              " 'animator': 2478,\n",
              " 'hayao': 12692,\n",
              " 'miyazaki': 17479,\n",
              " 'latest': 15512,\n",
              " 'howl': 13299,\n",
              " 'moving': 17762,\n",
              " 'castle': 5319,\n",
              " '50': 979,\n",
              " 'countries': 7070,\n",
              " 'around': 2792,\n",
              " 'distributor': 8628,\n",
              " 'japanese': 14601,\n",
              " 'box': 4435,\n",
              " 'office': 18667,\n",
              " 'taking': 25967,\n",
              " '5bn': 1092,\n",
              " 'yen': 29132,\n",
              " '7m': 1293,\n",
              " 'days': 7632,\n",
              " 'earlier': 9146,\n",
              " 'spirited': 24793,\n",
              " 'away': 3201,\n",
              " 'academy': 1594,\n",
              " 'nearly': 18085,\n",
              " 'based': 3527,\n",
              " 'children': 5732,\n",
              " 'fantasy': 10419,\n",
              " 'author': 3119,\n",
              " 'diana': 8244,\n",
              " 'wynne': 29040,\n",
              " 'jones': 14780,\n",
              " 'tells': 26211,\n",
              " 'story': 25260,\n",
              " '18': 309,\n",
              " 'woman': 28879,\n",
              " 'ages': 1976,\n",
              " 'dramatically': 8924,\n",
              " 'falling': 10375,\n",
              " 'witch': 28820,\n",
              " 'spell': 24747,\n",
              " 'heads': 12735,\n",
              " 'kept': 15055,\n",
              " 'wizard': 28847,\n",
              " 'searches': 23405,\n",
              " 'way': 28451,\n",
              " 'become': 3668,\n",
              " 'normal': 18397,\n",
              " 'spokesman': 24816,\n",
              " 'toho': 26632,\n",
              " 'strong': 25375,\n",
              " 'domestic': 8760,\n",
              " 'audiences': 3073,\n",
              " 'foreign': 11089,\n",
              " 'media': 16996,\n",
              " 'viewers': 28072,\n",
              " 'alike': 2168,\n",
              " 'good': 12010,\n",
              " 'feeling': 10546,\n",
              " 'viewer': 28071,\n",
              " 'response': 22202,\n",
              " 'worldwide': 28952,\n",
              " 'south': 24617,\n",
              " 'korea': 15267,\n",
              " '24': 567,\n",
              " 'december': 7709,\n",
              " 'france': 11219,\n",
              " '12': 137,\n",
              " 'january': 14597,\n",
              " 'fox': 11188,\n",
              " 'behind': 3718,\n",
              " 'theatre': 26363,\n",
              " 'bid': 3931,\n",
              " 'leading': 15597,\n",
              " 'actor': 1739,\n",
              " 'edward': 9285,\n",
              " 'men': 17086,\n",
              " 'reopen': 22024,\n",
              " 'swansea': 25790,\n",
              " 'thought': 26439,\n",
              " 'wales': 28301,\n",
              " 'oldest': 18718,\n",
              " 'hits': 13039,\n",
              " 'day': 7628,\n",
              " 'jackal': 14529,\n",
              " 'mrs': 17787,\n",
              " 'simpson': 24107,\n",
              " 'joined': 14752,\n",
              " 'forces': 11071,\n",
              " 'born': 4353,\n",
              " 'terry': 26292,\n",
              " 'palmer': 19265,\n",
              " 'charity': 5604,\n",
              " 'raise': 21283,\n",
              " 'money': 17584,\n",
              " 'buy': 4939,\n",
              " 'palace': 19253,\n",
              " 'hope': 13180,\n",
              " 'summer': 25582,\n",
              " '2006': 477,\n",
              " 'estimated': 9896,\n",
              " '500': 980,\n",
              " 'needed': 18101,\n",
              " 'grade': 12090,\n",
              " 'ii': 13564,\n",
              " 'listed': 15980,\n",
              " 'building': 4799,\n",
              " 'pavilion': 19513,\n",
              " 'repertory': 22053,\n",
              " 'undisclosed': 27445,\n",
              " 'bidder': 3932,\n",
              " 'auction': 3066,\n",
              " '13': 162,\n",
              " 'months': 17624,\n",
              " 'ago': 2000,\n",
              " '340': 761,\n",
              " 'nightclub': 18289,\n",
              " 'sir': 24158,\n",
              " 'anthony': 2546,\n",
              " 'hopkins': 13190,\n",
              " 'nearby': 18082,\n",
              " 'port': 20288,\n",
              " 'talbot': 25971,\n",
              " 'made': 16366,\n",
              " 'professional': 20727,\n",
              " 'debut': 7690,\n",
              " 'charlie': 5609,\n",
              " 'chaplin': 5579,\n",
              " 'lily': 15907,\n",
              " 'langtry': 15462,\n",
              " 'trodden': 27042,\n",
              " 'boards': 4204,\n",
              " 'told': 26641,\n",
              " 'evening': 9979,\n",
              " 'post': 20339,\n",
              " 'visiting': 28157,\n",
              " 'surprised': 25708,\n",
              " 'beauty': 3648,\n",
              " 'lot': 16173,\n",
              " 'spent': 24760,\n",
              " 'beautiful': 3646,\n",
              " 'skin': 24219,\n",
              " 'call': 5028,\n",
              " 'jewel': 14688,\n",
              " 'estimation': 9899,\n",
              " 'many': 16596,\n",
              " 'theatres': 26365,\n",
              " 'left': 15664,\n",
              " 'immediate': 13627,\n",
              " 'future': 11454,\n",
              " 'attract': 3051,\n",
              " 'enough': 9678,\n",
              " 'forward': 11158,\n",
              " 'allow': 2212,\n",
              " 'prosper': 20852,\n",
              " 'found': 11172,\n",
              " 'fame': 10389,\n",
              " '1960s': 410,\n",
              " 'memorable': 17078,\n",
              " 'roles': 22647,\n",
              " 'assassin': 2909,\n",
              " '1973': 425,\n",
              " 'bafta': 3307,\n",
              " 'prince': 20624,\n",
              " '1980': 434,\n",
              " 'brought': 4697,\n",
              " 'save': 23118,\n",
              " 'long': 16118,\n",
              " 'standing': 25004,\n",
              " 'friend': 11319,\n",
              " '40': 850,\n",
              " 'decided': 7720,\n",
              " 'return': 22302,\n",
              " 'something': 24545,\n",
              " 'city': 5883,\n",
              " 'excited': 10074,\n",
              " 'idea': 13495,\n",
              " 'running': 22849,\n",
              " 'young': 29170,\n",
              " 'actors': 1740,\n",
              " 'develop': 8194,\n",
              " 'annual': 2514,\n",
              " 'shakespeare': 23719,\n",
              " 'festival': 10615,\n",
              " 'five': 10837,\n",
              " 'function': 11403,\n",
              " 'areas': 2731,\n",
              " 'shall': 23726,\n",
              " 'satisfied': 23089,\n",
              " 'helped': 12844,\n",
              " 'create': 7181,\n",
              " 'vital': 28170,\n",
              " 'living': 16024,\n",
              " 'keith': 15024,\n",
              " 'poulton': 20372,\n",
              " 'business': 4911,\n",
              " 'adviser': 1894,\n",
              " 'committed': 6334,\n",
              " 'amount': 2360,\n",
              " 'project': 20767,\n",
              " 'need': 18100,\n",
              " 'least': 15638,\n",
              " '75': 1240,\n",
              " 'secure': 23454,\n",
              " 'deposit': 8032,\n",
              " 'got': 12048,\n",
              " 'benefactors': 3790,\n",
              " 'expressed': 10232,\n",
              " 'give': 11852,\n",
              " 'awful': 3204,\n",
              " 'roads': 22564,\n",
              " 'cordoned': 6942,\n",
              " 'masonry': 16741,\n",
              " 'roof': 22686,\n",
              " 'fell': 10562,\n",
              " 'onto': 18775,\n",
              " 'car': 5185,\n",
              " 'engineers': 9646,\n",
              " 'happy': 12557,\n",
              " 'safe': 22928,\n",
              " 'download': 8878,\n",
              " 'delayed': 7869,\n",
              " 'inclusion': 13792,\n",
              " 'downloaded': 8880,\n",
              " 'music': 17890,\n",
              " 'official': 18671,\n",
              " 'month': 17622,\n",
              " 'phonographic': 19868,\n",
              " 'bpi': 4453,\n",
              " 'planned': 20045,\n",
              " 'formats': 11125,\n",
              " '20': 467,\n",
              " 'march': 16616,\n",
              " 'date': 7601,\n",
              " 'put': 21053,\n",
              " 'back': 3250,\n",
              " '17': 282,\n",
              " 'april': 2680,\n",
              " 'level': 15767,\n",
              " 'playing': 20083,\n",
              " 'field': 10655,\n",
              " 'independent': 13839,\n",
              " 'labels': 15358,\n",
              " 'concerned': 6496,\n",
              " 'repertoire': 22052,\n",
              " 'adequately': 1794,\n",
              " 'represented': 22084,\n",
              " 'online': 18767,\n",
              " 'looking': 16133,\n",
              " 'ways': 28455,\n",
              " 'rectifying': 21625,\n",
              " 'chairman': 5519,\n",
              " 'peter': 19788,\n",
              " 'jamieson': 14580,\n",
              " 'significant': 24060,\n",
              " 'development': 8199,\n",
              " 'multitude': 17849,\n",
              " 'reasons': 21486,\n",
              " 'current': 7408,\n",
              " 'representation': 22081,\n",
              " 'major': 16445,\n",
              " 'outlets': 19006,\n",
              " 'poor': 20258,\n",
              " 'pleased': 20103,\n",
              " 'secured': 23455,\n",
              " 'delay': 7868,\n",
              " 'behalf': 3710,\n",
              " 'independents': 13841,\n",
              " 'try': 27101,\n",
              " 'establish': 9883,\n",
              " 'realistic': 21462,\n",
              " 'opportunity': 18826,\n",
              " 'occ': 18606,\n",
              " 'joint': 14755,\n",
              " 'venture': 27966,\n",
              " 'association': 2948,\n",
              " 'dealers': 7658,\n",
              " 'bard': 3459,\n",
              " 'meeting': 17018,\n",
              " 'agreed': 2009,\n",
              " 'members': 17070,\n",
              " 'postponed': 20355,\n",
              " 'included': 13789,\n",
              " 'published': 20961,\n",
              " 'beginning': 3704,\n",
              " 'merged': 17134,\n",
              " 'billboard': 3952,\n",
              " 'hot': 13247,\n",
              " '100': 69,\n",
              " 'ethnic': 9916,\n",
              " 'producers': 20714,\n",
              " 'barriers': 3504,\n",
              " 'minority': 17368,\n",
              " 'led': 15654,\n",
              " 'mel': 17047,\n",
              " 'production': 20718,\n",
              " 'companies': 6364,\n",
              " 'succeeding': 25500,\n",
              " 'industries': 13904,\n",
              " 'research': 22126,\n",
              " 'suggested': 25547,\n",
              " 'study': 25408,\n",
              " 'commissioned': 6324,\n",
              " 'pact': 19212,\n",
              " 'council': 7045,\n",
              " 'interviews': 14271,\n",
              " 'experts': 10178,\n",
              " 'individuals': 13883,\n",
              " 'indicated': 13854,\n",
              " 'career': 5205,\n",
              " 'progression': 20761,\n",
              " 'lack': 15368,\n",
              " 'role': 22646,\n",
              " 'models': 17515,\n",
              " 'among': 2353,\n",
              " 'problems': 20687,\n",
              " 'within': 28833,\n",
              " 'defined': 7830,\n",
              " 'majority': 16447,\n",
              " 'making': 16462,\n",
              " 'power': 20389,\n",
              " 'rests': 22243,\n",
              " 'individual': 13880,\n",
              " 'group': 12265,\n",
              " 'report': 22071,\n",
              " 'explored': 10207,\n",
              " 'faced': 10303,\n",
              " 'attempting': 3029,\n",
              " 'compete': 6389,\n",
              " 'often': 18692,\n",
              " 'smaller': 24353,\n",
              " 'resources': 22185,\n",
              " 'squeezed': 24914,\n",
              " 'market': 16665,\n",
              " 'bigger': 3940,\n",
              " 'firms': 10809,\n",
              " 'recommended': 21582,\n",
              " 'benefit': 3794,\n",
              " 'positive': 20327,\n",
              " 'actions': 1726,\n",
              " 'training': 26867,\n",
              " 'advice': 1891,\n",
              " 'plus': 20145,\n",
              " 'improved': 13732,\n",
              " 'communication': 6351,\n",
              " 'sectors': 23452,\n",
              " 'rich': 22424,\n",
              " 'diverse': 8649,\n",
              " 'culture': 7373,\n",
              " 'essential': 9878,\n",
              " 'reflected': 21709,\n",
              " 'arts': 2848,\n",
              " 'minister': 17356,\n",
              " 'estelle': 9893,\n",
              " 'morris': 17673,\n",
              " 'findings': 10739,\n",
              " 'welcome': 28546,\n",
              " 'lead': 15591,\n",
              " 'doors': 8812,\n",
              " 'opened': 18791,\n",
              " 'businesses': 4912,\n",
              " 'given': 11855,\n",
              " 'opportunities': 18825,\n",
              " 'gun': 12346,\n",
              " 'residue': 22156,\n",
              " 'robert': 22584,\n",
              " 'blake': 4057,\n",
              " 'gunshot': 12357,\n",
              " 'hands': 12518,\n",
              " 'clothes': 6068,\n",
              " 'wife': 28698,\n",
              " 'shot': 23936,\n",
              " 'dead': 7646,\n",
              " 'court': 7091,\n",
              " 'heard': 12753,\n",
              " 'may': 16840,\n",
              " 'killed': 15128,\n",
              " 'bonny': 4296,\n",
              " 'lee': 15660,\n",
              " 'bakley': 3338,\n",
              " '2001': 470,\n",
              " 'murder': 17866,\n",
              " 'trial': 26984,\n",
              " 'criminalist': 7231,\n",
              " 'steven': 25156,\n",
              " 'dowell': 8866,\n",
              " 'revolver': 22378,\n",
              " 'collection': 6211,\n",
              " 'presence': 20528,\n",
              " 'crime': 7227,\n",
              " 'scene': 23196,\n",
              " 'police': 20204,\n",
              " '71': 1212,\n",
              " 'former': 11127,\n",
              " 'drama': 8921,\n",
              " 'baretta': 3463,\n",
              " 'denied': 7970,\n",
              " 'ms': 17788,\n",
              " '44': 903,\n",
              " 'restaurant': 22218,\n",
              " 'briefly': 4592,\n",
              " 'returned': 22303,\n",
              " 'collect': 6208,\n",
              " 'discovered': 8454,\n",
              " 'collected': 6209,\n",
              " 'weapon': 28472,\n",
              " 'picked': 19900,\n",
              " 'touched': 26759,\n",
              " 'leant': 15619,\n",
              " 'stored': 25249,\n",
              " 'area': 2730,\n",
              " 'officers': 18669,\n",
              " 'went': 28568,\n",
              " 'firing': 10803,\n",
              " 'range': 21330,\n",
              " 'present': 20529,\n",
              " 'fired': 10786,\n",
              " 'witnesses': 28840,\n",
              " 'stood': 25236,\n",
              " 'quite': 21168,\n",
              " 'nervous': 18159,\n",
              " 'agitated': 1994,\n",
              " 'emmy': 9510,\n",
              " 'maverick': 16827,\n",
              " 'detective': 8161,\n",
              " '1970s': 422,\n",
              " 'cop': 6908,\n",
              " 'prison': 20649,\n",
              " 'convicted': 6872,\n",
              " 'dvd': 9104,\n",
              " 'fraudster': 11252,\n",
              " 'jailed': 14558,\n",
              " 'pirated': 19984,\n",
              " 'dvds': 9105,\n",
              " 'films': 10709,\n",
              " 'sent': 23567,\n",
              " 'three': 26455,\n",
              " 'jayanti': 14622,\n",
              " 'amarishi': 2283,\n",
              " 'buhecha': 4794,\n",
              " 'cambridge': 5054,\n",
              " 'guilty': 12331,\n",
              " 'trademark': 26831,\n",
              " 'offences': 18654,\n",
              " 'sentenced': 23570,\n",
              " 'harrow': 12624,\n",
              " 'crown': 7298,\n",
              " 'london': 16109,\n",
              " '26': 601,\n",
              " 'illegal': 13572,\n",
              " 'trade': 26829,\n",
              " 'biggest': 3941,\n",
              " 'pirates': 19985,\n",
              " 'sentencing': 23573,\n",
              " 'judge': 14834,\n",
              " 'worked': 28927,\n",
              " 'case': 5300,\n",
              " 'operation': 18807,\n",
              " 'launched': 15533,\n",
              " 'complaints': 6417,\n",
              " 'activities': 1737,\n",
              " 'lasted': 15504,\n",
              " 'seven': 23656,\n",
              " 'heavy': 12782,\n",
              " 'penalty': 19618,\n",
              " 'enormous': 9676,\n",
              " 'damage': 7520,\n",
              " 'caused': 5375,\n",
              " 'legitimate': 15686,\n",
              " 'fake': 10362,\n",
              " 'manufactured': 16590,\n",
              " 'pakistan': 19249,\n",
              " 'malaysia': 16472,\n",
              " 'wholesale': 28669,\n",
              " 'shops': 23916,\n",
              " 'traded': 26830,\n",
              " 'conterfeit': 6776,\n",
              " '2003': 474,\n",
              " 'stopped': 25243,\n",
              " 'trading': 26837,\n",
              " 'standards': 25002,\n",
              " 'uncovered': 27365,\n",
              " 'faked': 10363,\n",
              " 'inlay': 14037,\n",
              " 'cards': 5201,\n",
              " 'printed': 20635,\n",
              " 'registered': 21773,\n",
              " 'trademarks': 26832,\n",
              " 'despite': 8127,\n",
              " 'arrested': 2805,\n",
              " 'bailed': 3325,\n",
              " 'caught': 5372,\n",
              " 'end': 9583,\n",
              " 'home': 13128,\n",
              " 'lock': 16072,\n",
              " 'contain': 6751,\n",
              " 'counterfeit': 7059,\n",
              " 'previously': 20598,\n",
              " 'suspended': 25748,\n",
              " 'sued': 25526,\n",
              " 'employers': 9534,\n",
              " 'dealing': 7660,\n",
              " 'classic': 5946,\n",
              " 'mohabbatein': 17545,\n",
              " 'distributors': 8629,\n",
              " 'hailed': 12420,\n",
              " 'conviction': 6874,\n",
              " 'suffers': 25535,\n",
              " 'piracy': 19982,\n",
              " 'rate': 21383,\n",
              " 'suffered': 25531,\n",
              " 'mainstream': 16435,\n",
              " 'productions': 20719,\n",
              " 'welcomed': 28547,\n",
              " 'news': 18223,\n",
              " 'sentence': 23569,\n",
              " 'warned': 28382,\n",
              " 'plenty': 20113,\n",
              " 'active': 1731,\n",
              " 'counterfeiters': 7060,\n",
              " 'organisation': 18884,\n",
              " 'anti': 2547,\n",
              " 'martin': 16712,\n",
              " 'problem': 20683,\n",
              " 'simply': 24106,\n",
              " 'disappear': 8402,\n",
              " 'others': 18956,\n",
              " 'take': 25959,\n",
              " 'keep': 15013,\n",
              " 'efforts': 9306,\n",
              " 'sky': 24232,\n",
              " 'mantle': 16583,\n",
              " 'signed': 24058,\n",
              " 'deal': 7656,\n",
              " 'broadcast': 4644,\n",
              " 'live': 16009,\n",
              " 'honoured': 13164,\n",
              " 'exclusive': 10085,\n",
              " 'broadcasting': 4647,\n",
              " 'rights': 22484,\n",
              " 'promised': 20786,\n",
              " 'event': 9982,\n",
              " 'broadcaster': 4645,\n",
              " 'lost': 16171,\n",
              " 'bidding': 3934,\n",
              " 'war': 28351,\n",
              " 'pass': 19430,\n",
              " 'another': 2528,\n",
              " 'ceremony': 5481,\n",
              " 'hosted': 13240,\n",
              " 'newcomer': 18212,\n",
              " 'chris': 5790,\n",
              " 'launch': 15532,\n",
              " 'nominations': 18373,\n",
              " '25': 583,\n",
              " 'themed': 26372,\n",
              " 'programming': 20755,\n",
              " 'across': 1720,\n",
              " 'including': 13791,\n",
              " 'travel': 26932,\n",
              " 'biography': 3982,\n",
              " 'season': 23411,\n",
              " 'movies': 17761,\n",
              " 'uninterrupted': 27536,\n",
              " 'networks': 18185,\n",
              " 'sophie': 24568,\n",
              " 'turner': 27169,\n",
              " 'laing': 15403,\n",
              " 'natural': 18050,\n",
              " 'prestigious': 20564,\n",
              " 'scooped': 23280,\n",
              " '1999': 456,\n",
              " 'forced': 11069,\n",
              " 'pull': 20973,\n",
              " 'due': 9040,\n",
              " 'financial': 10728,\n",
              " 'constraints': 6718,\n",
              " 'course': 7089,\n",
              " 'able': 1538,\n",
              " 'watch': 28419,\n",
              " 'quality': 21102,\n",
              " 'bulletins': 4815,\n",
              " 'programmes': 20754,\n",
              " 'tipped': 26585,\n",
              " 'scorsese': 23301,\n",
              " 'aviator': 3178,\n",
              " 'jean': 14632,\n",
              " 'pierre': 19928,\n",
              " 'jeunet': 14687,\n",
              " 'engagement': 9634,\n",
              " 'ray': 21417,\n",
              " 'charles': 5608,\n",
              " 'biopic': 3987,\n",
              " 'superhero': 25620,\n",
              " 'comic': 6285,\n",
              " 'veteran': 28009,\n",
              " 'stan': 24997,\n",
              " 'team': 26125,\n",
              " 'evans': 9972,\n",
              " 'featuring': 10526,\n",
              " 'foreverman': 11103,\n",
              " 'focus': 10997,\n",
              " 'everyday': 10001,\n",
              " 'using': 27806,\n",
              " 'special': 24702,\n",
              " 'powers': 20400,\n",
              " 'paramount': 19340,\n",
              " 'studio': 25405,\n",
              " 'revealed': 22322,\n",
              " ...}"
            ]
          },
          "execution_count": 23,
          "metadata": {},
          "output_type": "execute_result"
        }
      ],
      "source": [
        "bow_vectorizer.vocabulary_"
      ]
    },
    {
      "cell_type": "code",
      "execution_count": null,
      "metadata": {
        "colab": {
          "base_uri": "https://localhost:8080/"
        },
        "id": "cbVvtuNmyrQU",
        "outputId": "4880299b-fdfd-4704-9191-5c0f3072493b"
      },
      "outputs": [
        {
          "data": {
            "text/plain": [
              "29280"
            ]
          },
          "execution_count": 24,
          "metadata": {},
          "output_type": "execute_result"
        }
      ],
      "source": [
        "len(bow_vectorizer.vocabulary_.keys())"
      ]
    },
    {
      "cell_type": "code",
      "execution_count": null,
      "metadata": {
        "colab": {
          "base_uri": "https://localhost:8080/"
        },
        "id": "dexK_i32zbMg",
        "outputId": "3cc4136d-32be-4bc3-a3eb-d0f8ac0d8762"
      },
      "outputs": [
        {
          "data": {
            "text/plain": [
              "numpy.ndarray"
            ]
          },
          "execution_count": 25,
          "metadata": {},
          "output_type": "execute_result"
        }
      ],
      "source": [
        "X_all = X_bow.toarray()\n",
        "type(X_all)"
      ]
    },
    {
      "cell_type": "code",
      "execution_count": null,
      "metadata": {
        "colab": {
          "base_uri": "https://localhost:8080/"
        },
        "id": "JZF8XvX8zvAa",
        "outputId": "9970b48e-81b0-4b7e-953e-61b68c1a3649"
      },
      "outputs": [
        {
          "data": {
            "text/plain": [
              "array([[0, 1, 0, 0, 0, 0, 0, 0, 0, 0, 0, 0, 0, 0, 0, 0, 0, 0, 0, 0, 0, 0,\n",
              "        0, 0, 0, 0, 0, 0, 0, 0, 0, 0, 0, 0, 0, 0, 0, 0, 0, 0, 0, 0, 0, 0,\n",
              "        0, 0, 0, 0, 0, 0],\n",
              "       [0, 0, 0, 0, 0, 0, 0, 0, 0, 0, 0, 0, 0, 0, 0, 0, 0, 0, 0, 0, 0, 0,\n",
              "        0, 0, 0, 0, 0, 0, 0, 0, 0, 0, 0, 0, 0, 0, 0, 0, 0, 0, 0, 0, 0, 0,\n",
              "        0, 0, 0, 0, 0, 0],\n",
              "       [0, 0, 0, 0, 0, 0, 0, 0, 0, 0, 0, 0, 0, 0, 0, 0, 0, 0, 0, 0, 0, 0,\n",
              "        0, 0, 0, 0, 0, 0, 0, 0, 0, 0, 0, 0, 0, 0, 0, 0, 0, 0, 0, 0, 0, 0,\n",
              "        0, 0, 0, 0, 0, 0],\n",
              "       [0, 0, 0, 0, 0, 0, 0, 0, 0, 0, 0, 0, 0, 0, 0, 0, 0, 0, 0, 0, 0, 0,\n",
              "        0, 0, 0, 0, 0, 0, 0, 0, 0, 0, 0, 0, 0, 0, 0, 0, 0, 0, 0, 0, 0, 0,\n",
              "        0, 0, 0, 0, 0, 0],\n",
              "       [0, 0, 0, 0, 0, 0, 0, 0, 0, 0, 0, 0, 0, 0, 0, 0, 0, 0, 0, 0, 0, 0,\n",
              "        0, 0, 0, 0, 0, 0, 0, 0, 0, 0, 0, 0, 0, 0, 0, 0, 0, 0, 0, 0, 0, 0,\n",
              "        0, 0, 0, 0, 0, 0],\n",
              "       [0, 3, 0, 0, 0, 0, 0, 0, 0, 0, 0, 0, 0, 0, 0, 0, 0, 0, 0, 0, 0, 0,\n",
              "        0, 0, 0, 0, 0, 0, 0, 0, 0, 0, 0, 0, 0, 0, 0, 0, 0, 0, 0, 0, 0, 0,\n",
              "        0, 0, 0, 0, 0, 0],\n",
              "       [0, 0, 0, 0, 0, 0, 0, 0, 0, 0, 0, 0, 0, 0, 0, 0, 0, 0, 0, 0, 0, 0,\n",
              "        0, 0, 0, 0, 0, 0, 0, 0, 0, 0, 0, 0, 0, 0, 0, 0, 0, 0, 0, 0, 0, 0,\n",
              "        0, 0, 0, 0, 0, 0],\n",
              "       [0, 0, 0, 0, 0, 0, 0, 0, 0, 0, 0, 0, 0, 0, 0, 0, 0, 0, 0, 0, 0, 0,\n",
              "        0, 0, 0, 0, 0, 0, 0, 0, 0, 0, 0, 0, 0, 0, 0, 0, 0, 0, 0, 0, 0, 0,\n",
              "        0, 0, 0, 0, 0, 0],\n",
              "       [0, 0, 0, 0, 0, 0, 0, 0, 0, 0, 0, 0, 0, 0, 0, 0, 0, 0, 0, 0, 0, 0,\n",
              "        0, 0, 0, 0, 0, 0, 0, 0, 0, 0, 0, 0, 0, 0, 0, 0, 0, 0, 0, 0, 0, 0,\n",
              "        0, 0, 0, 0, 0, 0],\n",
              "       [0, 3, 0, 0, 0, 0, 0, 0, 0, 0, 0, 0, 0, 0, 0, 0, 0, 0, 0, 0, 0, 0,\n",
              "        0, 0, 0, 0, 0, 0, 0, 0, 0, 0, 0, 0, 0, 0, 0, 0, 0, 0, 0, 0, 0, 0,\n",
              "        0, 0, 0, 0, 0, 0]])"
            ]
          },
          "execution_count": 26,
          "metadata": {},
          "output_type": "execute_result"
        }
      ],
      "source": [
        "X_all[:10, :50]"
      ]
    },
    {
      "cell_type": "code",
      "execution_count": null,
      "metadata": {
        "colab": {
          "base_uri": "https://localhost:8080/"
        },
        "id": "KAr2SRvI0BlG",
        "outputId": "73a0b5e6-b5de-48e2-9d78-f9dd282b543f"
      },
      "outputs": [
        {
          "data": {
            "text/plain": [
              "0"
            ]
          },
          "execution_count": 27,
          "metadata": {},
          "output_type": "execute_result"
        }
      ],
      "source": [
        "np.array(list(bow_vectorizer.vocabulary_.values())).min()"
      ]
    },
    {
      "cell_type": "code",
      "execution_count": null,
      "metadata": {
        "colab": {
          "base_uri": "https://localhost:8080/"
        },
        "id": "hXdO69rw0lzk",
        "outputId": "aa90840c-e023-4a45-87c6-e9fcd8e38f72"
      },
      "outputs": [
        {
          "data": {
            "text/plain": [
              "29279"
            ]
          },
          "execution_count": 28,
          "metadata": {},
          "output_type": "execute_result"
        }
      ],
      "source": [
        "np.array(list(bow_vectorizer.vocabulary_.values())).max()"
      ]
    },
    {
      "cell_type": "code",
      "execution_count": null,
      "metadata": {
        "id": "TFj-8cdD0nYJ"
      },
      "outputs": [],
      "source": [
        "idx2word = dict(zip(list(bow_vectorizer.vocabulary_.values()), list(bow_vectorizer.vocabulary_.keys())))"
      ]
    },
    {
      "cell_type": "code",
      "execution_count": null,
      "metadata": {
        "colab": {
          "base_uri": "https://localhost:8080/",
          "height": 36
        },
        "id": "uHNBip4s1BCp",
        "outputId": "b2268a77-7a2c-495c-fb8e-106385821ced"
      },
      "outputs": [
        {
          "data": {
            "text/plain": [
              "'000'"
            ]
          },
          "execution_count": 30,
          "metadata": {},
          "output_type": "execute_result"
        }
      ],
      "source": [
        "idx2word[1]"
      ]
    },
    {
      "cell_type": "markdown",
      "metadata": {
        "id": "lS8r-lOD1sM3"
      },
      "source": [
        "## 1.4- Biến đổi nhãn\n",
        "* Có 3 kiểu biểu diễn nhãn cho bài toán phân loại\n",
        "  * (1) Văn bản: cho người dùng\n",
        "  * (2) Chỉ số: thông thường là chỉ số của \"nhãn văn bản\" trong danh sách đã xếp thứ tự.\n",
        "    * Cách khác: tự xây dựng mộ ```dict``` ánh xạ từ văn bản sang chỉ số\n",
        "  * (3) One-hot vector (vector chỉ một con số 1)\n",
        "  \n"
      ]
    },
    {
      "cell_type": "code",
      "execution_count": null,
      "metadata": {
        "colab": {
          "base_uri": "https://localhost:8080/"
        },
        "id": "88JG8B3_1F26",
        "outputId": "cee8866f-997b-427c-f89b-4c2ef1465fcb"
      },
      "outputs": [
        {
          "data": {
            "text/plain": [
              "['entertainment', 'sport', 'politics', 'business', 'tech']"
            ]
          },
          "execution_count": 31,
          "metadata": {},
          "output_type": "execute_result"
        }
      ],
      "source": [
        "class_names"
      ]
    },
    {
      "cell_type": "code",
      "execution_count": null,
      "metadata": {
        "colab": {
          "base_uri": "https://localhost:8080/"
        },
        "id": "nKyduezl3Ht7",
        "outputId": "137c5b79-e141-453a-c3fd-67b4567043fc"
      },
      "outputs": [
        {
          "data": {
            "text/plain": [
              "array(['entertainment', 'entertainment', 'entertainment', ..., 'tech',\n",
              "       'tech', 'tech'], dtype=object)"
            ]
          },
          "execution_count": 32,
          "metadata": {},
          "output_type": "execute_result"
        }
      ],
      "source": [
        "target"
      ]
    },
    {
      "cell_type": "code",
      "execution_count": null,
      "metadata": {
        "id": "P275EoFR2g1-"
      },
      "outputs": [],
      "source": [
        "le = LabelEncoder()\n",
        "y_all = le.fit_transform(target)"
      ]
    },
    {
      "cell_type": "code",
      "execution_count": null,
      "metadata": {
        "colab": {
          "base_uri": "https://localhost:8080/"
        },
        "id": "kfcDN_ux3On6",
        "outputId": "115effcf-e78d-491e-d586-7205b2dc1062"
      },
      "outputs": [
        {
          "data": {
            "text/plain": [
              "array([1, 1, 1, ..., 4, 4, 4])"
            ]
          },
          "execution_count": 34,
          "metadata": {},
          "output_type": "execute_result"
        }
      ],
      "source": [
        "y_all"
      ]
    },
    {
      "cell_type": "markdown",
      "metadata": {
        "id": "-BKbwrnr46Tc"
      },
      "source": [
        "## 1.5 Chia tách dữ liệu:\n",
        "* Các tập dữ liệu:\n",
        "  * Tập huấn luyện (Trainining set): dùng để xây dựng mô hình\n",
        "    * Xây dựng: huấn luyện, cho mô hình học từ dữ liệu này\n",
        "\n",
        "  * Tập kiểm thử (Validation set): Đánh giá hiệu quả của mô hình và để **điều chỉnh siêu tham số**\n",
        "  * Tập kiểm tra (Testing set): Đánh giá hiệu quả của mô hình và **công bố**\n",
        "\n",
        "* Lấy mẫu cho ba tập: theo nguyên lý **i.i.d** (identical and independent distribution)\n"
      ]
    },
    {
      "cell_type": "code",
      "execution_count": null,
      "metadata": {
        "colab": {
          "base_uri": "https://localhost:8080/"
        },
        "id": "ik2WpkNF3P4i",
        "outputId": "d0ca4f37-b853-46c2-a742-566c52f60755"
      },
      "outputs": [
        {
          "name": "stdout",
          "output_type": "stream",
          "text": [
            "Dữ liệu toàn bộ: (2225, 29280)\n",
            "Nhãn toàn bộ: (2225,)\n"
          ]
        }
      ],
      "source": [
        "print(f\"Dữ liệu toàn bộ: {X_all.shape}\")\n",
        "print(f\"Nhãn toàn bộ: {y_all.shape}\")"
      ]
    },
    {
      "cell_type": "code",
      "execution_count": null,
      "metadata": {
        "colab": {
          "base_uri": "https://localhost:8080/"
        },
        "id": "xcotF1gW33W4",
        "outputId": "5400cf5b-760d-491b-ffbd-5bde9c9446bf"
      },
      "outputs": [
        {
          "name": "stdout",
          "output_type": "stream",
          "text": [
            "X_train.shape: (1557, 29280)\n",
            "y_train.shape: (1557,)\n",
            "X_test.shape: (668, 29280)\n",
            "y_test.shape: (668,)\n"
          ]
        }
      ],
      "source": [
        "from sklearn.model_selection import train_test_split\n",
        "X_train, X_test, y_train, y_test = train_test_split(X_all, y_all, test_size=0.3, random_state=2023)\n",
        "\n",
        "print(f\"X_train.shape: {X_train.shape}\")\n",
        "print(f\"y_train.shape: {y_train.shape}\")\n",
        "print(f\"X_test.shape: {X_test.shape}\")\n",
        "print(f\"y_test.shape: {y_test.shape}\")"
      ]
    },
    {
      "cell_type": "markdown",
      "metadata": {
        "id": "6KXTQMmm7e_E"
      },
      "source": [
        "# 2- Phân tích dữ liệu bằng học máy"
      ]
    },
    {
      "cell_type": "code",
      "execution_count": null,
      "metadata": {
        "id": "vGyXxfFV4L6H"
      },
      "outputs": [],
      "source": [
        "from sklearn.naive_bayes import MultinomialNB\n",
        "from sklearn.metrics import classification_report\n",
        "from sklearn.metrics import confusion_matrix, ConfusionMatrixDisplay\n",
        "\n",
        "model = MultinomialNB().fit(X_train, y_train)\n",
        "y_pred = model.predict(X_test)\n"
      ]
    },
    {
      "cell_type": "code",
      "execution_count": null,
      "metadata": {
        "colab": {
          "base_uri": "https://localhost:8080/",
          "height": 467
        },
        "id": "OeDVZNHc8Mm9",
        "outputId": "9d6f18db-a006-4470-f2da-6079ea052045"
      },
      "outputs": [
        {
          "data": {
            "text/plain": [
              "<sklearn.metrics._plot.confusion_matrix.ConfusionMatrixDisplay at 0x7d6ca5c4f730>"
            ]
          },
          "execution_count": 38,
          "metadata": {},
          "output_type": "execute_result"
        },
        {
          "data": {
            "image/png": "[encoded data removed]",
            "text/plain": [
              "<Figure size 640x480 with 2 Axes>"
            ]
          },
          "metadata": {},
          "output_type": "display_data"
        }
      ],
      "source": [
        "cm = confusion_matrix(y_test, y_pred, labels=model.classes_)\n",
        "disp = ConfusionMatrixDisplay(confusion_matrix=cm, display_labels=model.classes_)\n",
        "disp.plot()"
      ]
    },
    {
      "cell_type": "code",
      "execution_count": null,
      "metadata": {
        "colab": {
          "base_uri": "https://localhost:8080/"
        },
        "id": "rWru6xGy833K",
        "outputId": "16db5d52-ea51-406a-d3ae-9b39381c44f3"
      },
      "outputs": [
        {
          "name": "stdout",
          "output_type": "stream",
          "text": [
            "               precision    recall  f1-score   support\n",
            "\n",
            "entertainment       0.98      0.97      0.98       135\n",
            "        sport       0.99      0.97      0.98       122\n",
            "     politics       0.96      0.98      0.97       114\n",
            "     business       0.99      1.00      1.00       162\n",
            "         tech       0.96      0.97      0.97       135\n",
            "\n",
            "     accuracy                           0.98       668\n",
            "    macro avg       0.98      0.98      0.98       668\n",
            " weighted avg       0.98      0.98      0.98       668\n",
            "\n"
          ]
        }
      ],
      "source": [
        "print(classification_report(y_test, y_pred, target_names=class_names))"
      ]
    },
    {
      "cell_type": "code",
      "execution_count": null,
      "metadata": {
        "id": "K2bu8lAO84mx"
      },
      "outputs": [],
      "source": []
    },
    {
      "cell_type": "markdown",
      "metadata": {
        "id": "OutSFocmCiIf"
      },
      "source": [
        "# 3-Thử nghiệm với các kỹ thuật khác"
      ]
    },
    {
      "cell_type": "code",
      "execution_count": null,
      "metadata": {
        "colab": {
          "base_uri": "https://localhost:8080/",
          "height": 669
        },
        "id": "5Rif9grkClux",
        "outputId": "02368041-cb8f-4547-cb55-554770d2d59c"
      },
      "outputs": [
        {
          "name": "stdout",
          "output_type": "stream",
          "text": [
            "               precision    recall  f1-score   support\n",
            "\n",
            "entertainment       0.96      0.97      0.96       135\n",
            "        sport       0.99      0.94      0.97       122\n",
            "     politics       0.97      0.97      0.97       114\n",
            "     business       1.00      0.99      0.99       162\n",
            "         tech       0.92      0.96      0.94       135\n",
            "\n",
            "     accuracy                           0.97       668\n",
            "    macro avg       0.97      0.97      0.97       668\n",
            " weighted avg       0.97      0.97      0.97       668\n",
            "\n"
          ]
        },
        {
          "data": {
            "image/png": "[encoded data removed]",
            "text/plain": [
              "<Figure size 640x480 with 2 Axes>"
            ]
          },
          "metadata": {},
          "output_type": "display_data"
        }
      ],
      "source": [
        "from sklearn.svm import SVC\n",
        "model = SVC().fit(X_train, y_train)\n",
        "y_pred = model.predict(X_test)\n",
        "\n",
        "#\n",
        "cm = confusion_matrix(y_test, y_pred, labels=model.classes_)\n",
        "disp = ConfusionMatrixDisplay(confusion_matrix=cm, display_labels=model.classes_)\n",
        "disp.plot()\n",
        "\n",
        "print(classification_report(y_test, y_pred, target_names=class_names))"
      ]
    },
    {
      "cell_type": "code",
      "execution_count": null,
      "metadata": {
        "colab": {
          "base_uri": "https://localhost:8080/",
          "height": 669
        },
        "id": "NK8m1kfVC6rN",
        "outputId": "99fa3321-c186-4901-c72e-0c174428613c"
      },
      "outputs": [
        {
          "name": "stdout",
          "output_type": "stream",
          "text": [
            "               precision    recall  f1-score   support\n",
            "\n",
            "entertainment       0.78      0.81      0.79       135\n",
            "        sport       0.88      0.83      0.85       122\n",
            "     politics       0.80      0.87      0.84       114\n",
            "     business       0.92      0.95      0.94       162\n",
            "         tech       0.86      0.79      0.82       135\n",
            "\n",
            "     accuracy                           0.85       668\n",
            "    macro avg       0.85      0.85      0.85       668\n",
            " weighted avg       0.85      0.85      0.85       668\n",
            "\n"
          ]
        },
        {
          "data": {
            "image/png": "[encoded data removed]",
            "text/plain": [
              "<Figure size 640x480 with 2 Axes>"
            ]
          },
          "metadata": {},
          "output_type": "display_data"
        }
      ],
      "source": [
        "from sklearn.svm import SVC\n",
        "from sklearn.tree import DecisionTreeClassifier\n",
        "\n",
        "model = DecisionTreeClassifier().fit(X_train, y_train)\n",
        "y_pred = model.predict(X_test)\n",
        "\n",
        "#\n",
        "cm = confusion_matrix(y_test, y_pred, labels=model.classes_)\n",
        "disp = ConfusionMatrixDisplay(confusion_matrix=cm, display_labels=model.classes_)\n",
        "disp.plot()\n",
        "\n",
        "print(classification_report(y_test, y_pred, target_names=class_names))"
      ]
    },
    {
      "cell_type": "code",
      "execution_count": null,
      "metadata": {
        "colab": {
          "base_uri": "https://localhost:8080/",
          "height": 669
        },
        "id": "gakU_tadEOxa",
        "outputId": "56de86d4-9b90-4370-de32-61afaf0a92e5"
      },
      "outputs": [
        {
          "name": "stdout",
          "output_type": "stream",
          "text": [
            "               precision    recall  f1-score   support\n",
            "\n",
            "entertainment       0.96      0.99      0.97       135\n",
            "        sport       0.99      0.98      0.99       122\n",
            "     politics       0.99      0.98      0.99       114\n",
            "     business       0.98      1.00      0.99       162\n",
            "         tech       0.98      0.96      0.97       135\n",
            "\n",
            "     accuracy                           0.98       668\n",
            "    macro avg       0.98      0.98      0.98       668\n",
            " weighted avg       0.98      0.98      0.98       668\n",
            "\n"
          ]
        },
        {
          "data": {
            "image/png": "[encoded data removed]",
            "text/plain": [
              "<Figure size 640x480 with 2 Axes>"
            ]
          },
          "metadata": {},
          "output_type": "display_data"
        }
      ],
      "source": [
        "from sklearn.svm import SVC\n",
        "from sklearn.tree import DecisionTreeClassifier\n",
        "from sklearn.neural_network import MLPClassifier\n",
        "\n",
        "model = MLPClassifier(hidden_layer_sizes=(500, 100)).fit(X_train, y_train)\n",
        "y_pred = model.predict(X_test)\n",
        "\n",
        "#\n",
        "cm = confusion_matrix(y_test, y_pred, labels=model.classes_)\n",
        "disp = ConfusionMatrixDisplay(confusion_matrix=cm, display_labels=model.classes_)\n",
        "disp.plot()\n",
        "\n",
        "print(classification_report(y_test, y_pred, target_names=class_names))"
      ]
    },
    {
      "cell_type": "code",
      "execution_count": null,
      "metadata": {
        "id": "zNxpIkAMElQB"
      },
      "outputs": [],
      "source": []
    }
  ],
  "metadata": {
    "colab": {
      "provenance": []
    },
    "kernelspec": {
      "display_name": "Python 3 (ipykernel)",
      "language": "python",
      "name": "python3"
    },
    "language_info": {
      "codemirror_mode": {
        "name": "ipython",
        "version": 3
      },
      "file_extension": ".py",
      "mimetype": "text/x-python",
      "name": "python",
      "nbconvert_exporter": "python",
      "pygments_lexer": "ipython3",
      "version": "3.10.12"
    }
  },
  "nbformat": 4,
  "nbformat_minor": 0
}