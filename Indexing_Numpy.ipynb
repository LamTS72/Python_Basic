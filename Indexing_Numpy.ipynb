{
  "cells": [
    {
      "cell_type": "code",
      "execution_count": null,
      "id": "saved-board",
      "metadata": {
        "id": "saved-board"
      },
      "outputs": [],
      "source": [
        "import numpy as np"
      ]
    },
    {
      "cell_type": "markdown",
      "id": "hindu-liberty",
      "metadata": {
        "id": "hindu-liberty"
      },
      "source": [
        "This presentation is based on Numpy Doc https://numpy.org/doc/stable/"
      ]
    },
    {
      "cell_type": "markdown",
      "id": "executive-syntax",
      "metadata": {
        "id": "executive-syntax"
      },
      "source": [
        "# Single element indexing"
      ]
    },
    {
      "cell_type": "markdown",
      "id": "grateful-ensemble",
      "metadata": {
        "id": "grateful-ensemble"
      },
      "source": [
        "Single element indexing for a 1-D array works exactly like that for other standard Python sequences. <br>\n",
        "It is <b>0-based</b>, and <b>accepts negative indices</b> for indexing from the end of the array."
      ]
    },
    {
      "cell_type": "code",
      "execution_count": null,
      "id": "diverse-native",
      "metadata": {
        "id": "diverse-native",
        "outputId": "0d590b2b-f2d6-47f1-d1b3-42f9e34012d8"
      },
      "outputs": [
        {
          "name": "stdout",
          "output_type": "stream",
          "text": [
            "[0 1 2 3 4 5 6 7 8 9]\n",
            "2\n",
            "8\n"
          ]
        }
      ],
      "source": [
        "x = np.arange(10)\n",
        "print(x)\n",
        "print(x[2])\n",
        "print(x[-2])"
      ]
    },
    {
      "cell_type": "markdown",
      "id": "complex-samuel",
      "metadata": {
        "id": "complex-samuel"
      },
      "source": [
        "Numpy arrays support <b>multidimensional indexing</b> for multidimensional arrays. <br>\n",
        "That means that it is <b>not necessary</b> to seperate each dimension's index into its own set of square brackets."
      ]
    },
    {
      "cell_type": "code",
      "execution_count": null,
      "id": "delayed-think",
      "metadata": {
        "id": "delayed-think",
        "outputId": "b1ead997-fd41-4bbf-8853-ba926f2e3887"
      },
      "outputs": [
        {
          "data": {
            "text/plain": [
              "array([[1, 2, 3],\n",
              "       [4, 5, 6]])"
            ]
          },
          "execution_count": 4,
          "metadata": {},
          "output_type": "execute_result"
        }
      ],
      "source": [
        "x = np.array([[1,2,3], [4,5,6]])\n",
        "x"
      ]
    },
    {
      "cell_type": "code",
      "execution_count": null,
      "id": "capable-sector",
      "metadata": {
        "id": "capable-sector",
        "outputId": "26ec38db-8151-4699-d1cc-dbe8e6c7cf55"
      },
      "outputs": [
        {
          "data": {
            "text/plain": [
              "6"
            ]
          },
          "execution_count": 5,
          "metadata": {},
          "output_type": "execute_result"
        }
      ],
      "source": [
        "x[1, 2]"
      ]
    },
    {
      "cell_type": "code",
      "execution_count": null,
      "id": "separate-breach",
      "metadata": {
        "id": "separate-breach",
        "outputId": "b9778634-7d1e-42ce-cda2-929d3a1c528d"
      },
      "outputs": [
        {
          "data": {
            "text/plain": [
              "6"
            ]
          },
          "execution_count": 6,
          "metadata": {},
          "output_type": "execute_result"
        }
      ],
      "source": [
        "x[-1 , -1]"
      ]
    },
    {
      "cell_type": "code",
      "execution_count": null,
      "id": "annual-prescription",
      "metadata": {
        "id": "annual-prescription",
        "outputId": "ecaa3842-97c2-4803-f90f-26a4f41e4c4f"
      },
      "outputs": [
        {
          "data": {
            "text/plain": [
              "5"
            ]
          },
          "execution_count": 7,
          "metadata": {},
          "output_type": "execute_result"
        }
      ],
      "source": [
        "x[1][1]"
      ]
    },
    {
      "cell_type": "code",
      "execution_count": null,
      "id": "least-phase",
      "metadata": {
        "id": "least-phase",
        "outputId": "cddcc830-8ff9-4086-ec54-b082a6abb5ae"
      },
      "outputs": [
        {
          "data": {
            "text/plain": [
              "array([1, 2, 3])"
            ]
          },
          "execution_count": 8,
          "metadata": {},
          "output_type": "execute_result"
        }
      ],
      "source": [
        "x[0]"
      ]
    },
    {
      "cell_type": "markdown",
      "id": "operating-mount",
      "metadata": {
        "id": "operating-mount"
      },
      "source": [
        "Note that x[0, 2] = x[0][2] though the second case is more inefficient as a new temporary array is created after the first index"
      ]
    },
    {
      "cell_type": "markdown",
      "id": "beautiful-weight",
      "metadata": {
        "id": "beautiful-weight"
      },
      "source": [
        "# Other indexing options"
      ]
    },
    {
      "cell_type": "markdown",
      "id": "linear-tomorrow",
      "metadata": {
        "id": "linear-tomorrow"
      },
      "source": [
        "It is possible to <b>slice</b> and <b>stride</b> arrays to extract arrays of the same number of dimensions<br>\n",
        "The slicing and striding works exactly <b>the same way</b> it does for lists and tuples except that they <b>can be applied</b> to <b>multiple dimensions</b> as well."
      ]
    },
    {
      "cell_type": "markdown",
      "id": "available-discipline",
      "metadata": {
        "id": "available-discipline"
      },
      "source": [
        "The basic slice syntax is <b>i:j:k</b> <br>\n",
        "where <i>i</i> is the starting index<br>\n",
        "<i>j</i> is the stopping index<br>\n",
        "<i>k</i> is the step (k != 0)"
      ]
    },
    {
      "cell_type": "code",
      "execution_count": null,
      "id": "martial-worry",
      "metadata": {
        "id": "martial-worry",
        "outputId": "ea1d1604-828c-4f04-88cb-6f1656f02b81"
      },
      "outputs": [
        {
          "data": {
            "text/plain": [
              "array([0, 1, 2, 3, 4, 5, 6, 7, 8, 9])"
            ]
          },
          "execution_count": 9,
          "metadata": {},
          "output_type": "execute_result"
        }
      ],
      "source": [
        "x = np.arange(10)\n",
        "x"
      ]
    },
    {
      "cell_type": "code",
      "execution_count": null,
      "id": "alleged-disposition",
      "metadata": {
        "id": "alleged-disposition",
        "outputId": "d89e45f0-97a5-495e-a3be-d4d09d866592"
      },
      "outputs": [
        {
          "data": {
            "text/plain": [
              "array([2, 3, 4])"
            ]
          },
          "execution_count": 10,
          "metadata": {},
          "output_type": "execute_result"
        }
      ],
      "source": [
        "x[2:5]"
      ]
    },
    {
      "cell_type": "code",
      "execution_count": null,
      "id": "threatened-roots",
      "metadata": {
        "id": "threatened-roots",
        "outputId": "11ee46ce-6768-4acb-bad3-5e276ef4b796"
      },
      "outputs": [
        {
          "data": {
            "text/plain": [
              "array([0, 1, 2])"
            ]
          },
          "execution_count": 11,
          "metadata": {},
          "output_type": "execute_result"
        }
      ],
      "source": [
        "x[:-7]"
      ]
    },
    {
      "cell_type": "code",
      "execution_count": null,
      "id": "opposite-hierarchy",
      "metadata": {
        "id": "opposite-hierarchy",
        "outputId": "e96f5d55-2263-4019-ddf4-933f02afdcb9"
      },
      "outputs": [
        {
          "data": {
            "text/plain": [
              "array([1, 3, 5])"
            ]
          },
          "execution_count": 12,
          "metadata": {},
          "output_type": "execute_result"
        }
      ],
      "source": [
        "x[1:7:2]"
      ]
    },
    {
      "cell_type": "code",
      "execution_count": null,
      "id": "noted-amendment",
      "metadata": {
        "id": "noted-amendment",
        "outputId": "29764dc6-11fc-460a-c205-35f273e7744e"
      },
      "outputs": [
        {
          "data": {
            "text/plain": [
              "array([[ 0,  1,  2,  3,  4,  5,  6],\n",
              "       [ 7,  8,  9, 10, 11, 12, 13],\n",
              "       [14, 15, 16, 17, 18, 19, 20],\n",
              "       [21, 22, 23, 24, 25, 26, 27],\n",
              "       [28, 29, 30, 31, 32, 33, 34]])"
            ]
          },
          "execution_count": 13,
          "metadata": {},
          "output_type": "execute_result"
        }
      ],
      "source": [
        "y = np.arange(35).reshape(5, 7)\n",
        "y"
      ]
    },
    {
      "cell_type": "code",
      "execution_count": null,
      "id": "known-ecology",
      "metadata": {
        "id": "known-ecology",
        "outputId": "ef99d299-f3c5-4780-ce1d-07b7da1204f0"
      },
      "outputs": [
        {
          "data": {
            "text/plain": [
              "array([[ 7,  8,  9, 10, 11, 12, 13],\n",
              "       [21, 22, 23, 24, 25, 26, 27]])"
            ]
          },
          "execution_count": 14,
          "metadata": {},
          "output_type": "execute_result"
        }
      ],
      "source": [
        "y[1:5:2]"
      ]
    },
    {
      "cell_type": "code",
      "execution_count": null,
      "id": "recent-kitty",
      "metadata": {
        "id": "recent-kitty",
        "outputId": "fd70ce48-8b34-4d99-e236-656849b001a4"
      },
      "outputs": [
        {
          "data": {
            "text/plain": [
              "array([[ 7, 10, 13],\n",
              "       [21, 24, 27]])"
            ]
          },
          "execution_count": 15,
          "metadata": {},
          "output_type": "execute_result"
        }
      ],
      "source": [
        "y[1:5:2, ::3]"
      ]
    },
    {
      "cell_type": "markdown",
      "id": "upper-ordinary",
      "metadata": {
        "id": "upper-ordinary"
      },
      "source": [
        "<u>Note</u><br>\n",
        "Slices of arrays do not copy the internal array data but only produce new view of the original data.<br>\n",
        "This is different from list or tuple slicing"
      ]
    },
    {
      "cell_type": "markdown",
      "id": "sudden-proposal",
      "metadata": {
        "id": "sudden-proposal"
      },
      "source": [
        "# Index array"
      ]
    },
    {
      "cell_type": "markdown",
      "id": "faced-crown",
      "metadata": {
        "id": "faced-crown"
      },
      "source": [
        "NumPy arrays may be <b>indexed</b> with <b>other arrays</b> (or any other <b>sequence-like object</b> that can be converted to an array, such as <b>list</b>, with the <b>exception</b> of <b>tuples</b>)"
      ]
    },
    {
      "cell_type": "markdown",
      "id": "legendary-tragedy",
      "metadata": {
        "id": "legendary-tragedy"
      },
      "source": [
        "For all cases of index arrays, what is <b>returned</b> is a <b>copy</b> of the original data, not a view as one gets for slices."
      ]
    },
    {
      "cell_type": "code",
      "execution_count": null,
      "id": "cooked-import",
      "metadata": {
        "id": "cooked-import",
        "outputId": "4644e2ca-873c-4de8-8a6f-2252d6560e9e"
      },
      "outputs": [
        {
          "data": {
            "text/plain": [
              "array([10,  9,  8,  7,  6,  5,  4,  3,  2])"
            ]
          },
          "execution_count": 16,
          "metadata": {},
          "output_type": "execute_result"
        }
      ],
      "source": [
        "x = np.arange(10, 1, -1)\n",
        "x"
      ]
    },
    {
      "cell_type": "code",
      "execution_count": null,
      "id": "postal-incentive",
      "metadata": {
        "id": "postal-incentive",
        "outputId": "81295bd1-4b5f-4dd6-82c4-ded4d83f3854"
      },
      "outputs": [
        {
          "data": {
            "text/plain": [
              "array([7, 7, 9, 2])"
            ]
          },
          "execution_count": 17,
          "metadata": {},
          "output_type": "execute_result"
        }
      ],
      "source": [
        "x[np.array([3, 3, 1, 8])]"
      ]
    },
    {
      "cell_type": "code",
      "execution_count": null,
      "id": "detailed-aerospace",
      "metadata": {
        "id": "detailed-aerospace",
        "outputId": "81c2fb3f-551a-4d9e-a49d-663e39403bf7"
      },
      "outputs": [
        {
          "data": {
            "text/plain": [
              "array([9, 8, 7, 6])"
            ]
          },
          "execution_count": 18,
          "metadata": {},
          "output_type": "execute_result"
        }
      ],
      "source": [
        "x[[1, 2, 3, 4]]"
      ]
    },
    {
      "cell_type": "markdown",
      "id": "legitimate-tumor",
      "metadata": {
        "id": "legitimate-tumor"
      },
      "source": [
        "Negative values are permitted and work as they do with single indices or slices"
      ]
    },
    {
      "cell_type": "code",
      "execution_count": null,
      "id": "alpine-preserve",
      "metadata": {
        "id": "alpine-preserve",
        "outputId": "74eba2bd-0aec-4ba9-e79b-bd50db63e184"
      },
      "outputs": [
        {
          "data": {
            "text/plain": [
              "array([7, 7, 4, 2])"
            ]
          },
          "execution_count": 19,
          "metadata": {},
          "output_type": "execute_result"
        }
      ],
      "source": [
        "x[np.array([3, 3, -3, 8])]"
      ]
    },
    {
      "cell_type": "markdown",
      "id": "obvious-allowance",
      "metadata": {
        "id": "obvious-allowance"
      },
      "source": [
        "It is an error to have index values out of bound"
      ]
    },
    {
      "cell_type": "code",
      "execution_count": null,
      "id": "interior-optimization",
      "metadata": {
        "id": "interior-optimization",
        "outputId": "6003e494-8d62-4c61-b3cb-6e9ad70e11e3"
      },
      "outputs": [
        {
          "ename": "IndexError",
          "evalue": "index 20 is out of bounds for axis 0 with size 9",
          "output_type": "error",
          "traceback": [
            "\u001b[1;31m---------------------------------------------------------------------------\u001b[0m",
            "\u001b[1;31mIndexError\u001b[0m                                Traceback (most recent call last)",
            "\u001b[1;32m<ipython-input-20-5e4f6c038047>\u001b[0m in \u001b[0;36m<module>\u001b[1;34m\u001b[0m\n\u001b[1;32m----> 1\u001b[1;33m \u001b[0mx\u001b[0m\u001b[1;33m[\u001b[0m\u001b[0mnp\u001b[0m\u001b[1;33m.\u001b[0m\u001b[0marray\u001b[0m\u001b[1;33m(\u001b[0m\u001b[1;33m[\u001b[0m\u001b[1;36m3\u001b[0m\u001b[1;33m,\u001b[0m \u001b[1;36m3\u001b[0m\u001b[1;33m,\u001b[0m \u001b[1;36m20\u001b[0m\u001b[1;33m,\u001b[0m \u001b[1;36m8\u001b[0m\u001b[1;33m]\u001b[0m\u001b[1;33m)\u001b[0m\u001b[1;33m]\u001b[0m\u001b[1;33m\u001b[0m\u001b[1;33m\u001b[0m\u001b[0m\n\u001b[0m",
            "\u001b[1;31mIndexError\u001b[0m: index 20 is out of bounds for axis 0 with size 9"
          ]
        }
      ],
      "source": [
        "x[np.array([3, 3, 20, 8])]"
      ]
    },
    {
      "cell_type": "markdown",
      "id": "likely-martial",
      "metadata": {
        "id": "likely-martial"
      },
      "source": [
        "What is returned when index arrays are used is an array with the <b>same shape</b> as the index array, but with the type and values of the array being indexed."
      ]
    },
    {
      "cell_type": "code",
      "execution_count": null,
      "id": "allied-venice",
      "metadata": {
        "id": "allied-venice",
        "outputId": "9374628f-e9fe-4e98-8d42-35d95b3a5b34"
      },
      "outputs": [
        {
          "data": {
            "text/plain": [
              "array([[9, 9],\n",
              "       [8, 7]])"
            ]
          },
          "execution_count": 21,
          "metadata": {},
          "output_type": "execute_result"
        }
      ],
      "source": [
        "x[np.array([[1, 1], [2, 3]])]"
      ]
    },
    {
      "cell_type": "markdown",
      "id": "stunning-poultry",
      "metadata": {
        "id": "stunning-poultry"
      },
      "source": [
        "# Indexing Multi-dimensional arrays"
      ]
    },
    {
      "cell_type": "code",
      "execution_count": null,
      "id": "governmental-venice",
      "metadata": {
        "id": "governmental-venice",
        "outputId": "d547c242-a454-4c26-90ac-825b0f776b82"
      },
      "outputs": [
        {
          "data": {
            "text/plain": [
              "array([[ 0,  1,  2,  3,  4,  5,  6],\n",
              "       [ 7,  8,  9, 10, 11, 12, 13],\n",
              "       [14, 15, 16, 17, 18, 19, 20],\n",
              "       [21, 22, 23, 24, 25, 26, 27],\n",
              "       [28, 29, 30, 31, 32, 33, 34]])"
            ]
          },
          "execution_count": 22,
          "metadata": {},
          "output_type": "execute_result"
        }
      ],
      "source": [
        "y"
      ]
    },
    {
      "cell_type": "code",
      "execution_count": null,
      "id": "continued-employer",
      "metadata": {
        "id": "continued-employer",
        "outputId": "937aa25b-3c6f-4a25-cf3a-dcd148858c99"
      },
      "outputs": [
        {
          "data": {
            "text/plain": [
              "array([[ 0,  1,  2,  3,  4,  5,  6],\n",
              "       [14, 15, 16, 17, 18, 19, 20],\n",
              "       [28, 29, 30, 31, 32, 33, 34]])"
            ]
          },
          "execution_count": 23,
          "metadata": {},
          "output_type": "execute_result"
        }
      ],
      "source": [
        "y[np.array([0, 2, 4])]"
      ]
    },
    {
      "cell_type": "code",
      "execution_count": null,
      "id": "twenty-disorder",
      "metadata": {
        "id": "twenty-disorder",
        "outputId": "f3adf2af-0576-4c4b-911b-a1aa905e8de3"
      },
      "outputs": [
        {
          "data": {
            "text/plain": [
              "array([ 0, 15, 30])"
            ]
          },
          "execution_count": 24,
          "metadata": {},
          "output_type": "execute_result"
        }
      ],
      "source": [
        "y[np.array([0, 2, 4]), np.array([0, 1, 2])]"
      ]
    },
    {
      "cell_type": "markdown",
      "id": "lightweight-plastic",
      "metadata": {
        "id": "lightweight-plastic"
      },
      "source": [
        "If the index arrays do not have the same shape, there is an attempt to broadcast them to the same shape.<br>\n",
        "If they cannot be broadcast to the same shape, an exception is raised"
      ]
    },
    {
      "cell_type": "code",
      "execution_count": null,
      "id": "moving-roman",
      "metadata": {
        "id": "moving-roman",
        "outputId": "b1fa3f1d-175a-468b-9542-8acf9a006c6a"
      },
      "outputs": [
        {
          "ename": "IndexError",
          "evalue": "shape mismatch: indexing arrays could not be broadcast together with shapes (3,) (2,) ",
          "output_type": "error",
          "traceback": [
            "\u001b[1;31m---------------------------------------------------------------------------\u001b[0m",
            "\u001b[1;31mIndexError\u001b[0m                                Traceback (most recent call last)",
            "\u001b[1;32m<ipython-input-25-a2d8b9a565fc>\u001b[0m in \u001b[0;36m<module>\u001b[1;34m\u001b[0m\n\u001b[1;32m----> 1\u001b[1;33m \u001b[0my\u001b[0m\u001b[1;33m[\u001b[0m\u001b[0mnp\u001b[0m\u001b[1;33m.\u001b[0m\u001b[0marray\u001b[0m\u001b[1;33m(\u001b[0m\u001b[1;33m[\u001b[0m\u001b[1;36m0\u001b[0m\u001b[1;33m,\u001b[0m\u001b[1;36m2\u001b[0m\u001b[1;33m,\u001b[0m\u001b[1;36m4\u001b[0m\u001b[1;33m]\u001b[0m\u001b[1;33m)\u001b[0m\u001b[1;33m,\u001b[0m \u001b[0mnp\u001b[0m\u001b[1;33m.\u001b[0m\u001b[0marray\u001b[0m\u001b[1;33m(\u001b[0m\u001b[1;33m[\u001b[0m\u001b[1;36m0\u001b[0m\u001b[1;33m,\u001b[0m \u001b[1;36m1\u001b[0m\u001b[1;33m]\u001b[0m\u001b[1;33m)\u001b[0m\u001b[1;33m]\u001b[0m\u001b[1;33m\u001b[0m\u001b[1;33m\u001b[0m\u001b[0m\n\u001b[0m",
            "\u001b[1;31mIndexError\u001b[0m: shape mismatch: indexing arrays could not be broadcast together with shapes (3,) (2,) "
          ]
        }
      ],
      "source": [
        "y[np.array([0,2,4]), np.array([0, 1])]"
      ]
    },
    {
      "cell_type": "markdown",
      "id": "level-college",
      "metadata": {
        "id": "level-college"
      },
      "source": [
        "NumPy permits index arrays to be combined with scalars for other indices."
      ]
    },
    {
      "cell_type": "code",
      "execution_count": null,
      "id": "indian-lancaster",
      "metadata": {
        "id": "indian-lancaster",
        "outputId": "23468e6b-a6b7-4eaf-ea3f-e92513e3a10f"
      },
      "outputs": [
        {
          "data": {
            "text/plain": [
              "array([ 1, 15, 29])"
            ]
          },
          "execution_count": 26,
          "metadata": {},
          "output_type": "execute_result"
        }
      ],
      "source": [
        "y[np.array([0, 2, 4]), 1]"
      ]
    },
    {
      "cell_type": "markdown",
      "id": "excited-wages",
      "metadata": {
        "id": "excited-wages"
      },
      "source": [
        "# Boolean or \"mask\" index arrays"
      ]
    },
    {
      "cell_type": "markdown",
      "id": "conservative-butterfly",
      "metadata": {
        "id": "conservative-butterfly"
      },
      "source": [
        "Boolean arrays used as indices are treated in a different manner entirely than index arrays.<br>\n",
        "Boolean arrays must be of the same shape as initial dimensions of the array being indexed."
      ]
    },
    {
      "cell_type": "code",
      "execution_count": null,
      "id": "endless-greenhouse",
      "metadata": {
        "id": "endless-greenhouse",
        "outputId": "0c21f941-fd7a-4107-c449-76f9dd7720e5"
      },
      "outputs": [
        {
          "data": {
            "text/plain": [
              "array([[False, False, False, False, False, False, False],\n",
              "       [False, False, False, False, False, False, False],\n",
              "       [False, False, False, False, False, False, False],\n",
              "       [ True,  True,  True,  True,  True,  True,  True],\n",
              "       [ True,  True,  True,  True,  True,  True,  True]])"
            ]
          },
          "execution_count": 27,
          "metadata": {},
          "output_type": "execute_result"
        }
      ],
      "source": [
        "b = y>20\n",
        "b"
      ]
    },
    {
      "cell_type": "code",
      "execution_count": null,
      "id": "certain-diabetes",
      "metadata": {
        "id": "certain-diabetes",
        "outputId": "fe01d381-7c92-43e6-f972-0ddff70344d3"
      },
      "outputs": [
        {
          "data": {
            "text/plain": [
              "array([21, 22, 23, 24, 25, 26, 27, 28, 29, 30, 31, 32, 33, 34])"
            ]
          },
          "execution_count": 28,
          "metadata": {},
          "output_type": "execute_result"
        }
      ],
      "source": [
        "y[b]"
      ]
    },
    {
      "cell_type": "markdown",
      "id": "blank-resistance",
      "metadata": {
        "id": "blank-resistance"
      },
      "source": [
        "The result will be multidimensional if y has more dimensions than b. For example"
      ]
    },
    {
      "cell_type": "code",
      "execution_count": null,
      "id": "consistent-match",
      "metadata": {
        "id": "consistent-match",
        "outputId": "2d318f9c-1bd7-4d1e-8149-98fc65662e49"
      },
      "outputs": [
        {
          "data": {
            "text/plain": [
              "array([False, False, False,  True,  True])"
            ]
          },
          "execution_count": 29,
          "metadata": {},
          "output_type": "execute_result"
        }
      ],
      "source": [
        "b[:, 5] # use a 1-D boolean whose first dim argees with the first dim of y"
      ]
    },
    {
      "cell_type": "code",
      "execution_count": null,
      "id": "cathedral-genesis",
      "metadata": {
        "id": "cathedral-genesis",
        "outputId": "5bd20521-43c9-4571-e9e9-172f2fefa933"
      },
      "outputs": [
        {
          "data": {
            "text/plain": [
              "array([[21, 22, 23, 24, 25, 26, 27],\n",
              "       [28, 29, 30, 31, 32, 33, 34]])"
            ]
          },
          "execution_count": 31,
          "metadata": {},
          "output_type": "execute_result"
        }
      ],
      "source": [
        "y[b[:, 5]] # 2 True value in pos 3 and 4 means 4th and 5th rows are selected"
      ]
    },
    {
      "cell_type": "markdown",
      "id": "vocal-maldives",
      "metadata": {
        "id": "vocal-maldives"
      },
      "source": [
        "Using a 2-D boolean array of shape (2,3) with four <b>True</b> elements to select rows from a 3-D array of shape (2,3,5) results in a 2-D result of shape(4,5)"
      ]
    },
    {
      "cell_type": "code",
      "execution_count": null,
      "id": "grateful-belief",
      "metadata": {
        "id": "grateful-belief",
        "outputId": "5deb68e3-87c2-4399-ba40-b47b0154c116"
      },
      "outputs": [
        {
          "data": {
            "text/plain": [
              "array([[[ 0,  1,  2,  3,  4],\n",
              "        [ 5,  6,  7,  8,  9],\n",
              "        [10, 11, 12, 13, 14]],\n",
              "\n",
              "       [[15, 16, 17, 18, 19],\n",
              "        [20, 21, 22, 23, 24],\n",
              "        [25, 26, 27, 28, 29]]])"
            ]
          },
          "execution_count": 32,
          "metadata": {},
          "output_type": "execute_result"
        }
      ],
      "source": [
        "x = np.arange(30).reshape(2,3,5)\n",
        "x"
      ]
    },
    {
      "cell_type": "code",
      "execution_count": null,
      "id": "israeli-morning",
      "metadata": {
        "id": "israeli-morning",
        "outputId": "48be7d9c-274f-439b-d45d-1f6c14b28f0e"
      },
      "outputs": [
        {
          "data": {
            "text/plain": [
              "array([[ 0,  1,  2,  3,  4],\n",
              "       [ 5,  6,  7,  8,  9],\n",
              "       [20, 21, 22, 23, 24],\n",
              "       [25, 26, 27, 28, 29]])"
            ]
          },
          "execution_count": 33,
          "metadata": {},
          "output_type": "execute_result"
        }
      ],
      "source": [
        "b = np.array([[True, True, False], [False, True, True]])\n",
        "x[b]"
      ]
    },
    {
      "cell_type": "markdown",
      "id": "reduced-broadcast",
      "metadata": {
        "id": "reduced-broadcast"
      },
      "source": [
        "# Combining index arrays with slices"
      ]
    },
    {
      "cell_type": "markdown",
      "id": "stuffed-military",
      "metadata": {
        "id": "stuffed-military"
      },
      "source": [
        "Index arrays may be combined with slices. For example:"
      ]
    },
    {
      "cell_type": "code",
      "execution_count": null,
      "id": "olive-signature",
      "metadata": {
        "id": "olive-signature",
        "outputId": "cdb11e41-667d-45d3-e525-c3698f1e65fb"
      },
      "outputs": [
        {
          "data": {
            "text/plain": [
              "array([[ 0,  1,  2,  3,  4,  5,  6],\n",
              "       [ 7,  8,  9, 10, 11, 12, 13],\n",
              "       [14, 15, 16, 17, 18, 19, 20],\n",
              "       [21, 22, 23, 24, 25, 26, 27],\n",
              "       [28, 29, 30, 31, 32, 33, 34]])"
            ]
          },
          "execution_count": 35,
          "metadata": {},
          "output_type": "execute_result"
        }
      ],
      "source": [
        "y"
      ]
    },
    {
      "cell_type": "code",
      "execution_count": null,
      "id": "seven-spank",
      "metadata": {
        "id": "seven-spank",
        "outputId": "cec727c7-f0ce-4d08-e5a9-04fcc0beb292"
      },
      "outputs": [
        {
          "data": {
            "text/plain": [
              "array([[ 1,  2],\n",
              "       [15, 16],\n",
              "       [29, 30]])"
            ]
          },
          "execution_count": 34,
          "metadata": {},
          "output_type": "execute_result"
        }
      ],
      "source": [
        "y[np.array([0, 2, 4]), 1:3]"
      ]
    },
    {
      "cell_type": "markdown",
      "id": "stupid-tattoo",
      "metadata": {
        "id": "stupid-tattoo"
      },
      "source": [
        "This is equivalent to:"
      ]
    },
    {
      "cell_type": "code",
      "execution_count": null,
      "id": "czech-kingdom",
      "metadata": {
        "id": "czech-kingdom",
        "outputId": "74bf90f6-154c-459d-8e07-8d21d005ae62"
      },
      "outputs": [
        {
          "data": {
            "text/plain": [
              "array([[ 1,  2],\n",
              "       [15, 16],\n",
              "       [29, 30]])"
            ]
          },
          "execution_count": 36,
          "metadata": {},
          "output_type": "execute_result"
        }
      ],
      "source": [
        "y[:, 1:3][np.array([0,2,4]),:]"
      ]
    },
    {
      "cell_type": "code",
      "execution_count": null,
      "id": "vocational-disclaimer",
      "metadata": {
        "id": "vocational-disclaimer",
        "outputId": "e3b1b9ef-f3c7-4a2d-86a1-bdc9b8e28571"
      },
      "outputs": [
        {
          "data": {
            "text/plain": [
              "array([[ 1,  2],\n",
              "       [ 8,  9],\n",
              "       [15, 16],\n",
              "       [22, 23],\n",
              "       [29, 30]])"
            ]
          },
          "execution_count": 37,
          "metadata": {},
          "output_type": "execute_result"
        }
      ],
      "source": [
        "y[:, 1:3]"
      ]
    },
    {
      "cell_type": "markdown",
      "id": "legitimate-popularity",
      "metadata": {
        "id": "legitimate-popularity"
      },
      "source": [
        "Likewise, slicing can be combined with broadcasted boolean indices:"
      ]
    },
    {
      "cell_type": "code",
      "execution_count": null,
      "id": "designed-morgan",
      "metadata": {
        "id": "designed-morgan",
        "outputId": "c08c8cc2-ba85-4825-bef6-d558f82dd5f6"
      },
      "outputs": [
        {
          "data": {
            "text/plain": [
              "array([[False, False, False, False, False, False, False],\n",
              "       [False, False, False, False, False, False, False],\n",
              "       [False, False, False, False, False, False, False],\n",
              "       [ True,  True,  True,  True,  True,  True,  True],\n",
              "       [ True,  True,  True,  True,  True,  True,  True]])"
            ]
          },
          "execution_count": 38,
          "metadata": {},
          "output_type": "execute_result"
        }
      ],
      "source": [
        "b = y>20\n",
        "b"
      ]
    },
    {
      "cell_type": "code",
      "execution_count": null,
      "id": "continued-agriculture",
      "metadata": {
        "id": "continued-agriculture",
        "outputId": "f6e35a81-d635-4e28-e521-f4d0a81764de"
      },
      "outputs": [
        {
          "data": {
            "text/plain": [
              "array([[22, 23],\n",
              "       [29, 30]])"
            ]
          },
          "execution_count": 39,
          "metadata": {},
          "output_type": "execute_result"
        }
      ],
      "source": [
        "y[b[:, 5], 1:3]"
      ]
    },
    {
      "cell_type": "markdown",
      "id": "modern-bunch",
      "metadata": {
        "id": "modern-bunch"
      },
      "source": [
        "# Structural indexing tools"
      ]
    },
    {
      "cell_type": "markdown",
      "id": "narrow-firmware",
      "metadata": {
        "id": "narrow-firmware"
      },
      "source": [
        "The <b>np.newaxis</b> object can be used within array indices to add new dimensions with a size of 1. For example:"
      ]
    },
    {
      "cell_type": "code",
      "execution_count": null,
      "id": "republican-harassment",
      "metadata": {
        "id": "republican-harassment",
        "outputId": "3544b9d3-94ce-42ff-bec1-2e08e05f8251"
      },
      "outputs": [
        {
          "data": {
            "text/plain": [
              "(5, 7)"
            ]
          },
          "execution_count": 40,
          "metadata": {},
          "output_type": "execute_result"
        }
      ],
      "source": [
        "y.shape"
      ]
    },
    {
      "cell_type": "code",
      "execution_count": null,
      "id": "electronic-alarm",
      "metadata": {
        "id": "electronic-alarm",
        "outputId": "75d830d1-6c2b-42e0-932b-f355dac0b5a4"
      },
      "outputs": [
        {
          "data": {
            "text/plain": [
              "(5, 1, 7)"
            ]
          },
          "execution_count": 42,
          "metadata": {},
          "output_type": "execute_result"
        }
      ],
      "source": [
        "y[:, np.newaxis, :].shape"
      ]
    },
    {
      "cell_type": "code",
      "execution_count": null,
      "id": "threatened-perfume",
      "metadata": {
        "id": "threatened-perfume",
        "outputId": "143b0bd3-8b5f-4f7e-ec99-81861b75fa4a"
      },
      "outputs": [
        {
          "data": {
            "text/plain": [
              "array([[[ 0,  1,  2,  3,  4,  5,  6]],\n",
              "\n",
              "       [[ 7,  8,  9, 10, 11, 12, 13]],\n",
              "\n",
              "       [[14, 15, 16, 17, 18, 19, 20]],\n",
              "\n",
              "       [[21, 22, 23, 24, 25, 26, 27]],\n",
              "\n",
              "       [[28, 29, 30, 31, 32, 33, 34]]])"
            ]
          },
          "execution_count": 43,
          "metadata": {},
          "output_type": "execute_result"
        }
      ],
      "source": [
        "y[:, np.newaxis, :]"
      ]
    },
    {
      "cell_type": "markdown",
      "id": "handy-retro",
      "metadata": {
        "id": "handy-retro"
      },
      "source": [
        "Note that there are no new elements in the array, just that the dimensionality is increased. This can be handy to combine two arrays in a way that otherwise would require explicitly reshaping operations"
      ]
    },
    {
      "cell_type": "code",
      "execution_count": null,
      "id": "ranging-diagram",
      "metadata": {
        "id": "ranging-diagram",
        "outputId": "d2f60265-f396-4a96-b542-0d5de391302c"
      },
      "outputs": [
        {
          "data": {
            "text/plain": [
              "array([0, 1, 2, 3, 4])"
            ]
          },
          "execution_count": 45,
          "metadata": {},
          "output_type": "execute_result"
        }
      ],
      "source": [
        "x = np.arange(5)\n",
        "x"
      ]
    },
    {
      "cell_type": "code",
      "execution_count": null,
      "id": "functional-morris",
      "metadata": {
        "id": "functional-morris",
        "outputId": "c11a2667-3697-4b1b-ab0a-67ac06ed3825"
      },
      "outputs": [
        {
          "data": {
            "text/plain": [
              "array([[0],\n",
              "       [1],\n",
              "       [2],\n",
              "       [3],\n",
              "       [4]])"
            ]
          },
          "execution_count": 46,
          "metadata": {},
          "output_type": "execute_result"
        }
      ],
      "source": [
        "x[:, np.newaxis]"
      ]
    },
    {
      "cell_type": "code",
      "execution_count": null,
      "id": "antique-correspondence",
      "metadata": {
        "id": "antique-correspondence",
        "outputId": "91b4611b-498e-414c-d39e-3822c1a28a11"
      },
      "outputs": [
        {
          "data": {
            "text/plain": [
              "array([[0, 1, 2, 3, 4]])"
            ]
          },
          "execution_count": 47,
          "metadata": {},
          "output_type": "execute_result"
        }
      ],
      "source": [
        "x[np.newaxis, :]"
      ]
    },
    {
      "cell_type": "code",
      "execution_count": null,
      "id": "worthy-guinea",
      "metadata": {
        "id": "worthy-guinea",
        "outputId": "a70b73c3-a00d-440f-bdc4-d3276b93b84e"
      },
      "outputs": [
        {
          "data": {
            "text/plain": [
              "array([[0, 1, 2, 3, 4],\n",
              "       [1, 2, 3, 4, 5],\n",
              "       [2, 3, 4, 5, 6],\n",
              "       [3, 4, 5, 6, 7],\n",
              "       [4, 5, 6, 7, 8]])"
            ]
          },
          "execution_count": 48,
          "metadata": {},
          "output_type": "execute_result"
        }
      ],
      "source": [
        "x[:, np.newaxis] + x[np.newaxis, ]"
      ]
    },
    {
      "cell_type": "markdown",
      "id": "material-extreme",
      "metadata": {
        "id": "material-extreme"
      },
      "source": [
        "The ellipsis syntax maybe used to indicate selecting in full any remaining unspecified dimensions."
      ]
    },
    {
      "cell_type": "code",
      "execution_count": null,
      "id": "cardiac-beaver",
      "metadata": {
        "id": "cardiac-beaver",
        "outputId": "9fceecb8-0ec3-40b0-cefd-ca8444d92f35"
      },
      "outputs": [
        {
          "data": {
            "text/plain": [
              "array([[[[ 0,  1,  2],\n",
              "         [ 3,  4,  5],\n",
              "         [ 6,  7,  8]],\n",
              "\n",
              "        [[ 9, 10, 11],\n",
              "         [12, 13, 14],\n",
              "         [15, 16, 17]],\n",
              "\n",
              "        [[18, 19, 20],\n",
              "         [21, 22, 23],\n",
              "         [24, 25, 26]]],\n",
              "\n",
              "\n",
              "       [[[27, 28, 29],\n",
              "         [30, 31, 32],\n",
              "         [33, 34, 35]],\n",
              "\n",
              "        [[36, 37, 38],\n",
              "         [39, 40, 41],\n",
              "         [42, 43, 44]],\n",
              "\n",
              "        [[45, 46, 47],\n",
              "         [48, 49, 50],\n",
              "         [51, 52, 53]]],\n",
              "\n",
              "\n",
              "       [[[54, 55, 56],\n",
              "         [57, 58, 59],\n",
              "         [60, 61, 62]],\n",
              "\n",
              "        [[63, 64, 65],\n",
              "         [66, 67, 68],\n",
              "         [69, 70, 71]],\n",
              "\n",
              "        [[72, 73, 74],\n",
              "         [75, 76, 77],\n",
              "         [78, 79, 80]]]])"
            ]
          },
          "execution_count": 49,
          "metadata": {},
          "output_type": "execute_result"
        }
      ],
      "source": [
        "z = np.arange(81).reshape(3, 3, 3, 3)\n",
        "z"
      ]
    },
    {
      "cell_type": "code",
      "execution_count": null,
      "id": "opponent-hammer",
      "metadata": {
        "id": "opponent-hammer",
        "outputId": "e87ecb80-3beb-45ba-e9c5-d92d688e03f9"
      },
      "outputs": [
        {
          "data": {
            "text/plain": [
              "array([[29, 32, 35],\n",
              "       [38, 41, 44],\n",
              "       [47, 50, 53]])"
            ]
          },
          "execution_count": 50,
          "metadata": {},
          "output_type": "execute_result"
        }
      ],
      "source": [
        "z[1,...,2]"
      ]
    },
    {
      "cell_type": "markdown",
      "id": "swiss-matrix",
      "metadata": {
        "id": "swiss-matrix"
      },
      "source": [
        "This is equivalent to"
      ]
    },
    {
      "cell_type": "code",
      "execution_count": null,
      "id": "yellow-ivory",
      "metadata": {
        "id": "yellow-ivory",
        "outputId": "82404470-74a0-4da2-c7d4-cf21511276b7"
      },
      "outputs": [
        {
          "data": {
            "text/plain": [
              "array([[29, 32, 35],\n",
              "       [38, 41, 44],\n",
              "       [47, 50, 53]])"
            ]
          },
          "execution_count": 51,
          "metadata": {},
          "output_type": "execute_result"
        }
      ],
      "source": [
        "z[1,:,:,2]"
      ]
    },
    {
      "cell_type": "markdown",
      "id": "curious-korea",
      "metadata": {
        "id": "curious-korea"
      },
      "source": [
        "# Assigning values to indexed arrays"
      ]
    },
    {
      "cell_type": "markdown",
      "id": "industrial-solomon",
      "metadata": {
        "id": "industrial-solomon"
      },
      "source": [
        "As mentioned, one can select a subset of an array to assign to using a single index, slices, and index and mask arrays. The value being assigned to the indexed array <b>must</b> be <b>shape consistent</b>"
      ]
    },
    {
      "cell_type": "code",
      "execution_count": null,
      "id": "american-serbia",
      "metadata": {
        "id": "american-serbia",
        "outputId": "dd565fab-b8b8-4ac0-8aa0-5bc9ac4c8b4f"
      },
      "outputs": [
        {
          "data": {
            "text/plain": [
              "array([0, 1, 2, 3, 4, 5, 6, 7, 8, 9])"
            ]
          },
          "execution_count": 52,
          "metadata": {},
          "output_type": "execute_result"
        }
      ],
      "source": [
        "x = np.arange(10)\n",
        "x"
      ]
    },
    {
      "cell_type": "code",
      "execution_count": null,
      "id": "prospective-discount",
      "metadata": {
        "id": "prospective-discount",
        "outputId": "4b75fb25-f7f1-4f13-8a18-1f336ed1ab55"
      },
      "outputs": [
        {
          "data": {
            "text/plain": [
              "array([0, 1, 1, 1, 1, 1, 1, 7, 8, 9])"
            ]
          },
          "execution_count": 53,
          "metadata": {},
          "output_type": "execute_result"
        }
      ],
      "source": [
        "x[2:7] = 1\n",
        "x"
      ]
    },
    {
      "cell_type": "code",
      "execution_count": null,
      "id": "confused-protest",
      "metadata": {
        "id": "confused-protest",
        "outputId": "f594a931-6aba-43d0-b09e-0978fb7ca837"
      },
      "outputs": [
        {
          "data": {
            "text/plain": [
              "array([0, 1, 0, 1, 2, 3, 4, 7, 8, 9])"
            ]
          },
          "execution_count": 54,
          "metadata": {},
          "output_type": "execute_result"
        }
      ],
      "source": [
        "x[2:7] = np.arange(5)\n",
        "x"
      ]
    },
    {
      "cell_type": "code",
      "execution_count": null,
      "id": "organic-dublin",
      "metadata": {
        "id": "organic-dublin",
        "outputId": "a37caf9f-bde4-44b2-da20-c742b3bb80f7"
      },
      "outputs": [
        {
          "ename": "ValueError",
          "evalue": "could not broadcast input array from shape (6) into shape (5)",
          "output_type": "error",
          "traceback": [
            "\u001b[1;31m---------------------------------------------------------------------------\u001b[0m",
            "\u001b[1;31mValueError\u001b[0m                                Traceback (most recent call last)",
            "\u001b[1;32m<ipython-input-55-25c3ad381df3>\u001b[0m in \u001b[0;36m<module>\u001b[1;34m\u001b[0m\n\u001b[1;32m----> 1\u001b[1;33m \u001b[0mx\u001b[0m\u001b[1;33m[\u001b[0m\u001b[1;36m2\u001b[0m\u001b[1;33m:\u001b[0m\u001b[1;36m7\u001b[0m\u001b[1;33m]\u001b[0m \u001b[1;33m=\u001b[0m \u001b[0mnp\u001b[0m\u001b[1;33m.\u001b[0m\u001b[0marange\u001b[0m\u001b[1;33m(\u001b[0m\u001b[1;36m6\u001b[0m\u001b[1;33m)\u001b[0m\u001b[1;33m\u001b[0m\u001b[1;33m\u001b[0m\u001b[0m\n\u001b[0m\u001b[0;32m      2\u001b[0m \u001b[0mx\u001b[0m\u001b[1;33m\u001b[0m\u001b[1;33m\u001b[0m\u001b[0m\n",
            "\u001b[1;31mValueError\u001b[0m: could not broadcast input array from shape (6) into shape (5)"
          ]
        }
      ],
      "source": [
        "x[2:7] = np.arange(6)\n",
        "x"
      ]
    },
    {
      "cell_type": "markdown",
      "id": "casual-occasions",
      "metadata": {
        "id": "casual-occasions"
      },
      "source": [
        "Note that assignments may result in changes if assigning higher types to lower types (like float to int) or <b>exceptions</b> (complex to float or int)"
      ]
    },
    {
      "cell_type": "code",
      "execution_count": null,
      "id": "regulated-africa",
      "metadata": {
        "id": "regulated-africa",
        "outputId": "d460c7c1-7f8b-4468-ffcc-34fb72a6ef73"
      },
      "outputs": [
        {
          "data": {
            "text/plain": [
              "1"
            ]
          },
          "execution_count": 56,
          "metadata": {},
          "output_type": "execute_result"
        }
      ],
      "source": [
        "x[1] = 1.2\n",
        "x[1]"
      ]
    },
    {
      "cell_type": "code",
      "execution_count": null,
      "id": "gross-administrator",
      "metadata": {
        "id": "gross-administrator",
        "outputId": "3b32cabd-51ab-43f4-9425-6146bf5e48f1"
      },
      "outputs": [
        {
          "ename": "TypeError",
          "evalue": "can't convert complex to int",
          "output_type": "error",
          "traceback": [
            "\u001b[1;31m---------------------------------------------------------------------------\u001b[0m",
            "\u001b[1;31mTypeError\u001b[0m                                 Traceback (most recent call last)",
            "\u001b[1;32m<ipython-input-57-c073c7dfbf09>\u001b[0m in \u001b[0;36m<module>\u001b[1;34m\u001b[0m\n\u001b[1;32m----> 1\u001b[1;33m \u001b[0mx\u001b[0m\u001b[1;33m[\u001b[0m\u001b[1;36m1\u001b[0m\u001b[1;33m]\u001b[0m \u001b[1;33m=\u001b[0m \u001b[1;36m1.2j\u001b[0m\u001b[1;33m\u001b[0m\u001b[1;33m\u001b[0m\u001b[0m\n\u001b[0m",
            "\u001b[1;31mTypeError\u001b[0m: can't convert complex to int"
          ]
        }
      ],
      "source": [
        "x[1] = 1.2j"
      ]
    },
    {
      "cell_type": "markdown",
      "id": "cooperative-emerald",
      "metadata": {
        "id": "cooperative-emerald"
      },
      "source": [
        "Assignments are always made to the <b>orginial data</b> in the array"
      ]
    },
    {
      "cell_type": "code",
      "execution_count": null,
      "id": "raising-wheat",
      "metadata": {
        "id": "raising-wheat",
        "outputId": "6b1efae5-dce8-4f58-b8a5-578d5f2a19c7"
      },
      "outputs": [
        {
          "data": {
            "text/plain": [
              "array([ 0, 10, 20, 30, 40])"
            ]
          },
          "execution_count": 58,
          "metadata": {},
          "output_type": "execute_result"
        }
      ],
      "source": [
        "x = np.arange(0, 50, 10)\n",
        "x"
      ]
    },
    {
      "cell_type": "code",
      "execution_count": null,
      "id": "desperate-weapon",
      "metadata": {
        "id": "desperate-weapon",
        "outputId": "f66b40e8-192b-4e18-ede6-26d999aafc6c"
      },
      "outputs": [
        {
          "data": {
            "text/plain": [
              "array([ 0, 11, 20, 31, 40])"
            ]
          },
          "execution_count": 59,
          "metadata": {},
          "output_type": "execute_result"
        }
      ],
      "source": [
        "x[np.array([1, 1, 3, 1])] += 1\n",
        "x"
      ]
    },
    {
      "cell_type": "markdown",
      "id": "verified-difficulty",
      "metadata": {
        "id": "verified-difficulty"
      },
      "source": [
        "The reason is because <b>a new array</b> is extracted from the original containing the values at 1, 1, 3, 1."
      ]
    },
    {
      "cell_type": "markdown",
      "id": "union-folder",
      "metadata": {
        "id": "union-folder"
      },
      "source": [
        "# Basic Slicing and Indexing"
      ]
    },
    {
      "cell_type": "code",
      "execution_count": null,
      "id": "detailed-glance",
      "metadata": {
        "id": "detailed-glance"
      },
      "outputs": [],
      "source": []
    }
  ],
  "metadata": {
    "kernelspec": {
      "display_name": "Python 3",
      "language": "python",
      "name": "python3"
    },
    "language_info": {
      "codemirror_mode": {
        "name": "ipython",
        "version": 3
      },
      "file_extension": ".py",
      "mimetype": "text/x-python",
      "name": "python",
      "nbconvert_exporter": "python",
      "pygments_lexer": "ipython3",
      "version": "3.7.9"
    },
    "colab": {
      "provenance": [],
      "toc_visible": true
    }
  },
  "nbformat": 4,
  "nbformat_minor": 5
}