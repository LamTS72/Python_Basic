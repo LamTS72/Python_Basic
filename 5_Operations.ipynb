{
  "cells": [
    {
      "cell_type": "code",
      "execution_count": null,
      "id": "contrary-nirvana",
      "metadata": {
        "id": "contrary-nirvana"
      },
      "outputs": [],
      "source": [
        "import numpy as np"
      ]
    },
    {
      "cell_type": "markdown",
      "id": "instant-montgomery",
      "metadata": {
        "id": "instant-montgomery"
      },
      "source": [
        "# Operation"
      ]
    },
    {
      "cell_type": "markdown",
      "id": "middle-distribution",
      "metadata": {
        "id": "middle-distribution"
      },
      "source": [
        "## Arithmetic operations\n",
        "https://numpy.org/doc/stable/reference/routines.math.html"
      ]
    },
    {
      "cell_type": "markdown",
      "id": "original-transport",
      "metadata": {
        "id": "original-transport"
      },
      "source": [
        "<b>add(x1, x2)</b>"
      ]
    },
    {
      "cell_type": "code",
      "execution_count": null,
      "id": "direct-defeat",
      "metadata": {
        "id": "direct-defeat",
        "outputId": "5abc8932-3893-4978-8852-35f6642f3b51"
      },
      "outputs": [
        {
          "data": {
            "text/plain": [
              "5.0"
            ]
          },
          "execution_count": 3,
          "metadata": {},
          "output_type": "execute_result"
        }
      ],
      "source": [
        "np.add(1.0, 4.0)"
      ]
    },
    {
      "cell_type": "code",
      "execution_count": null,
      "id": "synthetic-folks",
      "metadata": {
        "id": "synthetic-folks",
        "outputId": "a787e3e6-6661-45b2-b79f-453d1b721628"
      },
      "outputs": [
        {
          "data": {
            "text/plain": [
              "array([[ 0.,  2.,  4.],\n",
              "       [ 3.,  5.,  7.],\n",
              "       [ 6.,  8., 10.]])"
            ]
          },
          "execution_count": 4,
          "metadata": {},
          "output_type": "execute_result"
        }
      ],
      "source": [
        "x1 = np.arange(9.0).reshape((3, 3))\n",
        "x2 = np.arange(3.0)\n",
        "np.add(x1, x2)"
      ]
    },
    {
      "cell_type": "code",
      "execution_count": null,
      "id": "handmade-brush",
      "metadata": {
        "id": "handmade-brush",
        "outputId": "63294a10-981a-495e-eeb1-2845b9609ad7"
      },
      "outputs": [
        {
          "data": {
            "text/plain": [
              "array([[ 0.,  2.,  4.],\n",
              "       [ 3.,  5.,  7.],\n",
              "       [ 6.,  8., 10.]])"
            ]
          },
          "execution_count": 5,
          "metadata": {},
          "output_type": "execute_result"
        }
      ],
      "source": [
        "x1 + x2"
      ]
    },
    {
      "cell_type": "markdown",
      "id": "acute-philip",
      "metadata": {
        "id": "acute-philip"
      },
      "source": [
        "<b>subtract(x1, x2)</b>"
      ]
    },
    {
      "cell_type": "code",
      "execution_count": null,
      "id": "missing-aurora",
      "metadata": {
        "id": "missing-aurora",
        "outputId": "db953e9f-3a14-41ea-d16a-33cd04119666"
      },
      "outputs": [
        {
          "data": {
            "text/plain": [
              "-3.0"
            ]
          },
          "execution_count": 6,
          "metadata": {},
          "output_type": "execute_result"
        }
      ],
      "source": [
        "np.subtract(1.0, 4.0)"
      ]
    },
    {
      "cell_type": "code",
      "execution_count": null,
      "id": "closing-crown",
      "metadata": {
        "id": "closing-crown",
        "outputId": "2b186e0f-8249-44da-b89d-f6105b71f408"
      },
      "outputs": [
        {
          "data": {
            "text/plain": [
              "array([[0., 0., 0.],\n",
              "       [3., 3., 3.],\n",
              "       [6., 6., 6.]])"
            ]
          },
          "execution_count": 7,
          "metadata": {},
          "output_type": "execute_result"
        }
      ],
      "source": [
        "x1 = np.arange(9.0).reshape((3, 3))\n",
        "x2 = np.arange(3.0)\n",
        "np.subtract(x1, x2)"
      ]
    },
    {
      "cell_type": "code",
      "execution_count": null,
      "id": "adjacent-criminal",
      "metadata": {
        "id": "adjacent-criminal",
        "outputId": "e0de2c1e-4e41-4116-bf3c-053118f8e5dd"
      },
      "outputs": [
        {
          "data": {
            "text/plain": [
              "array([[0., 0., 0.],\n",
              "       [3., 3., 3.],\n",
              "       [6., 6., 6.]])"
            ]
          },
          "execution_count": 8,
          "metadata": {},
          "output_type": "execute_result"
        }
      ],
      "source": [
        "x1 - x2"
      ]
    },
    {
      "cell_type": "markdown",
      "id": "judicial-republican",
      "metadata": {
        "id": "judicial-republican"
      },
      "source": [
        "<b>multiply(x1, x2)</b>"
      ]
    },
    {
      "cell_type": "code",
      "execution_count": null,
      "id": "eleven-quebec",
      "metadata": {
        "id": "eleven-quebec",
        "outputId": "8a7a3943-7c72-4be9-dd83-8b9417f6da7e"
      },
      "outputs": [
        {
          "data": {
            "text/plain": [
              "8.0"
            ]
          },
          "execution_count": 9,
          "metadata": {},
          "output_type": "execute_result"
        }
      ],
      "source": [
        "np.multiply(2.0, 4.0)"
      ]
    },
    {
      "cell_type": "code",
      "execution_count": null,
      "id": "understanding-thumb",
      "metadata": {
        "id": "understanding-thumb",
        "outputId": "01269eae-68fa-4ffb-d837-19924ce3670a"
      },
      "outputs": [
        {
          "data": {
            "text/plain": [
              "array([[ 0.,  1.,  4.],\n",
              "       [ 0.,  4., 10.],\n",
              "       [ 0.,  7., 16.]])"
            ]
          },
          "execution_count": 10,
          "metadata": {},
          "output_type": "execute_result"
        }
      ],
      "source": [
        "x1 = np.arange(9.0).reshape((3, 3))\n",
        "x2 = np.arange(3.0)\n",
        "np.multiply(x1, x2)"
      ]
    },
    {
      "cell_type": "code",
      "execution_count": null,
      "id": "abroad-smell",
      "metadata": {
        "id": "abroad-smell",
        "outputId": "f6651c30-b08b-4492-81db-d0cc4dea338d"
      },
      "outputs": [
        {
          "data": {
            "text/plain": [
              "array([[ 0.,  2.,  4.],\n",
              "       [ 6.,  8., 10.],\n",
              "       [12., 14., 16.]])"
            ]
          },
          "execution_count": 11,
          "metadata": {},
          "output_type": "execute_result"
        }
      ],
      "source": [
        "np.multiply(x1, 2)"
      ]
    },
    {
      "cell_type": "code",
      "execution_count": null,
      "id": "resistant-sight",
      "metadata": {
        "id": "resistant-sight",
        "outputId": "4fa75ce7-5a64-473c-ddf9-40ea9af7ddb1"
      },
      "outputs": [
        {
          "data": {
            "text/plain": [
              "array([[ 0.,  1.,  4.],\n",
              "       [ 0.,  4., 10.],\n",
              "       [ 0.,  7., 16.]])"
            ]
          },
          "execution_count": 12,
          "metadata": {},
          "output_type": "execute_result"
        }
      ],
      "source": [
        "x1 * x2"
      ]
    },
    {
      "cell_type": "markdown",
      "id": "martial-magic",
      "metadata": {
        "id": "martial-magic"
      },
      "source": [
        "<b>divide(x1, x2)</b>"
      ]
    },
    {
      "cell_type": "code",
      "execution_count": null,
      "id": "wicked-variety",
      "metadata": {
        "id": "wicked-variety",
        "outputId": "dd7e0de6-6ed7-404b-8e48-f599f57bdc5b"
      },
      "outputs": [
        {
          "data": {
            "text/plain": [
              "0.5"
            ]
          },
          "execution_count": 13,
          "metadata": {},
          "output_type": "execute_result"
        }
      ],
      "source": [
        "np.divide(2.0, 4.0)"
      ]
    },
    {
      "cell_type": "code",
      "execution_count": null,
      "id": "outer-essex",
      "metadata": {
        "id": "outer-essex",
        "outputId": "8ff6170a-27c3-4487-957a-a6c9e316aca2"
      },
      "outputs": [
        {
          "name": "stderr",
          "output_type": "stream",
          "text": [
            "C:\\Users\\pc\\.conda\\envs\\python37\\lib\\site-packages\\ipykernel_launcher.py:1: RuntimeWarning: divide by zero encountered in true_divide\n",
            "  \"\"\"Entry point for launching an IPython kernel.\n"
          ]
        },
        {
          "data": {
            "text/plain": [
              "inf"
            ]
          },
          "execution_count": 18,
          "metadata": {},
          "output_type": "execute_result"
        }
      ],
      "source": [
        "np.divide(2.0, 0)"
      ]
    },
    {
      "cell_type": "code",
      "execution_count": null,
      "id": "comparable-avatar",
      "metadata": {
        "id": "comparable-avatar",
        "outputId": "1408b07f-1f70-4ade-cf4d-3410eeaae3c6"
      },
      "outputs": [
        {
          "data": {
            "text/plain": [
              "array([[1.        , 0.5       , 0.33333333],\n",
              "       [1.        , 0.5       , 0.33333333],\n",
              "       [1.        , 0.5       , 0.33333333]])"
            ]
          },
          "execution_count": 23,
          "metadata": {},
          "output_type": "execute_result"
        }
      ],
      "source": [
        "x1 = np.ones((3, 3))\n",
        "x2 = np.arange(3.0) + 1\n",
        "np.divide(x1, x2)"
      ]
    },
    {
      "cell_type": "markdown",
      "id": "genetic-edmonton",
      "metadata": {
        "id": "genetic-edmonton"
      },
      "source": [
        "<b>reciprocal(x)</b>"
      ]
    },
    {
      "cell_type": "code",
      "execution_count": null,
      "id": "renewable-camel",
      "metadata": {
        "id": "renewable-camel",
        "outputId": "25f3b437-fba4-4d84-e368-c3dff6c0142c"
      },
      "outputs": [
        {
          "data": {
            "text/plain": [
              "0.5"
            ]
          },
          "execution_count": 24,
          "metadata": {},
          "output_type": "execute_result"
        }
      ],
      "source": [
        "np.reciprocal(2.)"
      ]
    },
    {
      "cell_type": "code",
      "execution_count": null,
      "id": "skilled-semiconductor",
      "metadata": {
        "id": "skilled-semiconductor",
        "outputId": "a32522ac-2630-4312-b510-514a68f065a8"
      },
      "outputs": [
        {
          "data": {
            "text/plain": [
              "array([1.       , 0.5      , 0.3003003])"
            ]
          },
          "execution_count": 26,
          "metadata": {},
          "output_type": "execute_result"
        }
      ],
      "source": [
        "np.reciprocal([1, 2, 3.33])"
      ]
    },
    {
      "cell_type": "markdown",
      "id": "loose-afghanistan",
      "metadata": {
        "id": "loose-afghanistan"
      },
      "source": [
        "<b>power(x1, x2)</b>"
      ]
    },
    {
      "cell_type": "code",
      "execution_count": null,
      "id": "opposite-mexican",
      "metadata": {
        "id": "opposite-mexican",
        "outputId": "2bebc7cf-389d-49ed-eabc-30eabaa066a9"
      },
      "outputs": [
        {
          "data": {
            "text/plain": [
              "array([0, 1, 2, 3, 4, 5])"
            ]
          },
          "execution_count": 27,
          "metadata": {},
          "output_type": "execute_result"
        }
      ],
      "source": [
        "x1 = np.arange(6)\n",
        "x1"
      ]
    },
    {
      "cell_type": "code",
      "execution_count": null,
      "id": "peaceful-tuning",
      "metadata": {
        "id": "peaceful-tuning",
        "outputId": "ed1ff574-54f7-478a-9aef-ade898451a4a"
      },
      "outputs": [
        {
          "data": {
            "text/plain": [
              "array([  0,   1,   8,  27,  64, 125], dtype=int32)"
            ]
          },
          "execution_count": 28,
          "metadata": {},
          "output_type": "execute_result"
        }
      ],
      "source": [
        "np.power(x1, 3)"
      ]
    },
    {
      "cell_type": "code",
      "execution_count": null,
      "id": "comparable-newfoundland",
      "metadata": {
        "id": "comparable-newfoundland",
        "outputId": "062df6c6-ae8b-419d-ebc3-a5c5006a7257"
      },
      "outputs": [
        {
          "data": {
            "text/plain": [
              "array([ 0.,  1.,  8., 27., 16.,  5.])"
            ]
          },
          "execution_count": 31,
          "metadata": {},
          "output_type": "execute_result"
        }
      ],
      "source": [
        "x2 = [1.0, 2.0, 3.0, 3, 2, 1]\n",
        "np.power(x1, x2)"
      ]
    },
    {
      "cell_type": "code",
      "execution_count": null,
      "id": "lucky-finger",
      "metadata": {
        "id": "lucky-finger",
        "outputId": "27a93aa8-72c3-4547-b232-e14dde697308"
      },
      "outputs": [
        {
          "ename": "ValueError",
          "evalue": "operands could not be broadcast together with shapes (6,) (2,) ",
          "output_type": "error",
          "traceback": [
            "\u001b[1;31m---------------------------------------------------------------------------\u001b[0m",
            "\u001b[1;31mValueError\u001b[0m                                Traceback (most recent call last)",
            "\u001b[1;32m<ipython-input-32-de6c061ada9e>\u001b[0m in \u001b[0;36m<module>\u001b[1;34m\u001b[0m\n\u001b[1;32m----> 1\u001b[1;33m \u001b[0mnp\u001b[0m\u001b[1;33m.\u001b[0m\u001b[0mpower\u001b[0m\u001b[1;33m(\u001b[0m\u001b[0mx1\u001b[0m\u001b[1;33m,\u001b[0m \u001b[1;33m[\u001b[0m\u001b[1;36m1\u001b[0m\u001b[1;33m,\u001b[0m \u001b[1;36m2\u001b[0m\u001b[1;33m]\u001b[0m\u001b[1;33m)\u001b[0m\u001b[1;33m\u001b[0m\u001b[1;33m\u001b[0m\u001b[0m\n\u001b[0m",
            "\u001b[1;31mValueError\u001b[0m: operands could not be broadcast together with shapes (6,) (2,) "
          ]
        }
      ],
      "source": [
        "np.power(x1, [1, 2])"
      ]
    },
    {
      "cell_type": "code",
      "execution_count": null,
      "id": "equivalent-tumor",
      "metadata": {
        "id": "equivalent-tumor",
        "outputId": "b7c861d5-66b3-4b0e-ce62-9e56833cf3d4"
      },
      "outputs": [
        {
          "data": {
            "text/plain": [
              "array([[ 0,  1,  8, 27, 16,  5],\n",
              "       [ 0,  1,  8, 27, 16, 25]], dtype=int32)"
            ]
          },
          "execution_count": 34,
          "metadata": {},
          "output_type": "execute_result"
        }
      ],
      "source": [
        "x2 = np.array([[1, 2, 3, 3, 2, 1], [1, 2, 3, 3, 2, 2]])\n",
        "x1 ** x2"
      ]
    },
    {
      "cell_type": "markdown",
      "id": "younger-notion",
      "metadata": {
        "id": "younger-notion"
      },
      "source": [
        "<b>mod(x1, x2)</b> is equivalent to <b>remainder(x1, x2)</b>"
      ]
    },
    {
      "cell_type": "code",
      "execution_count": null,
      "id": "convinced-domain",
      "metadata": {
        "id": "convinced-domain",
        "outputId": "4666786c-d99e-429f-c5b6-47c4cc135a03"
      },
      "outputs": [
        {
          "data": {
            "text/plain": [
              "array([0, 1], dtype=int32)"
            ]
          },
          "execution_count": 35,
          "metadata": {},
          "output_type": "execute_result"
        }
      ],
      "source": [
        "np.remainder([4, 7], [2, 3])"
      ]
    },
    {
      "cell_type": "code",
      "execution_count": null,
      "id": "seventh-store",
      "metadata": {
        "id": "seventh-store",
        "outputId": "be8de6d4-89cd-4827-a5b3-bf4948bc6888"
      },
      "outputs": [
        {
          "data": {
            "text/plain": [
              "array([0, 1, 2, 3, 4, 0, 1], dtype=int32)"
            ]
          },
          "execution_count": 36,
          "metadata": {},
          "output_type": "execute_result"
        }
      ],
      "source": [
        "np.remainder(np.arange(7), 5)"
      ]
    },
    {
      "cell_type": "code",
      "execution_count": null,
      "id": "engaging-forty",
      "metadata": {
        "id": "engaging-forty",
        "outputId": "6d0df651-f182-415b-8c88-b3ba08ab70a6"
      },
      "outputs": [
        {
          "data": {
            "text/plain": [
              "array([0, 1, 2, 3, 4, 0, 1], dtype=int32)"
            ]
          },
          "execution_count": 37,
          "metadata": {},
          "output_type": "execute_result"
        }
      ],
      "source": [
        "np.arange(7) % 5"
      ]
    },
    {
      "cell_type": "markdown",
      "id": "compressed-tribe",
      "metadata": {
        "id": "compressed-tribe"
      },
      "source": [
        "## Logic functions\n",
        "https://numpy.org/doc/stable/reference/routines.logic.html"
      ]
    },
    {
      "cell_type": "markdown",
      "id": "satellite-steel",
      "metadata": {
        "id": "satellite-steel"
      },
      "source": [
        "###  Truth value testing"
      ]
    },
    {
      "cell_type": "markdown",
      "id": "excessive-banner",
      "metadata": {
        "id": "excessive-banner"
      },
      "source": [
        "<b>all(a, axis=None)</b>: Test whether all array elements along a given evaluate to True\n",
        "Not a Number (NaN), positive infinity and negative infinity evaluate to True"
      ]
    },
    {
      "cell_type": "code",
      "execution_count": null,
      "id": "nutritional-particular",
      "metadata": {
        "id": "nutritional-particular",
        "outputId": "2375e05b-7c7c-49b7-e98e-d44b41e0df46"
      },
      "outputs": [
        {
          "data": {
            "text/plain": [
              "False"
            ]
          },
          "execution_count": 38,
          "metadata": {},
          "output_type": "execute_result"
        }
      ],
      "source": [
        "np.all([[True, True], [True, False]])"
      ]
    },
    {
      "cell_type": "code",
      "execution_count": null,
      "id": "dying-antique",
      "metadata": {
        "id": "dying-antique",
        "outputId": "86910b70-1ba3-473e-fd66-d2be3aeb39da"
      },
      "outputs": [
        {
          "data": {
            "text/plain": [
              "array([ True, False])"
            ]
          },
          "execution_count": 40,
          "metadata": {},
          "output_type": "execute_result"
        }
      ],
      "source": [
        "np.all([[True, True], [True, False]], axis=0)"
      ]
    },
    {
      "cell_type": "code",
      "execution_count": null,
      "id": "curious-crossing",
      "metadata": {
        "id": "curious-crossing",
        "outputId": "8ebdee35-6297-46b1-d1b1-cf575c9f818b"
      },
      "outputs": [
        {
          "data": {
            "text/plain": [
              "array([ True, False])"
            ]
          },
          "execution_count": 41,
          "metadata": {},
          "output_type": "execute_result"
        }
      ],
      "source": [
        "np.all([[True, True], [True, False]], axis=1)"
      ]
    },
    {
      "cell_type": "code",
      "execution_count": null,
      "id": "alert-philosophy",
      "metadata": {
        "id": "alert-philosophy",
        "outputId": "1578e5ba-9f55-472c-af2d-a84c91a66eb7"
      },
      "outputs": [
        {
          "data": {
            "text/plain": [
              "True"
            ]
          },
          "execution_count": 42,
          "metadata": {},
          "output_type": "execute_result"
        }
      ],
      "source": [
        "np.all([-1, 4, 5])"
      ]
    },
    {
      "cell_type": "code",
      "execution_count": null,
      "id": "searching-nevada",
      "metadata": {
        "id": "searching-nevada",
        "outputId": "7bfc39e5-a5a9-4de4-f96d-502bf6b1f63b"
      },
      "outputs": [
        {
          "data": {
            "text/plain": [
              "True"
            ]
          },
          "execution_count": 43,
          "metadata": {},
          "output_type": "execute_result"
        }
      ],
      "source": [
        "np.all([1.0, np.nan])"
      ]
    },
    {
      "cell_type": "markdown",
      "id": "incident-attempt",
      "metadata": {
        "id": "incident-attempt"
      },
      "source": [
        "<b>any(a, axis=None)</b>"
      ]
    },
    {
      "cell_type": "code",
      "execution_count": null,
      "id": "legitimate-frame",
      "metadata": {
        "id": "legitimate-frame",
        "outputId": "c99d9a4d-bb9a-4a04-a124-8856a3e4f18a"
      },
      "outputs": [
        {
          "data": {
            "text/plain": [
              "True"
            ]
          },
          "execution_count": 45,
          "metadata": {},
          "output_type": "execute_result"
        }
      ],
      "source": [
        "np.any([[True, False], [True, True]])"
      ]
    },
    {
      "cell_type": "code",
      "execution_count": null,
      "id": "provincial-compromise",
      "metadata": {
        "id": "provincial-compromise",
        "outputId": "dde7b90f-4029-4266-d9b0-19d20407c16d"
      },
      "outputs": [
        {
          "data": {
            "text/plain": [
              "array([ True, False])"
            ]
          },
          "execution_count": 46,
          "metadata": {},
          "output_type": "execute_result"
        }
      ],
      "source": [
        "np.any([[True, False], [False, False]], axis=0)"
      ]
    },
    {
      "cell_type": "code",
      "execution_count": null,
      "id": "systematic-wages",
      "metadata": {
        "id": "systematic-wages",
        "outputId": "c97d3481-81c5-4381-c41c-c45d0085cba8"
      },
      "outputs": [
        {
          "data": {
            "text/plain": [
              "True"
            ]
          },
          "execution_count": 47,
          "metadata": {},
          "output_type": "execute_result"
        }
      ],
      "source": [
        "np.any(np.nan)"
      ]
    },
    {
      "cell_type": "code",
      "execution_count": null,
      "id": "altered-tunnel",
      "metadata": {
        "id": "altered-tunnel",
        "outputId": "719d7ee3-5f5a-408a-bd92-2a98021fe9c7"
      },
      "outputs": [
        {
          "data": {
            "text/plain": [
              "True"
            ]
          },
          "execution_count": 48,
          "metadata": {},
          "output_type": "execute_result"
        }
      ],
      "source": [
        "np.any([-1, 0, 5])"
      ]
    },
    {
      "cell_type": "markdown",
      "id": "eight-audio",
      "metadata": {
        "id": "eight-audio"
      },
      "source": [
        "### Array contents"
      ]
    },
    {
      "cell_type": "markdown",
      "id": "dedicated-struggle",
      "metadata": {
        "id": "dedicated-struggle"
      },
      "source": [
        "<b>isfinite(x)</b>"
      ]
    },
    {
      "cell_type": "code",
      "execution_count": null,
      "id": "close-oakland",
      "metadata": {
        "id": "close-oakland",
        "outputId": "04e2935a-f217-4767-8e1c-5799505018b1"
      },
      "outputs": [
        {
          "data": {
            "text/plain": [
              "True"
            ]
          },
          "execution_count": 49,
          "metadata": {},
          "output_type": "execute_result"
        }
      ],
      "source": [
        "np.isfinite(1)"
      ]
    },
    {
      "cell_type": "code",
      "execution_count": null,
      "id": "sporting-spank",
      "metadata": {
        "id": "sporting-spank",
        "outputId": "690610e0-09de-462d-f5b3-10ea0f3b6b4a"
      },
      "outputs": [
        {
          "data": {
            "text/plain": [
              "True"
            ]
          },
          "execution_count": 50,
          "metadata": {},
          "output_type": "execute_result"
        }
      ],
      "source": [
        "np.isfinite(0)"
      ]
    },
    {
      "cell_type": "code",
      "execution_count": null,
      "id": "indirect-april",
      "metadata": {
        "id": "indirect-april",
        "outputId": "59a63d8b-99f4-4532-d9d2-28851dc059c7"
      },
      "outputs": [
        {
          "data": {
            "text/plain": [
              "False"
            ]
          },
          "execution_count": 51,
          "metadata": {},
          "output_type": "execute_result"
        }
      ],
      "source": [
        "np.isfinite(np.nan)"
      ]
    },
    {
      "cell_type": "code",
      "execution_count": null,
      "id": "global-investor",
      "metadata": {
        "id": "global-investor",
        "outputId": "3ae6fadb-51fd-4b36-f9d2-0eb9933db493"
      },
      "outputs": [
        {
          "data": {
            "text/plain": [
              "False"
            ]
          },
          "execution_count": 52,
          "metadata": {},
          "output_type": "execute_result"
        }
      ],
      "source": [
        "np.isfinite(np.inf)"
      ]
    },
    {
      "cell_type": "code",
      "execution_count": null,
      "id": "earlier-inspiration",
      "metadata": {
        "id": "earlier-inspiration",
        "outputId": "be3ebaf8-8a1b-4940-8cc2-23d7378c0a59"
      },
      "outputs": [
        {
          "data": {
            "text/plain": [
              "False"
            ]
          },
          "execution_count": 53,
          "metadata": {},
          "output_type": "execute_result"
        }
      ],
      "source": [
        "np.isfinite(np.NINF)"
      ]
    },
    {
      "cell_type": "code",
      "execution_count": null,
      "id": "orange-retirement",
      "metadata": {
        "id": "orange-retirement",
        "outputId": "e803d4dd-45c6-42ae-d03c-2916c29f55c2"
      },
      "outputs": [
        {
          "name": "stderr",
          "output_type": "stream",
          "text": [
            "C:\\Users\\pc\\.conda\\envs\\python37\\lib\\site-packages\\ipykernel_launcher.py:1: RuntimeWarning: invalid value encountered in log\n",
            "  \"\"\"Entry point for launching an IPython kernel.\n",
            "C:\\Users\\pc\\.conda\\envs\\python37\\lib\\site-packages\\ipykernel_launcher.py:1: RuntimeWarning: divide by zero encountered in log\n",
            "  \"\"\"Entry point for launching an IPython kernel.\n"
          ]
        },
        {
          "data": {
            "text/plain": [
              "array([False,  True, False])"
            ]
          },
          "execution_count": 55,
          "metadata": {},
          "output_type": "execute_result"
        }
      ],
      "source": [
        "np.isfinite([np.log(-1.), 1, np.log(0)])"
      ]
    },
    {
      "cell_type": "code",
      "execution_count": null,
      "id": "acceptable-fireplace",
      "metadata": {
        "id": "acceptable-fireplace",
        "outputId": "f94e8881-6613-4c79-ae52-663067db8b45"
      },
      "outputs": [
        {
          "data": {
            "text/plain": [
              "array([0, 1, 0])"
            ]
          },
          "execution_count": 58,
          "metadata": {},
          "output_type": "execute_result"
        }
      ],
      "source": [
        "x = np.array([-np.inf, 0, np.inf])\n",
        "y = np.array([2, 2, 2])\n",
        "np.isfinite(x, y) # y  keeps the result"
      ]
    },
    {
      "cell_type": "code",
      "execution_count": null,
      "id": "welsh-mortgage",
      "metadata": {
        "id": "welsh-mortgage",
        "outputId": "c1291e2f-c61d-48db-b05c-bcd95248909f"
      },
      "outputs": [
        {
          "data": {
            "text/plain": [
              "array([0, 1, 0])"
            ]
          },
          "execution_count": 59,
          "metadata": {},
          "output_type": "execute_result"
        }
      ],
      "source": [
        "y"
      ]
    },
    {
      "cell_type": "markdown",
      "id": "brown-founder",
      "metadata": {
        "id": "brown-founder"
      },
      "source": [
        "<b>isinf(x)</b><br>\n",
        "<b>isnan(x)</b><br>\n",
        "<b>isnat(x)</b><br>\n",
        "<b>isneginf(x)</b><br>\n",
        "<b>isposinf(x)</b><Br>"
      ]
    },
    {
      "cell_type": "code",
      "execution_count": null,
      "id": "naughty-spencer",
      "metadata": {
        "id": "naughty-spencer",
        "outputId": "977c1ee2-df72-43d0-f608-559e8463960c"
      },
      "outputs": [
        {
          "data": {
            "text/plain": [
              "True"
            ]
          },
          "execution_count": 60,
          "metadata": {},
          "output_type": "execute_result"
        }
      ],
      "source": [
        "np.isnat(np.datetime64(\"NaT\"))"
      ]
    },
    {
      "cell_type": "code",
      "execution_count": null,
      "id": "separated-columbus",
      "metadata": {
        "id": "separated-columbus",
        "outputId": "3286c361-2908-427f-c7c8-3460ff18bed1"
      },
      "outputs": [
        {
          "data": {
            "text/plain": [
              "False"
            ]
          },
          "execution_count": 62,
          "metadata": {},
          "output_type": "execute_result"
        }
      ],
      "source": [
        "np.isnat(np.datetime64(\"2020-03-19\"))"
      ]
    },
    {
      "cell_type": "code",
      "execution_count": null,
      "id": "thermal-reduction",
      "metadata": {
        "id": "thermal-reduction",
        "outputId": "3fa8bf90-ea16-425c-e39a-5512a34defea"
      },
      "outputs": [
        {
          "data": {
            "text/plain": [
              "array([ True, False])"
            ]
          },
          "execution_count": 63,
          "metadata": {},
          "output_type": "execute_result"
        }
      ],
      "source": [
        "np.isnat(np.array([\"Nat\", \"2020-03-19\"], dtype=\"datetime64[ns]\"))"
      ]
    },
    {
      "cell_type": "markdown",
      "id": "friendly-dinner",
      "metadata": {
        "id": "friendly-dinner"
      },
      "source": [
        "### Logical operations"
      ]
    },
    {
      "cell_type": "markdown",
      "id": "metropolitan-swiss",
      "metadata": {
        "id": "metropolitan-swiss"
      },
      "source": [
        "<b>logical_and(x1, x2)</b>"
      ]
    },
    {
      "cell_type": "code",
      "execution_count": null,
      "id": "processed-monaco",
      "metadata": {
        "id": "processed-monaco",
        "outputId": "8452a1dd-7204-40cf-cd05-827ff9f22d71"
      },
      "outputs": [
        {
          "data": {
            "text/plain": [
              "array([False, False])"
            ]
          },
          "execution_count": 64,
          "metadata": {},
          "output_type": "execute_result"
        }
      ],
      "source": [
        "a = np.array([True, False])\n",
        "b = np.array([False, False])\n",
        "a & b"
      ]
    },
    {
      "cell_type": "code",
      "execution_count": null,
      "id": "appointed-smart",
      "metadata": {
        "id": "appointed-smart",
        "outputId": "e60b752a-a51a-482a-c860-00e38260e64c"
      },
      "outputs": [
        {
          "data": {
            "text/plain": [
              "array([False, False])"
            ]
          },
          "execution_count": 65,
          "metadata": {},
          "output_type": "execute_result"
        }
      ],
      "source": [
        "np.logical_and(a, b)"
      ]
    },
    {
      "cell_type": "markdown",
      "id": "french-chaos",
      "metadata": {
        "id": "french-chaos"
      },
      "source": [
        "<b>logical_or(x1, x2)</b>"
      ]
    },
    {
      "cell_type": "code",
      "execution_count": null,
      "id": "fiscal-street",
      "metadata": {
        "id": "fiscal-street",
        "outputId": "a2dc3d47-5742-449c-dfac-b6678c91fa37"
      },
      "outputs": [
        {
          "data": {
            "text/plain": [
              "array([ True, False])"
            ]
          },
          "execution_count": 66,
          "metadata": {},
          "output_type": "execute_result"
        }
      ],
      "source": [
        "a = np.array([True, False])\n",
        "b = np.array([False, False])\n",
        "a | b"
      ]
    },
    {
      "cell_type": "code",
      "execution_count": null,
      "id": "eight-column",
      "metadata": {
        "id": "eight-column",
        "outputId": "6203bc4b-be6e-4a95-9966-0756b5f5c2e7"
      },
      "outputs": [
        {
          "data": {
            "text/plain": [
              "array([ True, False])"
            ]
          },
          "execution_count": 67,
          "metadata": {},
          "output_type": "execute_result"
        }
      ],
      "source": [
        "np.logical_or(a, b)"
      ]
    },
    {
      "cell_type": "markdown",
      "id": "million-telling",
      "metadata": {
        "id": "million-telling"
      },
      "source": [
        "<b>logical_not(x)</b>"
      ]
    },
    {
      "cell_type": "code",
      "execution_count": null,
      "id": "bridal-joint",
      "metadata": {
        "id": "bridal-joint",
        "outputId": "53d67b73-6972-41e0-dc08-339dc5c67c5a"
      },
      "outputs": [
        {
          "data": {
            "text/plain": [
              "False"
            ]
          },
          "execution_count": 68,
          "metadata": {},
          "output_type": "execute_result"
        }
      ],
      "source": [
        "np.logical_not(3)"
      ]
    },
    {
      "cell_type": "code",
      "execution_count": null,
      "id": "surprised-remainder",
      "metadata": {
        "id": "surprised-remainder",
        "outputId": "63f2d20e-cf9b-4000-de1b-29483f37e7ee"
      },
      "outputs": [
        {
          "data": {
            "text/plain": [
              "array([False,  True,  True, False])"
            ]
          },
          "execution_count": 69,
          "metadata": {},
          "output_type": "execute_result"
        }
      ],
      "source": [
        "np.logical_not([True, False, 0, 1])"
      ]
    },
    {
      "cell_type": "code",
      "execution_count": null,
      "id": "thousand-return",
      "metadata": {
        "id": "thousand-return",
        "outputId": "acfab47d-73a3-4bd3-a10b-82d0cdecf578"
      },
      "outputs": [
        {
          "data": {
            "text/plain": [
              "array([False, False, False,  True,  True])"
            ]
          },
          "execution_count": 70,
          "metadata": {},
          "output_type": "execute_result"
        }
      ],
      "source": [
        "x = np.arange(5)\n",
        "np.logical_not(x<3)"
      ]
    },
    {
      "cell_type": "markdown",
      "id": "meaningful-nylon",
      "metadata": {
        "id": "meaningful-nylon"
      },
      "source": [
        "<b>logical_xor(x1, x2)</b>"
      ]
    },
    {
      "cell_type": "code",
      "execution_count": null,
      "id": "reverse-event",
      "metadata": {
        "id": "reverse-event",
        "outputId": "4734eed9-97fd-4363-b324-3c451b51e01c"
      },
      "outputs": [
        {
          "data": {
            "text/plain": [
              "array([False,  True,  True, False])"
            ]
          },
          "execution_count": 73,
          "metadata": {},
          "output_type": "execute_result"
        }
      ],
      "source": [
        "np.logical_xor([True, True, False, False], [True, False, True, False])"
      ]
    },
    {
      "cell_type": "code",
      "execution_count": null,
      "id": "unable-challenge",
      "metadata": {
        "id": "unable-challenge",
        "outputId": "7a2e90f1-97f4-411a-9f91-867feb451182"
      },
      "outputs": [
        {
          "data": {
            "text/plain": [
              "array([ True, False, False, False,  True])"
            ]
          },
          "execution_count": 74,
          "metadata": {},
          "output_type": "execute_result"
        }
      ],
      "source": [
        "x = np.arange(5)\n",
        "np.logical_xor(x < 1, x > 3)"
      ]
    },
    {
      "cell_type": "markdown",
      "id": "drawn-sheep",
      "metadata": {
        "id": "drawn-sheep"
      },
      "source": [
        "### Comparision operations"
      ]
    },
    {
      "cell_type": "markdown",
      "id": "focal-dallas",
      "metadata": {
        "id": "focal-dallas"
      },
      "source": [
        "<b>greater(x1, x2)</b>: x1 > x2"
      ]
    },
    {
      "cell_type": "markdown",
      "id": "bronze-saturday",
      "metadata": {
        "id": "bronze-saturday"
      },
      "source": [
        "<b>greater_equal(x1, x2)</b>: x1 >= x2"
      ]
    },
    {
      "cell_type": "markdown",
      "id": "hydraulic-costume",
      "metadata": {
        "id": "hydraulic-costume"
      },
      "source": [
        "<b>less(x1, x2)</b>: x1 < x2"
      ]
    },
    {
      "cell_type": "markdown",
      "id": "suburban-illness",
      "metadata": {
        "id": "suburban-illness"
      },
      "source": [
        "<b>less_equal(x1, x2)</b>: x1 <= x2"
      ]
    },
    {
      "cell_type": "markdown",
      "id": "prompt-committee",
      "metadata": {
        "id": "prompt-committee"
      },
      "source": [
        "<b>equal(x1, x2)</b>: x1 == x2"
      ]
    },
    {
      "cell_type": "markdown",
      "id": "immune-cemetery",
      "metadata": {
        "id": "immune-cemetery"
      },
      "source": [
        "<b>not_equal(x1, x2)</b>: x1 != x2"
      ]
    },
    {
      "cell_type": "code",
      "execution_count": null,
      "id": "minimal-antibody",
      "metadata": {
        "id": "minimal-antibody"
      },
      "outputs": [],
      "source": []
    }
  ],
  "metadata": {
    "kernelspec": {
      "display_name": "Python 3",
      "language": "python",
      "name": "python3"
    },
    "language_info": {
      "codemirror_mode": {
        "name": "ipython",
        "version": 3
      },
      "file_extension": ".py",
      "mimetype": "text/x-python",
      "name": "python",
      "nbconvert_exporter": "python",
      "pygments_lexer": "ipython3",
      "version": "3.7.9"
    },
    "colab": {
      "provenance": [],
      "toc_visible": true
    }
  },
  "nbformat": 4,
  "nbformat_minor": 5
}